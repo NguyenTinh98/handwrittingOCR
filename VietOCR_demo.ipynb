{
  "nbformat": 4,
  "nbformat_minor": 0,
  "metadata": {
    "colab": {
      "name": "VietOCR_demo.ipynb",
      "provenance": []
    },
    "kernelspec": {
      "name": "python3",
      "display_name": "Python 3"
    },
    "language_info": {
      "name": "python"
    },
    "accelerator": "GPU",
    "widgets": {
      "application/vnd.jupyter.widget-state+json": {
        "ffbd6e09b9684b9ba3e611774f958991": {
          "model_module": "@jupyter-widgets/controls",
          "model_name": "HBoxModel",
          "model_module_version": "1.5.0",
          "state": {
            "_view_name": "HBoxView",
            "_dom_classes": [],
            "_model_name": "HBoxModel",
            "_view_module": "@jupyter-widgets/controls",
            "_model_module_version": "1.5.0",
            "_view_count": null,
            "_view_module_version": "1.5.0",
            "box_style": "",
            "layout": "IPY_MODEL_59e94c693910482fb1cd8954d3349390",
            "_model_module": "@jupyter-widgets/controls",
            "children": [
              "IPY_MODEL_fc31228c836248b8ae75be53aeb2b929",
              "IPY_MODEL_d7abec89806943a6b905dbea34a1e5ae",
              "IPY_MODEL_9251fc441cc348b5a0192e2a3b6abd98"
            ]
          }
        },
        "59e94c693910482fb1cd8954d3349390": {
          "model_module": "@jupyter-widgets/base",
          "model_name": "LayoutModel",
          "model_module_version": "1.2.0",
          "state": {
            "_view_name": "LayoutView",
            "grid_template_rows": null,
            "right": null,
            "justify_content": null,
            "_view_module": "@jupyter-widgets/base",
            "overflow": null,
            "_model_module_version": "1.2.0",
            "_view_count": null,
            "flex_flow": null,
            "width": null,
            "min_width": null,
            "border": null,
            "align_items": null,
            "bottom": null,
            "_model_module": "@jupyter-widgets/base",
            "top": null,
            "grid_column": null,
            "overflow_y": null,
            "overflow_x": null,
            "grid_auto_flow": null,
            "grid_area": null,
            "grid_template_columns": null,
            "flex": null,
            "_model_name": "LayoutModel",
            "justify_items": null,
            "grid_row": null,
            "max_height": null,
            "align_content": null,
            "visibility": null,
            "align_self": null,
            "height": null,
            "min_height": null,
            "padding": null,
            "grid_auto_rows": null,
            "grid_gap": null,
            "max_width": null,
            "order": null,
            "_view_module_version": "1.2.0",
            "grid_template_areas": null,
            "object_position": null,
            "object_fit": null,
            "grid_auto_columns": null,
            "margin": null,
            "display": null,
            "left": null
          }
        },
        "fc31228c836248b8ae75be53aeb2b929": {
          "model_module": "@jupyter-widgets/controls",
          "model_name": "HTMLModel",
          "model_module_version": "1.5.0",
          "state": {
            "_view_name": "HTMLView",
            "style": "IPY_MODEL_aa68bf478af240bb943dd61f27348bf1",
            "_dom_classes": [],
            "description": "",
            "_model_name": "HTMLModel",
            "placeholder": "​",
            "_view_module": "@jupyter-widgets/controls",
            "_model_module_version": "1.5.0",
            "value": "100%",
            "_view_count": null,
            "_view_module_version": "1.5.0",
            "description_tooltip": null,
            "_model_module": "@jupyter-widgets/controls",
            "layout": "IPY_MODEL_90e4c80813874ec98a39aebfa8c855af"
          }
        },
        "d7abec89806943a6b905dbea34a1e5ae": {
          "model_module": "@jupyter-widgets/controls",
          "model_name": "FloatProgressModel",
          "model_module_version": "1.5.0",
          "state": {
            "_view_name": "ProgressView",
            "style": "IPY_MODEL_40d1134ad4fa459fbe0fcd6ee16ad81e",
            "_dom_classes": [],
            "description": "",
            "_model_name": "FloatProgressModel",
            "bar_style": "success",
            "max": 574769405,
            "_view_module": "@jupyter-widgets/controls",
            "_model_module_version": "1.5.0",
            "value": 574769405,
            "_view_count": null,
            "_view_module_version": "1.5.0",
            "orientation": "horizontal",
            "min": 0,
            "description_tooltip": null,
            "_model_module": "@jupyter-widgets/controls",
            "layout": "IPY_MODEL_77c3706f1a654429b714bab0896bf806"
          }
        },
        "9251fc441cc348b5a0192e2a3b6abd98": {
          "model_module": "@jupyter-widgets/controls",
          "model_name": "HTMLModel",
          "model_module_version": "1.5.0",
          "state": {
            "_view_name": "HTMLView",
            "style": "IPY_MODEL_902e966483f04bc1ae60b235636c5cf2",
            "_dom_classes": [],
            "description": "",
            "_model_name": "HTMLModel",
            "placeholder": "​",
            "_view_module": "@jupyter-widgets/controls",
            "_model_module_version": "1.5.0",
            "value": " 548M/548M [00:07&lt;00:00, 89.4MB/s]",
            "_view_count": null,
            "_view_module_version": "1.5.0",
            "description_tooltip": null,
            "_model_module": "@jupyter-widgets/controls",
            "layout": "IPY_MODEL_f57ad0cc91ee475dbad5bc4b8017e648"
          }
        },
        "aa68bf478af240bb943dd61f27348bf1": {
          "model_module": "@jupyter-widgets/controls",
          "model_name": "DescriptionStyleModel",
          "model_module_version": "1.5.0",
          "state": {
            "_view_name": "StyleView",
            "_model_name": "DescriptionStyleModel",
            "description_width": "",
            "_view_module": "@jupyter-widgets/base",
            "_model_module_version": "1.5.0",
            "_view_count": null,
            "_view_module_version": "1.2.0",
            "_model_module": "@jupyter-widgets/controls"
          }
        },
        "90e4c80813874ec98a39aebfa8c855af": {
          "model_module": "@jupyter-widgets/base",
          "model_name": "LayoutModel",
          "model_module_version": "1.2.0",
          "state": {
            "_view_name": "LayoutView",
            "grid_template_rows": null,
            "right": null,
            "justify_content": null,
            "_view_module": "@jupyter-widgets/base",
            "overflow": null,
            "_model_module_version": "1.2.0",
            "_view_count": null,
            "flex_flow": null,
            "width": null,
            "min_width": null,
            "border": null,
            "align_items": null,
            "bottom": null,
            "_model_module": "@jupyter-widgets/base",
            "top": null,
            "grid_column": null,
            "overflow_y": null,
            "overflow_x": null,
            "grid_auto_flow": null,
            "grid_area": null,
            "grid_template_columns": null,
            "flex": null,
            "_model_name": "LayoutModel",
            "justify_items": null,
            "grid_row": null,
            "max_height": null,
            "align_content": null,
            "visibility": null,
            "align_self": null,
            "height": null,
            "min_height": null,
            "padding": null,
            "grid_auto_rows": null,
            "grid_gap": null,
            "max_width": null,
            "order": null,
            "_view_module_version": "1.2.0",
            "grid_template_areas": null,
            "object_position": null,
            "object_fit": null,
            "grid_auto_columns": null,
            "margin": null,
            "display": null,
            "left": null
          }
        },
        "40d1134ad4fa459fbe0fcd6ee16ad81e": {
          "model_module": "@jupyter-widgets/controls",
          "model_name": "ProgressStyleModel",
          "model_module_version": "1.5.0",
          "state": {
            "_view_name": "StyleView",
            "_model_name": "ProgressStyleModel",
            "description_width": "",
            "_view_module": "@jupyter-widgets/base",
            "_model_module_version": "1.5.0",
            "_view_count": null,
            "_view_module_version": "1.2.0",
            "bar_color": null,
            "_model_module": "@jupyter-widgets/controls"
          }
        },
        "77c3706f1a654429b714bab0896bf806": {
          "model_module": "@jupyter-widgets/base",
          "model_name": "LayoutModel",
          "model_module_version": "1.2.0",
          "state": {
            "_view_name": "LayoutView",
            "grid_template_rows": null,
            "right": null,
            "justify_content": null,
            "_view_module": "@jupyter-widgets/base",
            "overflow": null,
            "_model_module_version": "1.2.0",
            "_view_count": null,
            "flex_flow": null,
            "width": null,
            "min_width": null,
            "border": null,
            "align_items": null,
            "bottom": null,
            "_model_module": "@jupyter-widgets/base",
            "top": null,
            "grid_column": null,
            "overflow_y": null,
            "overflow_x": null,
            "grid_auto_flow": null,
            "grid_area": null,
            "grid_template_columns": null,
            "flex": null,
            "_model_name": "LayoutModel",
            "justify_items": null,
            "grid_row": null,
            "max_height": null,
            "align_content": null,
            "visibility": null,
            "align_self": null,
            "height": null,
            "min_height": null,
            "padding": null,
            "grid_auto_rows": null,
            "grid_gap": null,
            "max_width": null,
            "order": null,
            "_view_module_version": "1.2.0",
            "grid_template_areas": null,
            "object_position": null,
            "object_fit": null,
            "grid_auto_columns": null,
            "margin": null,
            "display": null,
            "left": null
          }
        },
        "902e966483f04bc1ae60b235636c5cf2": {
          "model_module": "@jupyter-widgets/controls",
          "model_name": "DescriptionStyleModel",
          "model_module_version": "1.5.0",
          "state": {
            "_view_name": "StyleView",
            "_model_name": "DescriptionStyleModel",
            "description_width": "",
            "_view_module": "@jupyter-widgets/base",
            "_model_module_version": "1.5.0",
            "_view_count": null,
            "_view_module_version": "1.2.0",
            "_model_module": "@jupyter-widgets/controls"
          }
        },
        "f57ad0cc91ee475dbad5bc4b8017e648": {
          "model_module": "@jupyter-widgets/base",
          "model_name": "LayoutModel",
          "model_module_version": "1.2.0",
          "state": {
            "_view_name": "LayoutView",
            "grid_template_rows": null,
            "right": null,
            "justify_content": null,
            "_view_module": "@jupyter-widgets/base",
            "overflow": null,
            "_model_module_version": "1.2.0",
            "_view_count": null,
            "flex_flow": null,
            "width": null,
            "min_width": null,
            "border": null,
            "align_items": null,
            "bottom": null,
            "_model_module": "@jupyter-widgets/base",
            "top": null,
            "grid_column": null,
            "overflow_y": null,
            "overflow_x": null,
            "grid_auto_flow": null,
            "grid_area": null,
            "grid_template_columns": null,
            "flex": null,
            "_model_name": "LayoutModel",
            "justify_items": null,
            "grid_row": null,
            "max_height": null,
            "align_content": null,
            "visibility": null,
            "align_self": null,
            "height": null,
            "min_height": null,
            "padding": null,
            "grid_auto_rows": null,
            "grid_gap": null,
            "max_width": null,
            "order": null,
            "_view_module_version": "1.2.0",
            "grid_template_areas": null,
            "object_position": null,
            "object_fit": null,
            "grid_auto_columns": null,
            "margin": null,
            "display": null,
            "left": null
          }
        }
      }
    }
  },
  "cells": [
    {
      "cell_type": "code",
      "metadata": {
        "colab": {
          "base_uri": "https://localhost:8080/"
        },
        "id": "nUg-K9Ii8Jfc",
        "outputId": "4eb8c8c6-f460-472d-818a-654fb24f782d"
      },
      "source": [
        "from google.colab import drive\n",
        "drive.mount('/content/drive')"
      ],
      "execution_count": 2,
      "outputs": [
        {
          "output_type": "stream",
          "name": "stdout",
          "text": [
            "Mounted at /content/drive\n"
          ]
        }
      ]
    },
    {
      "cell_type": "code",
      "metadata": {
        "colab": {
          "base_uri": "https://localhost:8080/"
        },
        "id": "GjagMzVv87TN",
        "outputId": "a9e28130-3c21-49e9-ab14-80815417efe6"
      },
      "source": [
        "cd /content/drive/MyDrive/my_vietocr/"
      ],
      "execution_count": 3,
      "outputs": [
        {
          "output_type": "stream",
          "name": "stdout",
          "text": [
            "/content/drive/MyDrive/my_vietocr\n"
          ]
        }
      ]
    },
    {
      "cell_type": "code",
      "source": [
        "!pip install einops"
      ],
      "metadata": {
        "colab": {
          "base_uri": "https://localhost:8080/"
        },
        "id": "aZMleqKEe1d4",
        "outputId": "21d6032f-aa9a-4ea2-ea48-ba1e66bdcb2f"
      },
      "execution_count": 4,
      "outputs": [
        {
          "output_type": "stream",
          "name": "stdout",
          "text": [
            "Collecting einops\n",
            "  Downloading einops-0.3.2-py3-none-any.whl (25 kB)\n",
            "Installing collected packages: einops\n",
            "Successfully installed einops-0.3.2\n"
          ]
        }
      ]
    },
    {
      "cell_type": "code",
      "source": [
        "!pip install jiwer"
      ],
      "metadata": {
        "colab": {
          "base_uri": "https://localhost:8080/"
        },
        "id": "3M9hK2fEgN5q",
        "outputId": "4ef4fc38-851e-4246-a3f7-6cfcf3d1048b"
      },
      "execution_count": 5,
      "outputs": [
        {
          "output_type": "stream",
          "name": "stdout",
          "text": [
            "Collecting jiwer\n",
            "  Downloading jiwer-2.3.0-py3-none-any.whl (15 kB)\n",
            "Collecting python-Levenshtein==0.12.2\n",
            "  Downloading python-Levenshtein-0.12.2.tar.gz (50 kB)\n",
            "\u001b[K     |████████████████████████████████| 50 kB 1.7 MB/s \n",
            "\u001b[?25hRequirement already satisfied: setuptools in /usr/local/lib/python3.7/dist-packages (from python-Levenshtein==0.12.2->jiwer) (57.4.0)\n",
            "Building wheels for collected packages: python-Levenshtein\n",
            "  Building wheel for python-Levenshtein (setup.py) ... \u001b[?25l\u001b[?25hdone\n",
            "  Created wheel for python-Levenshtein: filename=python_Levenshtein-0.12.2-cp37-cp37m-linux_x86_64.whl size=149866 sha256=32052c4bb756944cfe51122f84363fe0516ad601126ccc70228225530e572337\n",
            "  Stored in directory: /root/.cache/pip/wheels/05/5f/ca/7c4367734892581bb5ff896f15027a932c551080b2abd3e00d\n",
            "Successfully built python-Levenshtein\n",
            "Installing collected packages: python-Levenshtein, jiwer\n",
            "Successfully installed jiwer-2.3.0 python-Levenshtein-0.12.2\n"
          ]
        }
      ]
    },
    {
      "cell_type": "markdown",
      "source": [
        "# PREDICT"
      ],
      "metadata": {
        "id": "gnPMUL87eyvR"
      }
    },
    {
      "cell_type": "code",
      "source": [
        "import matplotlib.pyplot as plt\n",
        "from PIL import Image\n",
        "\n",
        "from vietocr.tool.predictor import Predictor\n",
        "from vietocr.tool.config import Cfg"
      ],
      "metadata": {
        "id": "_srXMXlngRay"
      },
      "execution_count": 6,
      "outputs": []
    },
    {
      "cell_type": "code",
      "source": [
        "config = Cfg.load_config_from_name('vgg_transformer')"
      ],
      "metadata": {
        "id": "yN1-stWbgTwS"
      },
      "execution_count": 7,
      "outputs": []
    },
    {
      "cell_type": "code",
      "source": [
        "config['weights'] = 'vietocr/weights/1912/transformerocr_30000.pth'\n",
        "config['cnn']['pretrained']=True\n",
        "config['device'] = 'cuda:0'\n",
        "# config['device'] = 'cpu'\n",
        "config['predictor']['beamsearch']=False"
      ],
      "metadata": {
        "id": "t_pdsgkwgVuD"
      },
      "execution_count": 8,
      "outputs": []
    },
    {
      "cell_type": "code",
      "source": [
        "detector = Predictor(config)"
      ],
      "metadata": {
        "id": "zMNqhAh_gqSM",
        "colab": {
          "base_uri": "https://localhost:8080/",
          "height": 66,
          "referenced_widgets": [
            "ffbd6e09b9684b9ba3e611774f958991",
            "59e94c693910482fb1cd8954d3349390",
            "fc31228c836248b8ae75be53aeb2b929",
            "d7abec89806943a6b905dbea34a1e5ae",
            "9251fc441cc348b5a0192e2a3b6abd98",
            "aa68bf478af240bb943dd61f27348bf1",
            "90e4c80813874ec98a39aebfa8c855af",
            "40d1134ad4fa459fbe0fcd6ee16ad81e",
            "77c3706f1a654429b714bab0896bf806",
            "902e966483f04bc1ae60b235636c5cf2",
            "f57ad0cc91ee475dbad5bc4b8017e648"
          ]
        },
        "outputId": "e3f55b00-4903-4bac-eda6-ba367652e443"
      },
      "execution_count": 9,
      "outputs": [
        {
          "output_type": "stream",
          "name": "stderr",
          "text": [
            "Downloading: \"https://download.pytorch.org/models/vgg19_bn-c79401a0.pth\" to /root/.cache/torch/hub/checkpoints/vgg19_bn-c79401a0.pth\n"
          ]
        },
        {
          "output_type": "display_data",
          "data": {
            "application/vnd.jupyter.widget-view+json": {
              "model_id": "ffbd6e09b9684b9ba3e611774f958991",
              "version_minor": 0,
              "version_major": 2
            },
            "text/plain": [
              "  0%|          | 0.00/548M [00:00<?, ?B/s]"
            ]
          },
          "metadata": {}
        }
      ]
    },
    {
      "cell_type": "code",
      "source": [
        "import base64\n",
        "from io import BytesIO\n",
        "from PIL import Image\n",
        "\n",
        "with open(IMG_PATH, \"rb\") as f:\n",
        "    im_b64 = base64.b64encode(f.read())\n",
        "\n",
        "im_bytes = base64.b64decode(im_b64)   # im_bytes is a binary image\n",
        "im_file = BytesIO(im_bytes)  # convert image to file-like object\n",
        "img = Image.open(im_file)   # img is now PIL Image object"
      ],
      "metadata": {
        "id": "fvt81OvMJpEd"
      },
      "execution_count": 15,
      "outputs": []
    },
    {
      "cell_type": "code",
      "source": [
        "# IMG_PATH = '/content/drive/MyDrive/my_vietocr/TestAddr/0100_tests.png'\n",
        "# IMG_PATH = '/content/drive/MyDrive/Diffusion-Handwriting-Generation/assets/writer1.png'\n",
        "# IMG_PATH = '/content/drive/MyDrive/my_vietocr/my_ocr/gen2_100.png'\n",
        "# img = Image.open(IMG_PATH)\n",
        "plt.figure(figsize=(1.2* img.size[0]/img.size[1], 1.2))\n",
        "plt.imshow(img)\n",
        "s = detector.predict(img, True)\n",
        "s"
      ],
      "metadata": {
        "colab": {
          "base_uri": "https://localhost:8080/",
          "height": 134
        },
        "id": "fCUgewdwgqp7",
        "outputId": "b72c8645-015b-45ac-a752-d276636dbbd2"
      },
      "execution_count": 16,
      "outputs": [
        {
          "output_type": "execute_result",
          "data": {
            "text/plain": [
              "('An Giang, Cẩm Lạc Quận 111%,', 0.8951121824128287)"
            ]
          },
          "metadata": {},
          "execution_count": 16
        },
        {
          "output_type": "display_data",
          "data": {
            "image/png": "[encoded data removed]",
            "text/plain": [
              "<Figure size 731.859x86.4 with 1 Axes>"
            ]
          },
          "metadata": {
            "needs_background": "light"
          }
        }
      ]
    },
    {
      "cell_type": "code",
      "source": [
        "config1 = Cfg.load_config_from_name('vgg_transformer')\n",
        "config1['weights'] = 'vietocr/weights/transformerocr14000.pth'\n",
        "config1['cnn']['pretrained']=True\n",
        "# config['device'] = 'cuda:0'\n",
        "config1['device'] = 'cpu'\n",
        "config1['predictor']['beamsearch']=False\n",
        "detector1 = Predictor(config1)"
      ],
      "metadata": {
        "id": "tEi708q0m4A1"
      },
      "execution_count": null,
      "outputs": []
    },
    {
      "cell_type": "code",
      "source": [
        "s = detector1.predict(img, True)\n",
        "s"
      ],
      "metadata": {
        "colab": {
          "base_uri": "https://localhost:8080/"
        },
        "id": "sLNbsIlYnVVy",
        "outputId": "71cd5e83-bf16-4cc2-8c54-300aba24430b"
      },
      "execution_count": null,
      "outputs": [
        {
          "output_type": "execute_result",
          "data": {
            "text/plain": [
              "('61/14A đường số 19, Phường 8, Quận Gò Vấp, TP Hồ Chí Minh',\n",
              " 0.931341664832935)"
            ]
          },
          "metadata": {},
          "execution_count": 25
        }
      ]
    },
    {
      "cell_type": "code",
      "source": [
        "!pip install flask_ngrok"
      ],
      "metadata": {
        "colab": {
          "base_uri": "https://localhost:8080/"
        },
        "id": "RNY0TU_tDbpW",
        "outputId": "62195e4b-d0d0-404b-c97b-4410c607ad6a"
      },
      "execution_count": 10,
      "outputs": [
        {
          "output_type": "stream",
          "name": "stdout",
          "text": [
            "Collecting flask_ngrok\n",
            "  Downloading flask_ngrok-0.0.25-py3-none-any.whl (3.1 kB)\n",
            "Requirement already satisfied: requests in /usr/local/lib/python3.7/dist-packages (from flask_ngrok) (2.23.0)\n",
            "Requirement already satisfied: Flask>=0.8 in /usr/local/lib/python3.7/dist-packages (from flask_ngrok) (1.1.4)\n",
            "Requirement already satisfied: click<8.0,>=5.1 in /usr/local/lib/python3.7/dist-packages (from Flask>=0.8->flask_ngrok) (7.1.2)\n",
            "Requirement already satisfied: Jinja2<3.0,>=2.10.1 in /usr/local/lib/python3.7/dist-packages (from Flask>=0.8->flask_ngrok) (2.11.3)\n",
            "Requirement already satisfied: Werkzeug<2.0,>=0.15 in /usr/local/lib/python3.7/dist-packages (from Flask>=0.8->flask_ngrok) (1.0.1)\n",
            "Requirement already satisfied: itsdangerous<2.0,>=0.24 in /usr/local/lib/python3.7/dist-packages (from Flask>=0.8->flask_ngrok) (1.1.0)\n",
            "Requirement already satisfied: MarkupSafe>=0.23 in /usr/local/lib/python3.7/dist-packages (from Jinja2<3.0,>=2.10.1->Flask>=0.8->flask_ngrok) (2.0.1)\n",
            "Requirement already satisfied: chardet<4,>=3.0.2 in /usr/local/lib/python3.7/dist-packages (from requests->flask_ngrok) (3.0.4)\n",
            "Requirement already satisfied: urllib3!=1.25.0,!=1.25.1,<1.26,>=1.21.1 in /usr/local/lib/python3.7/dist-packages (from requests->flask_ngrok) (1.24.3)\n",
            "Requirement already satisfied: idna<3,>=2.5 in /usr/local/lib/python3.7/dist-packages (from requests->flask_ngrok) (2.10)\n",
            "Requirement already satisfied: certifi>=2017.4.17 in /usr/local/lib/python3.7/dist-packages (from requests->flask_ngrok) (2021.10.8)\n",
            "Installing collected packages: flask-ngrok\n",
            "Successfully installed flask-ngrok-0.0.25\n"
          ]
        }
      ]
    },
    {
      "cell_type": "code",
      "source": [
        "from flask import Flask, render_template, request\n",
        "from werkzeug.utils import secure_filename\n",
        "from flask_ngrok import run_with_ngrok\n",
        "\n",
        "app = Flask(__name__)\n",
        "run_with_ngrok(app)  # Start ngrok when app is run\n",
        "\n",
        "@app.route(\"/\")\n",
        "def my_form():\n",
        "  return render_template('index.html')\n",
        "\n",
        "@app.route('/', methods=['POST'])\n",
        "def my_form_post():\n",
        "    text = request.form['u']\n",
        "    res = predict_text(model, text)\n",
        "    listvar = [text, res]\n",
        "    return render_template('index.html', variable=listvar)\n",
        "\n",
        "\n",
        "if __name__ == '__main__':\n",
        "    app.run()"
      ],
      "metadata": {
        "id": "WOGPVJz4y6VE"
      },
      "execution_count": null,
      "outputs": []
    },
    {
      "cell_type": "code",
      "source": [
        "!pip install flask_restful"
      ],
      "metadata": {
        "colab": {
          "base_uri": "https://localhost:8080/"
        },
        "id": "ENCBYrKgKXMV",
        "outputId": "c22e09d8-bd90-4c67-f461-7c9488434ce2"
      },
      "execution_count": 11,
      "outputs": [
        {
          "output_type": "stream",
          "name": "stdout",
          "text": [
            "Collecting flask_restful\n",
            "  Downloading Flask_RESTful-0.3.9-py2.py3-none-any.whl (25 kB)\n",
            "Requirement already satisfied: Flask>=0.8 in /usr/local/lib/python3.7/dist-packages (from flask_restful) (1.1.4)\n",
            "Collecting aniso8601>=0.82\n",
            "  Downloading aniso8601-9.0.1-py2.py3-none-any.whl (52 kB)\n",
            "\u001b[K     |████████████████████████████████| 52 kB 1.2 MB/s \n",
            "\u001b[?25hRequirement already satisfied: six>=1.3.0 in /usr/local/lib/python3.7/dist-packages (from flask_restful) (1.15.0)\n",
            "Requirement already satisfied: pytz in /usr/local/lib/python3.7/dist-packages (from flask_restful) (2018.9)\n",
            "Requirement already satisfied: Jinja2<3.0,>=2.10.1 in /usr/local/lib/python3.7/dist-packages (from Flask>=0.8->flask_restful) (2.11.3)\n",
            "Requirement already satisfied: itsdangerous<2.0,>=0.24 in /usr/local/lib/python3.7/dist-packages (from Flask>=0.8->flask_restful) (1.1.0)\n",
            "Requirement already satisfied: click<8.0,>=5.1 in /usr/local/lib/python3.7/dist-packages (from Flask>=0.8->flask_restful) (7.1.2)\n",
            "Requirement already satisfied: Werkzeug<2.0,>=0.15 in /usr/local/lib/python3.7/dist-packages (from Flask>=0.8->flask_restful) (1.0.1)\n",
            "Requirement already satisfied: MarkupSafe>=0.23 in /usr/local/lib/python3.7/dist-packages (from Jinja2<3.0,>=2.10.1->Flask>=0.8->flask_restful) (2.0.1)\n",
            "Installing collected packages: aniso8601, flask-restful\n",
            "Successfully installed aniso8601-9.0.1 flask-restful-0.3.9\n"
          ]
        }
      ]
    },
    {
      "cell_type": "code",
      "source": [
        "from flask import Flask,url_for,render_template,request\n",
        "import json\n",
        "import torch\n",
        "import time\n",
        "from flask import Flask, request, jsonify, Blueprint\n",
        "from flask_restful import reqparse, abort, Api, Resource, marshal_with\n",
        "import uuid\n",
        "import base64\n",
        "from flask_ngrok import run_with_ngrok\n",
        "from io import BytesIO\n",
        "from PIL import Image\n",
        "\n",
        "\n",
        "app = Flask(__name__)\n",
        "run_with_ngrok(app)\n",
        "api_bp = Blueprint('api', __name__)\n",
        "api = Api(api_bp)\n",
        "# api = Api(app)\n",
        "\n",
        "parser = reqparse.RequestParser(bundle_errors = True)\n",
        "parser.add_argument('data', type=str, required=True, help='Content cannot be left blank')\n",
        "\n",
        "def convertImgToBase64(img_path):\n",
        "\twith open(img_path, 'rb') as f:\n",
        "\t\treturn base64.encodebytes(f.read()).decode('ascii')\n",
        "\n",
        "def convertBase64ToCV2(img_text):\n",
        "    img_org = base64.b64decode(img_text)\n",
        "    img_np = np.frombuffer(img_org, dtype=np.uint8)\n",
        "    return cv2.imdecode(img_np, flags=1)\n",
        "\n",
        "class HandwrittingOCR(Resource):\n",
        "    def post(self):\n",
        "        # try:\n",
        "            args = parser.parse_args()\n",
        "            im_b64 =  args.data\n",
        "            im_bytes = base64.b64decode(im_b64)   # im_bytes is a binary image\n",
        "            im_file = BytesIO(im_bytes)  # convert image to file-like object\n",
        "            img = Image.open(im_file)\n",
        "            res = detector.predict(img)\n",
        "            data = {'text': res}\n",
        "        # except Exception as e:\n",
        "            # data = {'error': 200}\n",
        "            return jsonify(data)\n",
        "\n",
        "api.add_resource(HandwrittingOCR,'/ocr/')\n",
        "app.register_blueprint(api_bp)\n",
        "\n",
        "if __name__=='__main__':\n",
        "    app.run()"
      ],
      "metadata": {
        "colab": {
          "base_uri": "https://localhost:8080/"
        },
        "id": "44dq7HIrDVXk",
        "outputId": "a08e2ba4-a1ce-4912-edfb-b94b25e55602"
      },
      "execution_count": 14,
      "outputs": [
        {
          "output_type": "stream",
          "name": "stdout",
          "text": [
            " * Serving Flask app \"__main__\" (lazy loading)\n",
            " * Environment: production\n",
            "\u001b[31m   WARNING: This is a development server. Do not use it in a production deployment.\u001b[0m\n",
            "\u001b[2m   Use a production WSGI server instead.\u001b[0m\n",
            " * Debug mode: off\n"
          ]
        },
        {
          "output_type": "stream",
          "name": "stderr",
          "text": [
            " * Running on http://127.0.0.1:5000/ (Press CTRL+C to quit)\n"
          ]
        },
        {
          "output_type": "stream",
          "name": "stdout",
          "text": [
            " * Running on http://0d54-35-222-39-95.ngrok.io\n",
            " * Traffic stats available on http://127.0.0.1:4040\n"
          ]
        },
        {
          "output_type": "stream",
          "name": "stderr",
          "text": [
            "127.0.0.1 - - [21/Dec/2021 08:58:00] \"\u001b[37mPOST /ocr/ HTTP/1.1\u001b[0m\" 200 -\n",
            "127.0.0.1 - - [21/Dec/2021 09:04:03] \"\u001b[37mPOST /ocr/ HTTP/1.1\u001b[0m\" 200 -\n"
          ]
        }
      ]
    },
    {
      "cell_type": "markdown",
      "source": [
        "# TRAIN"
      ],
      "metadata": {
        "id": "yTKIj7H2g2m2"
      }
    },
    {
      "cell_type": "code",
      "source": [
        "from vietocr.tool.config import Cfg\n",
        "from vietocr.model.trainer import Trainer"
      ],
      "metadata": {
        "id": "v4IqpygAg6jI"
      },
      "execution_count": null,
      "outputs": []
    },
    {
      "cell_type": "code",
      "source": [
        "config = Cfg.load_config_from_name('vgg_transformer')"
      ],
      "metadata": {
        "id": "fnc57yjMhfBW"
      },
      "execution_count": null,
      "outputs": []
    },
    {
      "cell_type": "code",
      "source": [
        "#config['vocab'] = 'aAàÀảẢãÃáÁạẠăĂằẰẳẲẵẴắẮặẶâÂầẦẩẨẫẪấẤậẬbBcCdDđĐeEèÈẻẺẽẼéÉẹẸêÊềỀểỂễỄếẾệỆfFgGhHiIìÌỉỈĩĨíÍịỊjJkKlLmMnNoOòÒỏỎõÕóÓọỌôÔồỒổỔỗỖốỐộỘơƠờỜởỞỡỠớỚợỢpPqQrRsStTuUùÙủỦũŨúÚụỤưƯừỪửỬữỮứỨựỰvVwWxXyYỳỲỷỶỹỸýÝỵỴzZ0123456789!\"#$%&\\'()*+,-./:;<=>?@[\\\\]^_`{|}~ '\n",
        "dataset_params = {\n",
        "    'name':'1712_hw',\n",
        "    'data_root':'/content/drive/MyDrive/my_vietocr/',\n",
        "    'data_root_test': '/content/drive/MyDrive/my_vietocr/TestAddr',\n",
        "    'train_annotation':'/content/drive/MyDrive/my_vietocr/vietocr/train_annotation.txt',\n",
        "    'valid_annotation':'/content/drive/MyDrive/my_vietocr/vietocr/valid_annotation.txt',\n",
        "    'test_annotation': '/content/drive/MyDrive/my_vietocr/vietocr/test_annotation.txt'\n",
        "}\n",
        "\n",
        "params = {\n",
        "         'print_every':200,\n",
        "         'valid_every':10*200,\n",
        "          'iters':30000,\n",
        "          'checkpoint':'vietocr/checkpoints/1412/transformerocr_checkpoint.pth',    \n",
        "          'export':'vietocr/weights/transformerocr_1412_',\n",
        "          'metrics': 10000\n",
        "         }\n",
        "config['dataloader']= {'num_workers': 2, 'pin_memory': True}\n",
        "config['trainer'].update(params)\n",
        "config['dataset'].update(dataset_params)\n",
        "config['device'] = 'cuda:0'\n",
        "# config['device'] = 'cpu'\n",
        "config['best_acc'] = 0.0892\n",
        "config['pretrain'] = 'vietocr/weights/1712/transformerocr_24000.pth'\n",
        "config['log'] = 'log/train_.txt'"
      ],
      "metadata": {
        "id": "9bsvLD5Ag54s"
      },
      "execution_count": null,
      "outputs": []
    },
    {
      "cell_type": "code",
      "source": [
        "trainer = Trainer(config, pretrained = True)"
      ],
      "metadata": {
        "colab": {
          "base_uri": "https://localhost:8080/"
        },
        "id": "aDnoH8hchkBB",
        "outputId": "e324946d-53a4-4a41-c756-211950ada303"
      },
      "execution_count": null,
      "outputs": [
        {
          "output_type": "stream",
          "name": "stdout",
          "text": [
            "train_1712_hw exists. Remove folder if you want to create new dataset\n"
          ]
        },
        {
          "output_type": "stream",
          "name": "stderr",
          "text": [
            "train_1712_hw build cluster: 100%|███████████████████████████| 1458/1458 [00:00<00:00, 75413.68it/s]"
          ]
        },
        {
          "output_type": "stream",
          "name": "stdout",
          "text": [
            "valid_1712_hw exists. Remove folder if you want to create new dataset\n"
          ]
        },
        {
          "output_type": "stream",
          "name": "stderr",
          "text": [
            "\n",
            "valid_1712_hw build cluster: 100%|█████████████████████████████| 365/365 [00:00<00:00, 35831.97it/s]"
          ]
        },
        {
          "output_type": "stream",
          "name": "stdout",
          "text": [
            "test_1712_hw exists. Remove folder if you want to create new dataset\n"
          ]
        },
        {
          "output_type": "stream",
          "name": "stderr",
          "text": [
            "\n",
            "test_1712_hw build cluster: 100%|██████████████████████████████| 549/549 [00:00<00:00, 50139.86it/s]\n"
          ]
        }
      ]
    },
    {
      "cell_type": "code",
      "source": [
        "trainer.precision('train')"
      ],
      "metadata": {
        "colab": {
          "base_uri": "https://localhost:8080/"
        },
        "id": "g7DXGuXniTn0",
        "outputId": "1e071ae5-6a70-4efa-ded6-87abcd80efd1"
      },
      "execution_count": null,
      "outputs": [
        {
          "output_type": "stream",
          "name": "stderr",
          "text": [
            "100%|██████████| 46/46 [02:31<00:00,  3.30s/it]\n"
          ]
        },
        {
          "output_type": "stream",
          "name": "stdout",
          "text": [
            "['Số 10, ngõ 171 Kiều Mai, Phường Phúc Diễn, Quận Bắc Từ Liêm, Hà Nội', 'Thị trấn Kinh Môn, Huyện Kinh Môn, Hải Dương', '29/1 đường Gò Công, Phường 13, Quận 5, TP Hồ Chí Minh', '28/6 Trương Công Định, Phường 14, Quận Tân Bình, TP Hồ Chí Minh', 'Số 210 Bạch Mai, Phường Cầu Dền, Quận Hai Bà Trưng, Hà Nội', 'Xóm 1, Thôn Cam 1, Xã Cổ Bi, Huyện Gia Lâm, Hà Nội', '185/50 Ba Tháng Hai, Phường 11, Quận 10, TP Hồ Chí Minh', '31B Trưng Nhị, Phường Đức Nghĩa, Thành phố Phan Thiết, Bình Thuận', '168B Bùi Thị Xuân, Phường Phạm Ngũ Lão, Quận 1, TP Hồ Chí Minh', 'Số 260 Khương Đình, Phường Hạ Đình, Quận Thanh Xuân, Hà Nội', 'Số nhà 42 Xuân Diệu, Phường Tân Lợi, TP.Buôn Ma Thuột, Đắc Lắc', '35/11 Trần Đình Xu, Phường Cầu Kho, Quận 1, TP Hồ Chí Minh', 'Số 43, Đường Thăng Long, Phường 4, Quận Tân Bình, TP Hồ Chí Minh', '06 Hai Bà Trưng, Phường Bến Nghé, Quận 1, TP Hồ Chí Minh', 'Ô5, Khu B, Thị trấn Hậu Nghĩa, Huyện Đức Hoà, Long An', 'P204, B10 phường Thanh Xuân Bắc, Quận Thanh Xuân, Hà Nội', 'Khu vực I,, Thị trấn Đông Thành, Huyện Đức Huệ, Long An', 'Thôn Văn Quỳ, Xã Văn Tiến, Thành phố Yên Bái, Yên Bái', 'A8/7K13 ấp 1, Xã Vĩnh Lộc B, Huyện Bình Chánh, TP Hồ Chí Minh', '19 Đường 31F, Phường An Phú, Quận 2, TP Hồ Chí Minh', '59/10 Đinh Bộ Lĩnh, Phường 26, Quận Bình Thạnh, TP Hồ Chí Minh', 'Nhà ông Vụ, thôn Anh Dũng, Xã Đông La, Huyện Đông Hưng, Thái Bình', 'Số nhà 12/4, Phường Tây Sơn, Thị Xã Tam Điệp, Ninh Bình', 'Số 19/5, ngõ 178 Tây Sơn, Phường Trung Liệt, Quận Đống đa, Hà Nội', 'Xóm số 6, Xã Sơn Cẩm, Huyện Phú Lương, Thái Nguyên', 'Khu 8, Xã Thanh Đình, Thành phố Việt Trì, Phú Thọ', '28/137, KP 3, Phường Tân Mai, Thành Phố Biên Hoà, Đồng Nai', 'Số 9/50 Chùa hàng, Quận Lê Chân, Hải Phòng', 'Số 57/22 Phú Lộc, Phường 6, Quận Tân Bình, TP Hồ Chí Minh', 'Tổ 3, Thị trấn Hà Lam, Huyện Thăng Bình, Quảng Nam']\n",
            "['Số 19, ngõ 171 Kiều Mai, Phường Phúc Diễn, Quận Bắc Từ Liêm, Hà Nội', 'Thị trấn Kinh Môn, Huyện Kinh Môn, Hải Dương', '29/1 đường Gò Công, Phường 13, Quận 5, TP Hồ Chí Minh', '28/6 Trương Công Định, Phường 14, Quận Tân Bình, TP Hồ Chí Minh', 'Số 210 Bạch Mai, Phường Cầu Dền, Quận Hai Bà Trưng, Hà Nội', 'Xóm 1, Thôn Cam 1, Xã Cổ Bi, Huyện Gia Lâm, Hà Nội', '185/50 Ba Tháng Hai, Phường 11, Quận 10, TP Hồ Chí Minh', '31B Trưng Nhị, Phường Đức Nghĩa, Thành phố Phan Thiết, Bình Thuận', '168B Bùi Thị Xuân, Phường Phạm Ngũ Lão, Quận 1, TP Hồ Chí Minh', 'Số 260 Khương Đình, Phường Hạ Đình, Quận Thanh Xuân, Hà Nội', 'Số nhà 42 Xuân Diệu, Phường Tân Lợi, TP.Buôn Ma Thuột, Đắc Lắc', '35/11 Trần Đình Xu, Phường Cầu Kho, Quận 1, TP Hồ Chí Minh', 'Số 43, Đường Thăng Long, Phường 4, Quận Tân Bình, TP Hồ Chí Minh', '06 Hai Bà Trưng, Phường Bến Nghé, Quận 1, TP Hồ Chí Minh', 'Ô5, Khu B, Thị trấn Hậu Nghĩa, Huyện Đức Hoà, Long An', 'P204, B10 phường Thanh Xuân Bắc, Quận Thanh Xuân, Hà Nội', 'Khu vực I,, Thị trấn Đông Thành, Huyện Đức Huệ, Long An', 'Thôn Văn Quỳ, Xã Văn Tiến, Thành phố Yên Bái, Yên Bái', 'A8/7K13 ấp 1, Xã Vĩnh Lộc B, Huyện Bình Chánh, TP Hồ Chí Minh', '19 Đường 31F, Phường An Phú, Quận 2, TP Hồ Chí Minh', '59/10 Đinh Bộ Lĩnh, Phường 26, Quận Bình Thạnh, TP Hồ Chí Minh', 'Nhà ông Vụ, thôn Anh Dũng, Xã Đông La, Huyện Đông Hưng, Thái Bình', 'Số nhà 12/4, Phường Tây Sơn, Thị Xã Tam Điệp, Ninh Bình', 'Số 19/5, ngõ 178 Tây Sơn, Phường Trung Liệt, Quận Đống đa, Hà Nội', 'Xóm số 6, Xã Sơn Cẩm, Huyện Phú Lương, Thái Nguyên', 'Khu 8, Xã Thanh Đình, Thành phố Việt Trì, Phú Thọ', '28/137, KP 3, Phường Tân Mai, Thành Phố Biên Hoà, Đồng Nai', 'Số 9/50 Chùa hàng, Quận Lê Chân, Hải Phòng', 'Số 57/22 Phú Lộc, Phường 6, Quận Tân Bình, TP Hồ Chí Minh', 'Tổ 3, Thị trấn Hà Lam, Huyện Thăng Bình, Quảng Nam']\n"
          ]
        },
        {
          "output_type": "execute_result",
          "data": {
            "text/plain": [
              "(0.006890985671849866, 0.0037640051312146368)"
            ]
          },
          "metadata": {},
          "execution_count": 11
        }
      ]
    },
    {
      "cell_type": "code",
      "source": [
        "trainer.precision('test')"
      ],
      "metadata": {
        "colab": {
          "base_uri": "https://localhost:8080/"
        },
        "id": "9_CH_SjkinSE",
        "outputId": "f36b81ae-3967-4281-8944-def38801705f"
      },
      "execution_count": null,
      "outputs": [
        {
          "output_type": "stream",
          "name": "stderr",
          "text": [
            "100%|██████████| 18/18 [00:56<00:00,  3.12s/it]"
          ]
        },
        {
          "output_type": "stream",
          "name": "stdout",
          "text": [
            "['Đội 8, thôn Văn Lăng, Xã Trực Tuấn, Huyện Trực Ninh, Nam Định', 'Đội 18, Xã Thanh Nưa, Huyện Điện Biên, Điện Biên', 'Số 58 Hòa Nam, Phường ô Chợ Dài, Quận Đống Đa, Hà Nội', '88A Kha Vạn Cân, Phường Hiệp Bình Chánh, Quận Thủ Đức, TP Hồ Chí Minh', 'Số 16D, khu phố Bình Hòa, Phường Lái Thiêu, TX Thuận An, Bình Dương', '13 Nguyễn Quang Bách, phường 13, Quận Tân Bình, TP Hồ Chí Minh', '127/8 F2/106, Mậu Thân, Phường An Hoà, Quận Ninh Kiều, Cần Thơ', '29 Lan Sơ, Phường 2, Quận Tân Tân, TP Hồ Chí Minh', 'Tổ 20, Thị Trấn Đông Anh, Thị trấn Đông Anh, Huyện Đông Anh, Hà Nội', 'Thôn Chợ, Xã Bình Minh, Huyện Thanh Oai, Hà Nội', '152 Sinh Trung, Phường Vạn Thạnh, Thành phố Nha Trang, Khánh Hòa', '84 Nguyễn Văn Linh, Quận Hải Châu, Đà Nẵng', 'Khu 6 Tràng Việt, Xã Tràng Việt, Huyện Nhê Linh, Hà Nội', 'Thôn Phú Sơn, Xã Hàm Mỹ, Huyện Hàm Thuận Nam, Bình Thuận', '25, Tân Trào, Phường Tân An, Quận Ninh Kiều, Cần Thơ', '28/58 Nguyễn Đình Khai, Phường 4, Quận Tân Bình, TP Hồ Chí Minh', '63H Cư xá Phúm Lâm D, Phường 10, Quận 6, TP Hồ Chí Minh', 'ấp Sở Tạt, Xã Thạnh phú, Huyện Cái Nhước, Cà Mau', 'K34/17 đường Đàm Văn Lế, Phường Hoà An, Quận Cẩm Lệ, Đà Nẵng', 'Nhà số 69 ngõ 10 Mạc Thái Tổ, Phường Yên Hoà, Quận Cầu Giấy, Hà Nội', 'Đường Trần Nhật Duật, Phường Kim Tân, Thành phố Lão Cai, Lào Cai', '235/12 Đường Trục, Phường 13, Quận Bình Thạnh, TP Hồ Chí Minh', 'Đường 868, Phường 3, Thị xã Cai Lậy, Tiền Giang', '839 Ngô Quyền, Phường An Hải Đông, Quận Sơn Trà, Đà Nẵng', 'QL1A, KV 7, Phường Bài Thị Xuân, Thành Phố Quy Nhơn, Bình Dương', 'Số 354 Đường Tô Hiệu, Quận Lê Chân, Hải Phòng', 'Số nhà 63 tổ 19, phố Mai Dịch, Phường Hai Dịch, Quận Cầu Giấy, Hà Nội', 'Số 428 Bạch Đằng, Phường Bạch Đằng, Quận Hai Bà Trưng, Hà Nội', '423/22 Nguyễn Kiêm, Phường 09, Quận Phú Nhuận, TP Hồ Chí Minh', '63/3 đường số 1, Phường Long Trường, Quận 9, TP Hồ Chí Minh']\n",
            "['Đội 8, thôn Văn Lăng, Xã Trực Tuấn, Huyện Trực Ninh, Nam Định', 'Đội 18, Xã Thanh Nưa, Huyện Điện Biên, Điện Biên', 'Số 38 Hào Nam, Phường ô Chợ Dừa, Quận Đống đa, Hà Nội', '88A Kha Vạn Cân, Phường Hiệp Bình Chánh, Quận Thủ Đức, TP Hồ Chí Minh', 'Số 16D, khu phố Bình Hòa, Phường Lái Thiêu, TX Thuận An, Bình Dương', '73 Nguyễn Quang Bích, Phường 13, Quận Tân Bình, TP Hồ Chí Minh', '127/8F2/10G, Mậu Thân, Phường An Hòa, Quận Ninh Kiều, Cần Thơ', '29 Lam Sơn, Phường 2, Quận Tân Bình, TP Hồ Chí Minh', 'Tổ 20, Thị Trấn Đông Anh, Thị trấn Đông Anh, Huyện Đông Anh, Hà Nội', 'Thôn Chợ, Xã Bình Minh, Huyện Thanh Oai, Hà Nội', '51 Sinh Trung, Phường Vạn Thạnh, Thành phố Nha Trang, Khánh Hòa', '84 Nguyễn Văn Linh, Quận Hải Châu, Đà Nẵng', 'Khu 6 Tráng Việt, Xã Tráng Việt, Huyện Mê Linh, Hà Nội', 'Thôn Phú Sơn, Xã Hàm Mỹ, Huyện Hàm Thuận Nam, Bình Thuận', '25, Tân Trào, Phường Tân An, Quận Ninh Kiều, Cần Thơ', '8/58 Nguyễn Đình Khơi, Phường 4, Quận Tân Bình, TP Hồ Chí Minh', '63H Cư Xá Phú Lâm D, Phường 10, Quận 6, TP Hồ Chí Minh', 'ấp Sở Tại, Xã Thạnh Phú, Huyện Cái Nước, Cà Mau', 'K34/17 đường Đàm Văn Lễ, Phường Hoà An, Quận Cẩm Lệ, Đà Nẵng', 'Nhà số 69 ngõ 10 Mạc Thái Tổ, Phường Yên Hoà, Quận Cầu Giấy, Hà Nội', 'Đường Trần Nhật Duật -, Phường Kim Tân, Thành phố Lào Cai, Lào Cai', '235/22 Đường Trục, Phường 13, Quận Bình Thạnh, TP Hồ Chí Minh', 'Đường 868, Phường 3, Thị Xã Cai Lậy, Tiền Giang', '839 Ngô Quyền, Phường An Hải Đông, Quận Sơn Trà, Đà Nẵng', 'QL 1A, KV 7, Phường Bùi Thị Xuân, Thành phố Quy Nhơn, Bình Định', 'Số 354 Đường Tô hiệu, Quận Lê Chân, Hải Phòng', 'Số nhà 63 tổ 19, phố Mai Dịch, Phường Mai Dịch, Quận Cầu Giấy, Hà Nội', 'Số 728 Bạch Đằng, Phường Bạch Đằng, Quận Hai Bà Trưng, Hà Nội', '423/22 Nguyễn Kiệm, Phường 09, Quận Phú Nhuận, TP Hồ Chí Minh', '63/3 Đường số 1, Phường Long Trường, Quận 9, TP Hồ Chí Minh']\n"
          ]
        },
        {
          "output_type": "stream",
          "name": "stderr",
          "text": [
            "\n"
          ]
        },
        {
          "output_type": "execute_result",
          "data": {
            "text/plain": [
              "(0.14177112516874676, 0.05024597173695388)"
            ]
          },
          "metadata": {},
          "execution_count": 12
        }
      ]
    },
    {
      "cell_type": "code",
      "source": [
        "trainer.precision()"
      ],
      "metadata": {
        "colab": {
          "base_uri": "https://localhost:8080/"
        },
        "id": "R35zY_i2ipJ7",
        "outputId": "45e1f94a-31fd-4f71-f95e-377db30fa1c2"
      },
      "execution_count": null,
      "outputs": [
        {
          "output_type": "stream",
          "name": "stderr",
          "text": [
            "100%|██████████| 12/12 [00:37<00:00,  3.16s/it]"
          ]
        },
        {
          "output_type": "stream",
          "name": "stdout",
          "text": [
            "['161D/68 đường Lạc Long Quân, Phường 3, Quận 11, TP Hồ Chí Minh', 'ấp Lĩnh, Quới Xã Vĩnh An, Huyện Châu Thanh, An Giang', '319-B4 Lý Thường Kiệt, Phường 15, Quận 11, TP Hồ Chí Minh', 'Số nhà 24, á Lữ, Phường Trần Phú, Thành phố Bắc Giang, Bắc Giang', 'Số 81/9, Tổ 2, KP 9, Phường Tam Hiệp, Thành phố Biên Hoà, Đồng Nai', 'Thôn Đại Từ, xã Đông Chịnh, Huyện Đông Sơn, Thanh Hoá', 'Số 9-16 ấp 4, Xã Nhị Bình, Huyện Hóc Mớn, TP Hồ Chí Minh', '39 Phùng Khắc Khoan, Phường Đa Kao, Quận 1, TP Hồ Chí Minh', 'KCN Bình Dương, TX Dĩ An, Bình Dương', 'Thị trấn Chư Sê, Huyện Chư Sê, Gia Lai', 'ấp Vĩnh Tiến, Huyện Vĩnh Thạnh, Cần Thơ', '117A Bình Thới, Phường 11, Quận 11, TP Hồ Chí Minh', '101 Hùng Dương, Phường An Phú, Thành Phố Tam Kỳ, Quảng Nam', 'Số 137 đường Phan Chu Trinh, Phường Đội Cung, Thành phố Vinh, Nghệ An', 'Thôn Phước Hậu, Phường 9, TP Tuy Hoà, Phú Yên', 'Bản Mỏ Nghĩ 3, Xã Quang Huy, Huyện Phù Yên, Sơn La', 'Số 7ạ ngõ 690 Lạc Long Quân, Phường Nhật Tân, Quận Tây Hồ, Hà Nội', 'Xã Quảng Hùng, Huyện Quảng Xương, Thanh Hoá', 'Số 9 Lê Lợi, Thị trấn Mỹ Xuyên, Huyện Mỹ Xuyên, Sóc Trăng', 'Số 66/1, quốc lộ 61, Xã Tân Tiến, TP Vị Thanh, Hậu Giang', 'Xã Trà Phong, Huyện Tây Trá, Quảng Ngãi', 'Số 58 Tăng Thiết Giáp, Phường Cổ Nhuế 2, Quận Bắc Từ Liêm, Hà Nội', 'Số nhà 52, tỉnh lộ 5, thôn 2, Xã Cư ê Bun, Tp.Buôn Ma Thuột, Đắc Lắc', 'Phường Thanh Sơn, Phường Thanh Sơi, Thành phố Vông Bí, Quảng Ninh', 'ấp Vĩnh Lộc, Huyện Vĩnh Thạnh, Cần Thơ', 'Thôn Bến Hầu, xã Trường Sơn, Huyện Đức Thọ, Hà Tĩnh', 'Phố Lê Lương, Thị trấn Đầm Hà, Huyện Đầm Hà, Quảng Ninh', 'Thôn K dâm 1, Xã Ia K Dàm, Huyện Ia Pa, Gia Lai', 'Khối 10 - Thị trấn Thạch Hà, Huyện Thạnh Hà, Hà Tĩnh', 'Số 98 Quốc lộ 13, Phường 26, Quận Bình Thạnh, TP Hồ Chí Minh']\n",
            "['161D/68 đường Lạc Long Quân, Phường 3, Quận 11, TP Hồ Chí Minh', 'ấp Vĩnh Quới, xã Vĩnh An, Huyện Châu Thành, An Giang', '319-B4 Lý Thường Kiệt, Phường 15, Quận 11, TP Hồ Chí Minh', 'Số nhà 24, á Lữ, Phường Trần Phú, Thành phố Bắc Giang, Bắc Giang', 'Số 81/9, Tổ 2, KP 7, Phường Tam Hiệp, Thành Phố Biên Hoà, Đồng Nai', 'Thôn Đại Từ, Xã Đông Thịnh, Huyện Đông Sơn, Thanh Hoá', 'Số 9-16 ấp 4, Xã Nhị Bình, Huyện Hóc Môn, TP Hồ Chí Minh', '39 Phùng Khắc Khoan, Phường Đa Kao, Quận 1, TP Hồ Chí Minh', 'KCN Bình Đường, TX Dĩ An, Bình Dương', 'Thị trấn Chư Sê, Huyện Chư Sê, Gia Lai', 'ấp Vĩnh Tiến, Huyện Vĩnh Thạnh, Cần Thơ', '117A Bình Thới, Phường 11, Quận 11, TP Hồ Chí Minh', '101 Hùng Vương, Phường An Phú, Thành Phố Tam Kỳ, Quảng Nam', 'Số 137 đường Phan Chu Trinh, Phường Đội Cung, Thành phố Vinh, Nghệ An', 'Thôn Phước Hậu, Phường 9, TP Tuy Hoà, Phú Yên', 'Bản Mo Nghè 3, Xã Quang Huy, Huyện Phù Yên, Sơn La', 'Số 7A ngõ 690 Lạc Long Quân, Phường Nhật Tân, Quận Tây Hồ, Hà Nội', 'Xã Quảng Hùng, Huyện Quảng Xương, Thanh Hoá', 'Số 9 Lê Lợi, Thị trấn Mỹ Xuyên, Huyện Mỹ Xuyên, Sóc Trăng', 'Số 66/1, quốc lộ 61, Xã Tân Tiến, Tp Vị Thanh, Hậu Giang', 'Xã Trà Phong, Huyện Tây Trà, Quảng Ngãi', 'Số 58 Tăng Thiết Giáp, Phường Cổ Nhuế 2, Quận Bắc Từ Liêm, Hà Nội', 'Số nhà 52, tỉnh lộ 5, thôn 2, Xã Cư êBur, Tp.buôn Ma Thuột, Đắc Lắc', 'Phường Thanh Sơn, Phường Thanh Sơn, Thành phố Uông Bí, Quảng Ninh', 'ấp Vĩnh Lộc, Huyện Vĩnh Thạnh, Cần Thơ', 'Thôn Bến Hầu, xã Trường Sơn, Huyện Đức Thọ, Hà Tĩnh', 'Phố Lê Lương, Thị trấn Đầm Hà, Huyện Đầm Hà, Quảng Ninh', 'Thôn Kdăm 1, Xã Ia KDăm, Huyện IaPa, Gia Lai', 'Khối 10-Thị trấn Thạch Hà, Huyện Thạch Hà, Hà Tĩnh', 'Số 98 Quốc lộ 13, Phường 26, Quận Bình Thạnh, TP Hồ Chí Minh']\n"
          ]
        },
        {
          "output_type": "stream",
          "name": "stderr",
          "text": [
            "\n"
          ]
        },
        {
          "output_type": "execute_result",
          "data": {
            "text/plain": [
              "(0.0895144440571515, 0.02793331154039278)"
            ]
          },
          "metadata": {},
          "execution_count": 13
        }
      ]
    },
    {
      "cell_type": "code",
      "source": [
        "for i in trainer.valid_gen:\n",
        "  batch0 = i\n",
        "  break"
      ],
      "metadata": {
        "id": "XJx5ZRUsmkf9"
      },
      "execution_count": null,
      "outputs": []
    },
    {
      "cell_type": "code",
      "source": [
        "batch0['img'][0]"
      ],
      "metadata": {
        "colab": {
          "base_uri": "https://localhost:8080/"
        },
        "id": "2EIr2-z0oV-9",
        "outputId": "d052b67b-6927-4c17-c8ef-b621c9490e3b"
      },
      "execution_count": null,
      "outputs": [
        {
          "output_type": "execute_result",
          "data": {
            "text/plain": [
              "tensor([[[0.8863, 0.8902, 0.8863,  ..., 0.8863, 0.8824, 0.8863],\n",
              "         [0.8902, 0.8941, 0.8941,  ..., 0.8902, 0.8863, 0.8863],\n",
              "         [0.8902, 0.8941, 0.8941,  ..., 0.8863, 0.8863, 0.8824],\n",
              "         ...,\n",
              "         [0.8863, 0.8824, 0.8863,  ..., 0.8863, 0.8902, 0.8941],\n",
              "         [0.8824, 0.8824, 0.8784,  ..., 0.8863, 0.8824, 0.8863],\n",
              "         [0.8824, 0.8824, 0.8824,  ..., 0.8980, 0.8980, 0.8941]],\n",
              "\n",
              "        [[0.8863, 0.8902, 0.8863,  ..., 0.8941, 0.8902, 0.8902],\n",
              "         [0.8902, 0.8941, 0.8941,  ..., 0.8902, 0.8863, 0.8863],\n",
              "         [0.8902, 0.8941, 0.8941,  ..., 0.8863, 0.8863, 0.8824],\n",
              "         ...,\n",
              "         [0.8824, 0.8902, 0.8863,  ..., 0.8902, 0.8941, 0.8941],\n",
              "         [0.8824, 0.8824, 0.8784,  ..., 0.8941, 0.8863, 0.8863],\n",
              "         [0.8824, 0.8824, 0.8824,  ..., 0.8863, 0.8902, 0.8863]],\n",
              "\n",
              "        [[0.9255, 0.9294, 0.9255,  ..., 0.9294, 0.9294, 0.9373],\n",
              "         [0.9294, 0.9333, 0.9333,  ..., 0.9216, 0.9137, 0.9176],\n",
              "         [0.9294, 0.9333, 0.9333,  ..., 0.9216, 0.9216, 0.9176],\n",
              "         ...,\n",
              "         [0.9255, 0.9176, 0.9176,  ..., 0.9216, 0.9216, 0.9255],\n",
              "         [0.9216, 0.9216, 0.9216,  ..., 0.9255, 0.9176, 0.9176],\n",
              "         [0.9216, 0.9216, 0.9216,  ..., 0.9333, 0.9294, 0.9216]]])"
            ]
          },
          "metadata": {},
          "execution_count": 19
        }
      ]
    },
    {
      "cell_type": "markdown",
      "source": [
        "# OTHERS"
      ],
      "metadata": {
        "id": "SvWnoZfwewip"
      }
    },
    {
      "cell_type": "code",
      "metadata": {
        "id": "aosrEqJo8_KT"
      },
      "source": [
        "import json\n",
        "\n",
        "def read_json(path):\n",
        "  with open(path, 'r', encoding='utf-8') as f:\n",
        "    return json.load(f)\n",
        "\n",
        "def write_json(dt, path):\n",
        "  with open(path, 'w', encoding='utf-8') as f:\n",
        "    json.dump(dt, f)\n"
      ],
      "execution_count": null,
      "outputs": []
    },
    {
      "cell_type": "code",
      "metadata": {
        "id": "GXyO-zQ-9Zwg"
      },
      "source": [
        "test_pred = read_json('test_predict.json')"
      ],
      "execution_count": null,
      "outputs": []
    },
    {
      "cell_type": "code",
      "metadata": {
        "id": "eU2_s0sG9l6P"
      },
      "source": [
        "test_label = read_json('labels_test.json')"
      ],
      "execution_count": null,
      "outputs": []
    },
    {
      "cell_type": "code",
      "source": [
        "arr = [len(train_label[i]) for i in train_label]"
      ],
      "metadata": {
        "id": "SaxEh83YiUhW"
      },
      "execution_count": null,
      "outputs": []
    },
    {
      "cell_type": "code",
      "source": [
        "train_label = read_json('train_label.json')\n",
        "train_pred = read_json('train_predict.json')"
      ],
      "metadata": {
        "id": "xcQ3FyP7j2Lg"
      },
      "execution_count": null,
      "outputs": []
    },
    {
      "cell_type": "code",
      "source": [
        "all_text = []\n",
        "for i in train_label:\n",
        "  all_text+= train_label[i].strip().split(',')"
      ],
      "metadata": {
        "id": "KzLLj9Lnibtq"
      },
      "execution_count": null,
      "outputs": []
    },
    {
      "cell_type": "code",
      "source": [
        "all_texts = {}\n",
        "num = len(all_text)\n",
        "for i in range(1000):\n",
        "  idx = [i%num, (i*10+5)%num, (i*100+5)%num]\n",
        "  temp = ', '.join([all_text[ii].strip() for ii in idx])\n",
        "  if len(temp) < 40:\n",
        "    all_texts['gen2_' + str(i)] =  temp"
      ],
      "metadata": {
        "id": "Bf9wzi53ki7V"
      },
      "execution_count": null,
      "outputs": []
    },
    {
      "cell_type": "code",
      "source": [
        "write_json(all_texts, 'gen2_text.json')"
      ],
      "metadata": {
        "id": "e9vDiP_2tnaK"
      },
      "execution_count": null,
      "outputs": []
    },
    {
      "cell_type": "code",
      "source": [
        "len(all_texts)"
      ],
      "metadata": {
        "colab": {
          "base_uri": "https://localhost:8080/"
        },
        "id": "RrcyllnjslZJ",
        "outputId": "59a8993c-3003-4974-869a-d57c1f7a0458"
      },
      "execution_count": null,
      "outputs": [
        {
          "output_type": "execute_result",
          "data": {
            "text/plain": [
              "475"
            ]
          },
          "metadata": {},
          "execution_count": 38
        }
      ]
    },
    {
      "cell_type": "code",
      "metadata": {
        "colab": {
          "base_uri": "https://localhost:8080/"
        },
        "id": "rP79EBtL-qns",
        "outputId": "b9fe6d06-5e0a-46e1-899b-697894bc3a9f"
      },
      "source": [
        "test_label"
      ],
      "execution_count": null,
      "outputs": [
        {
          "output_type": "execute_result",
          "data": {
            "text/plain": [
              "{'0000_tests.png': 'Số 10, đường Lý Văn Lâm, Phường 1, Thành Phố Cà Mau, Cà Mau',\n",
              " '0001_tests.png': '271 Huỳnh Ngọc Huệ, Phường Hoà Khê, Quận Thanh Khê, Đà Nẵng',\n",
              " '0002_tests.png': 'Số 35/70B, KP 9, Phường Hố Nai, Thành Phố Biên Hoà, Đồng Nai',\n",
              " '0003_tests.png': 'Số 187, tổ 8, ấp Tân Hòa, Xã Tân Tiến, Huyện Bù Đốp, Bình Phước',\n",
              " '0004_tests.png': 'Số 47, tổ 2D, khu 1, Phường Gia Cẩm, Thành phố Việt Trì, Phú Thọ',\n",
              " '0005_tests.png': 'Thôn Cầu Đen, Xã Thanh Xuân, Huyện Sóc Sơn, Hà Nội',\n",
              " '0006_tests.png': '35 Ni Sư Huỳnh Liên, Phường 10, Quận Tân Bình, TP Hồ Chí Minh',\n",
              " '0007_tests.png': 'Số 33 Trần Cao Vân, Phường Ngọc Trạo, Thành phố Thanh Hoá, Thanh Hoá',\n",
              " '0008_tests.png': 'Số 99 phố Yên Phúc, Phường Phúc La, Quận Hà Đông, Hà Nội',\n",
              " '0009_tests.png': 'Số 12, ngõ 11, phố Thái Hà, Phường Trung Liệt, Quận Đống đa, Hà Nội',\n",
              " '0010_tests.png': 'Số 9 lô 5/6A Bạch Đằng, Phường Hạ Lý, Quận Hồng Bàng, Hải Phòng',\n",
              " '0011_tests.png': '6/2 Lầu Tân Khai, Phường 4, Quận 11, TP Hồ Chí Minh',\n",
              " '0012_tests.png': 'A5B2 Đường 30/4, P.Xuân Khánh, Quận Ninh Kiều, Cần Thơ',\n",
              " '0013_tests.png': '61/14A Đường số 19, Phường 8, Quận Gò Vấp, TP Hồ Chí Minh',\n",
              " '0014_tests.png': '49 Tự Phước, Thành phố Đà Lạt, Lâm Đồng',\n",
              " '0015_tests.png': 'ấp 2, xã Tân Thanh, Xã Tân Thanh, Huyện Cái Bè, Tiền Giang',\n",
              " '0016_tests.png': '205 Lê Lợi, Thành Phố Phan Thiết, Bình Thuận',\n",
              " '0017_tests.png': 'B8 đường 672, khu phố 1, Phường Phước Long B, Quận 9, TP Hồ Chí Minh',\n",
              " '0018_tests.png': 'Số 14 Dãy B3 Khu tập thể sân bay, Xã Phú Minh, Huyện Sóc Sơn, Hà Nội',\n",
              " '0019_tests.png': 'Số 121/3A khóm 3, Phường 9, Thành Phố Vĩnh Long, Vĩnh Long',\n",
              " '0020_tests.png': 'Khóm Long An B, Phường Long Phú, Thị xã Tân Châu, An Giang',\n",
              " '0021_tests.png': 'SN 040 - Tổ 6, Phường Tân Giang, Thành phố Cao Bằng, Cao Bằng',\n",
              " '0022_tests.png': 'KCN Lương Sơn, Km 36, Xã Hòa Sơn, Huyện Lương Sơn, Hòa Bình',\n",
              " '0023_tests.png': '198/229A Đoàn Văn Bơ, phường 10, Quận 4, TP Hồ Chí Minh',\n",
              " '0024_tests.png': 'Số 260, ấp Khánh Nhơn, Xã Tân Khánh Đông, Thành Phố Sa Đéc, Đồng Tháp',\n",
              " '0025_tests.png': 'Thôn Phú Sơn, Xã Hàm Mỹ, Huyện Hàm Thuận Nam, Bình Thuận',\n",
              " '0026_tests.png': 'Số 5D72 ngõ Nam Phát 1, Phường Đằng Giang, Quận Ngô Quyền, Hải Phòng',\n",
              " '0027_tests.png': 'Số 152, Tổ 1, ấp 1, Xã Mỹ Hiệp, Huyện Cao Lãnh, Đồng Tháp',\n",
              " '0028_tests.png': 'ấp 5, Xã Đốc Binh Kiều, Huyện Tháp Mười, Đồng Tháp',\n",
              " '0029_tests.png': 'Tổ 19 P, Phường Mỹ An, Quận Ngũ Hành Sơn, Đà Nẵng',\n",
              " '0030_tests.png': 'Thôn Cầu Trong, Xã Mỹ Thái, Huyện Lạng Giang, Bắc Giang',\n",
              " '0031_tests.png': '25 ngách 23, ngõ Thịnh Hào 2, Phường Hàng Bột, Quận Đống đa, Hà Nội',\n",
              " '0032_tests.png': 'Tổ 4, Khu 8, Phường Cẩm Thành, Thành phố Cẩm Phả, Quảng Ninh',\n",
              " '0033_tests.png': 'xã Hà Tây, Xã Hà Tây, Huyện Chư Păh, Gia Lai',\n",
              " '0034_tests.png': 'Xóm 11, Xã Quỳnh Hưng, Huyện Quỳnh Lưu, Nghệ An',\n",
              " '0035_tests.png': 'Khối 250, Phường Quang Tiến, Thị xã Thái Hoà, Nghệ An',\n",
              " '0036_tests.png': 'Cụm công nghiệp Nhật Tân, Xã Nhật Tân, Huyện Kim Bảng, Hà Nam',\n",
              " '0037_tests.png': '128 Đoàn Phú Tứ, Phường Hoà Khánh Bắc, Quận Liên Chiểu, Đà Nẵng',\n",
              " '0038_tests.png': '28 Nguyễn Đổng Chi, Phường Hoà Cường Bắc, Quận Hải Châu, Đà Nẵng',\n",
              " '0039_tests.png': 'Số 102, đường Thái Thịnh, Phường Trung Liệt, Quận Đống đa, Hà Nội',\n",
              " '0040_tests.png': '113/3, tổ 40, KP 8, Phường Tân Phong, Thành Phố Biên Hoà, Đồng Nai',\n",
              " '0041_tests.png': 'UBND xã Bình Thành, Xã Bình Thành, Huyện Phụng Hiệp, Hậu Giang',\n",
              " '0042_tests.png': '118A, Võ Văn Kiệt, Phường Long Hòa, Quận Bình Thuỷ, Cần Thơ',\n",
              " '0043_tests.png': '14 Thanh Tịnh, Phường Vỹ Dạ, Thành Phố Huế, Thừa Thiên - Huế',\n",
              " '0044_tests.png': 'Số 63/4 Kiến Thiết, Quận Hồng Bàng, Hải Phòng',\n",
              " '0045_tests.png': 'Khu 5, Thị trấn Kỳ Sơn, Huyện Kỳ Sơn, Hòa Bình',\n",
              " '0046_tests.png': 'Lô 24, Khu CN Trà Nóc, Phường Trà Nóc, Quận Bình Thuỷ, Cần Thơ',\n",
              " '0047_tests.png': 'Số 9, đường Phạm Văn Ký, Phường 2, Thành phố Cà Mau, Cà Mau',\n",
              " '0048_tests.png': 'Thôn Lương Tràng, Xã Liêm Tiết, Thành phố Phủ Lý, Hà Nam',\n",
              " '0049_tests.png': 'Xã Lang Quán,, Huyện Yên Sơn, Tuyên Quang',\n",
              " '0050_tests.png': '250 Lê Văn Khương, phường Thới An, Quận 12, TP Hồ Chí Minh',\n",
              " '0051_tests.png': 'Thôn Dương Lâm, Xã Trà Dương, Huyện Bắc Trà My, Quảng Nam',\n",
              " '0052_tests.png': '146/37 Huỳnh Mẫn Đạt, Phường 03, Quận 5, TP Hồ Chí Minh',\n",
              " '0053_tests.png': 'Thiệu Viên, Huyện Thiệu Hoá, Thanh Hoá',\n",
              " '0054_tests.png': 'Km 32 Quốc lộ 10, Huyện An Lão, Hải Phòng',\n",
              " '0055_tests.png': 'Số 34 Nguyễn Văn Cừ, Phường An Lạc, Thị xã Buôn Hồ, Đắc Lắc',\n",
              " '0056_tests.png': 'Khu 4, xã Vân Phú, Thành Phố Việt Trì, Phú Thọ',\n",
              " '0057_tests.png': '373C/4, KV6, Phường An Khánh, Quận Ninh Kiều, Cần Thơ',\n",
              " '0058_tests.png': '839 Ngô Quyền, Phường An Hải Đông, Quận Sơn Trà, Đà Nẵng',\n",
              " '0059_tests.png': 'Khu liên cơ quan, Phường Ngô Quyền, Thành phố Bắc Giang, Bắc Giang',\n",
              " '0060_tests.png': 'Số nhà 120, Khu 5, Phường Nam Hòa, Thị xã Quảng Yên, Quảng Ninh',\n",
              " '0061_tests.png': '122 phố Phương Liệt, Phường Phương Liệt, Quận Thanh Xuân, Hà Nội',\n",
              " '0062_tests.png': '345/134 Trần Hưng Đạo (lầu 3), Phường Cầu Kho, Quận 1, TP Hồ Chí Minh',\n",
              " '0063_tests.png': '135/36 Trần Hưng Đạo, Phường Cầu Ông Lãnh, Quận 1, TP Hồ Chí Minh',\n",
              " '0064_tests.png': 'ấp Trà Đư, Xã Thường Lạc, Huyện Hồng Ngự, Đồng Tháp',\n",
              " '0065_tests.png': 'Số 549/2, tổ 11, KP 4, Phường Trảng Dài, Thành phố Biên Hoà, Đồng Nai',\n",
              " '0066_tests.png': 'Thôn Thượng, Xã Thanh Liệt, Huyện Thanh Trì, Hà Nội',\n",
              " '0067_tests.png': 'Đồng vàng, KCN Đình Trám, Xã Hoàng Ninh, Huyện Việt Yên, Bắc Giang',\n",
              " '0068_tests.png': '407 Thủ Khoa Huân, Phường Phú Thủy, Thành phố Phan Thiết, Bình Thuận',\n",
              " '0069_tests.png': '45C Đường Hồ Bá Phấn, Phường Phước Long A, Quận 9, TP Hồ Chí Minh',\n",
              " '0070_tests.png': 'Số 8 Pháo Đài Láng, Quận Đống đa, Hà Nội',\n",
              " '0071_tests.png': '1/21 Nguyễn Văn Dung, Phường 6, Quận Gò Vấp, TP Hồ Chí Minh',\n",
              " '0072_tests.png': 'Số 262a, phố Thanh Hưng, Thị trấn Đồi Ngô, Huyện Lục Nam, Bắc Giang',\n",
              " '0073_tests.png': '7 Lô D Lạc Long Quân, Phường 2, Thành Phố Vũng Tàu, Bà Rịa - Vũng Tàu',\n",
              " '0074_tests.png': 'Đội 3/2, xã Diên Sơn, Huyện Diên Khánh, Khánh Hòa',\n",
              " '0075_tests.png': 'Số 05 Mẹ Hiền, Phường Thanh Khê Tây, Quận Thanh Khê, Đà Nẵng',\n",
              " '0076_tests.png': '63/3 Đường số 1, Phường Long Trường, Quận 9, TP Hồ Chí Minh',\n",
              " '0077_tests.png': 'Đội 18, Xã Thanh Nưa, Huyện Điện Biên, Điện Biên',\n",
              " '0078_tests.png': '683/14/7 Hồng Bàng, Phường 06, Quận 6, TP Hồ Chí Minh',\n",
              " '0079_tests.png': 'Xóm Thị Tứ, Xã Tân Thành, Huyện Yên Thành, Nghệ An',\n",
              " '0080_tests.png': 'Số 7D, ngách 378/39 Thụy Khuê, Phường Bưởi, Quận Tây Hồ, Hà Nội',\n",
              " '0081_tests.png': 'Số 8 hẻm 58/23/4 Trần Bình, Phường Mai Dịch, Quận Cầu Giấy, Hà Nội',\n",
              " '0082_tests.png': '183/196/14 Bến Vân Đồn, Quận 4, TP Hồ Chí Minh',\n",
              " '0083_tests.png': '307 Hùng Vương, Phường Trần Phú, Thành phố Quảng Ngãi, Quảng Ngãi',\n",
              " '0084_tests.png': 'Thôn Cộng Hòa 2, Xã Tịnh ấn Tây, Thành phố Quảng Ngãi, Quảng Ngãi',\n",
              " '0085_tests.png': '78 Trương Văn Bang, Phường 7, Thành Phố Vũng Tàu, Bà Rịa - Vũng Tàu',\n",
              " '0086_tests.png': 'Lô D4 Khu Công nghiệp Trà Đa, Xã Trà Đa, Thành Phố Pleiku, Gia Lai',\n",
              " '0087_tests.png': 'âp2, Thị trấn Lộc Ninh, Huyện Lộc Ninh, Bình Phước',\n",
              " '0088_tests.png': 'Vân an, Huyện Chi Lăng, Lạng Sơn',\n",
              " '0089_tests.png': 'Số 27 Nguyễn Trung Trực, Phường Bến Thành, Quận 1, TP Hồ Chí Minh',\n",
              " '0090_tests.png': '15A Sông Đà, Phường 2, Quận Tân Bình, TP Hồ Chí Minh',\n",
              " '0091_tests.png': '49/19 Khu Phố 4, Phường Phước Long B, Quận 9, TP Hồ Chí Minh',\n",
              " '0092_tests.png': 'Số 48B/3, khu phố 2, Phường An Phú, TX Thuận An, Bình Dương',\n",
              " '0093_tests.png': 'Số 1708, Tổ 17, Phường Nam Sơn, Thị Xã Tam Điệp, Ninh Bình',\n",
              " '0094_tests.png': 'Đường Hùng Vương, Phường Xuân Bình, Thị xã Long khánh, Đồng Nai',\n",
              " '0095_tests.png': 'Tiểu khu 2, Thị trấn Chợ Rã, Huyện Ba Bể, Bắc Kạn',\n",
              " '0096_tests.png': '21 Cộng Hòa, Phường 4, Quận Tân Bình, TP Hồ Chí Minh',\n",
              " '0097_tests.png': 'Xóm Thanh Bình, Xã Tân Thịnh, Huyện Lạng Giang, Bắc Giang',\n",
              " '0098_tests.png': 'Phố Chu Văn An, Thành phố Lào Cai, Lào Cai',\n",
              " '0099_tests.png': 'Số 67/31H đường Phó Cơ Điều, Phường 3, Thành phố Vĩnh Long, Vĩnh Long',\n",
              " '0100_tests.png': 'đường Lê Văn Lương, phường Nhân Chính, Quận Thanh Xuân, Hà Nội',\n",
              " '0101_tests.png': '25 Chu Thiên, Phường Hiệp Tân, Quận Tân phú, TP Hồ Chí Minh',\n",
              " '0102_tests.png': 'Lô A2-10 đường Võ Chí Công, Phường Hoà Xuân, Quận Cẩm Lệ, Đà Nẵng',\n",
              " '0103_tests.png': 'Thôn 5, Xã Hạ Bằng, Huyện Thạch Thất, Hà Nội',\n",
              " '0104_tests.png': '169F Bàu Cát 1, Phường 12, Quận Tân Bình, TP Hồ Chí Minh',\n",
              " '0105_tests.png': 'ấp 4, Thị trấn Gành Hào, Huyện Đông Hải, Bạc Liêu',\n",
              " '0106_tests.png': 'ấp Long Phước, Xã Mỹ Phước Tây, Thị Xã Cai Lậy, Tiền Giang',\n",
              " '0107_tests.png': '965/14 Quang Trung, Phường 14, Quận Gò Vấp, TP Hồ Chí Minh',\n",
              " '0108_tests.png': 'Số 127H Thụy Khuê, Phường Thuỵ Khuê, Quận Tây Hồ, Hà Nội',\n",
              " '0109_tests.png': '76 Lê Lai, Phường Bến Thành, Quận 1, TP Hồ Chí Minh',\n",
              " '0110_tests.png': 'Thôn An Lão Xuôi, Xã Vĩnh Thịnh, Huyện Vĩnh Tường, Vĩnh Phúc',\n",
              " '0111_tests.png': 'ấp Vĩnh Yên, Xã Long Đức, Thành phố Trà Vinh, Trà Vinh',\n",
              " '0112_tests.png': 'Thôn Thanh Lũng, Xã Tiên Phong, Huyện Ba Vì, Hà Nội',\n",
              " '0113_tests.png': 'Số 166C, phố Đội Cấn, Phường Đội Cấn, Quận Ba Đình, Hà Nội',\n",
              " '0114_tests.png': 'Khu phố 3, Thị Trấn Châu Thành, Huyện Châu Thành, Tây Ninh',\n",
              " '0115_tests.png': 'Số 49, ngõ 93, phố 8/3, Phường Quỳnh Mai, Quận Hai Bà Trưng, Hà Nội',\n",
              " '0116_tests.png': '37/8 Trịnh Đình Trọng, Phường 5, Quận 11, TP Hồ Chí Minh',\n",
              " '0117_tests.png': '252/4M Phạm Văn Chiêu, Phường 9, Quận Gò Vấp, TP Hồ Chí Minh',\n",
              " '0118_tests.png': 'Số 330 đường Ngọc Lâm, Phường Ngọc Lâm, Quận Long Biên, Hà Nội',\n",
              " '0119_tests.png': 'Bản Nà Lèng, Xã Quang Thành, Huyện Nguyên Bình, Cao Bằng',\n",
              " '0120_tests.png': '226, đường 3/2, Phường Hưng Lợi, Quận Ninh Kiều, Cần Thơ',\n",
              " '0121_tests.png': '465 Nguyễn Oanh, Phường 17, Quận Gò Vấp, TP Hồ Chí Minh',\n",
              " '0122_tests.png': '16 Đường 588 Khu Phố 1, Phường Phước Long A, Quận 9, TP Hồ Chí Minh',\n",
              " '0123_tests.png': 'Xã Tuy Lai, Xã Tuy Lai, Huyện Mỹ Đức, Hà Nội',\n",
              " '0124_tests.png': '50 Tôn Đức Thắng, Phường An Sơn, Thành phố Tam Kỳ, Quảng Nam',\n",
              " '0125_tests.png': 'Số 8/96 Hai Bà Trưng, Phường An Biên, Quận Lê Chân, Hải Phòng',\n",
              " '0126_tests.png': '172/28 Đặng Văn Ngữ, Phường 14, Quận Phú Nhuận, TP Hồ Chí Minh',\n",
              " '0127_tests.png': 'Nhà số 69 ngõ 10 Mạc Thái Tổ, Phường Yên Hoà, Quận Cầu Giấy, Hà Nội',\n",
              " '0128_tests.png': 'Tổ 2 xã Ngọc Đường - TP Hà Giang - Hà Giang, TP Hà Giang, Hà Giang',\n",
              " '0129_tests.png': 'Trang Liệt, Phường Trang Hạ, Thị Xã Từ Sơn, Bắc Ninh',\n",
              " '0130_tests.png': '73 Nguyễn Quang Bích, Phường 13, Quận Tân Bình, TP Hồ Chí Minh',\n",
              " '0131_tests.png': '76/18 Lê Trọng Tấn, Phường Tây Thạnh, Quận Tân phú, TP Hồ Chí Minh',\n",
              " '0132_tests.png': 'Tư Giang, Tân Dân, Thị Xã Chí Linh, Hải Dương',\n",
              " '0133_tests.png': '99E Cộng Hòa, Phường 4, Quận Tân Bình, TP Hồ Chí Minh',\n",
              " '0134_tests.png': '121A Lê Lư, Phường Phú Thọ Hoà, Quận Tân phú, TP Hồ Chí Minh',\n",
              " '0135_tests.png': '29 Lam Sơn, Phường 2, Quận Tân Bình, TP Hồ Chí Minh',\n",
              " '0136_tests.png': 'Tổ 1, Phường Đồng Mai, Quận Hà Đông, Hà Nội',\n",
              " '0137_tests.png': 'Số 77A Đường 38, Phường Tân Quy, Quận 7, TP Hồ Chí Minh',\n",
              " '0138_tests.png': 'Quốc lộ 30, ấp Bình Hòa, Xã Bình Thạnh, Thị Xã Hồng Ngự, Đồng Tháp',\n",
              " '0139_tests.png': '14/2 Nguyễn Đình Chiểu, Phường Đa Kao, Quận 1, TP Hồ Chí Minh',\n",
              " '0140_tests.png': '76/2 Đường 59, Phường 14, Quận Gò Vấp, TP Hồ Chí Minh',\n",
              " '0141_tests.png': 'Km 2, Thôn Kon Rờ Bàng, Xã Vinh Quang, Thành phố Kon Tum, Kon Tum',\n",
              " '0142_tests.png': '41/3 Trường Chinh, Phường 11, Quận Tân Bình, TP Hồ Chí Minh',\n",
              " '0143_tests.png': 'Xóm Đường, Xã Đại Yên, Huyện Chương Mỹ, Hà Nội',\n",
              " '0144_tests.png': 'Đường Lý Thường Kiệt, KP 4, Huyện Mộc Hoá, Long An',\n",
              " '0145_tests.png': 'Thôn kẻ Đọng, Huyện Đắk Mil, Đắk Nông',\n",
              " '0146_tests.png': 'Số 681, Tổ 23, ấp Mỹ Hòa, Xã Nhơn Mỹ, Huyện Chợ Mới, An Giang',\n",
              " '0147_tests.png': '399 Nguyễn Văn Cừ, Phường Hoà Hiệp Bắc, Quận Liên Chiểu, Đà Nẵng',\n",
              " '0148_tests.png': '235/22 Đường Trục, Phường 13, Quận Bình Thạnh, TP Hồ Chí Minh',\n",
              " '0149_tests.png': '29/8 Đường 53, Phường Thảo Điền, Quận 2, TP Hồ Chí Minh',\n",
              " '0150_tests.png': '207/64 Phạm Văn Hai, Phường 5, Quận Tân Bình, TP Hồ Chí Minh',\n",
              " '0151_tests.png': 'Số 9/11, khu phố Tân Hòa, Phường Đông Hòa, TX Dĩ An, Bình Dương',\n",
              " '0152_tests.png': 'Đội 3, thôn Minh Tân, Xã Minh Trí, Huyện Sóc Sơn, Hà Nội',\n",
              " '0153_tests.png': 'Thôn Quỳnh Đô, Xã Vĩnh Quỳnh, Huyện Thanh Trì, Hà Nội',\n",
              " '0154_tests.png': 'ấp Xóm Vó, Xã Phú Cần, Huyện Tiểu Cần, Trà Vinh',\n",
              " '0155_tests.png': '59 Phan Đăng Lưu, Phường Phú Hòa, Thành phố Huế, Thừa Thiên - Huế',\n",
              " '0156_tests.png': 'Kp2 Phú Hài, Thành phố Phan Thiết, Bình Thuận',\n",
              " '0157_tests.png': '1-5 Lê Duẩn, Phường Bến Nghé, Quận 1, TP Hồ Chí Minh',\n",
              " '0158_tests.png': 'Km 89 quốc lộ 5, Xã Nam Sơn, Huyện An Dương, Hải Phòng',\n",
              " '0159_tests.png': '19 Lê Hồng Phong, Thành phố Đà Lạt, Lâm Đồng',\n",
              " '0160_tests.png': 'Đường Ngô Quyền, Phường Quang Trung, Thành phố Phủ Lý, Hà Nam',\n",
              " '0161_tests.png': 'Số 8 Ngách 374/7 âu Cơ, Phường Nhật Tân, Quận Tây Hồ, Hà Nội',\n",
              " '0162_tests.png': 'Số 40, ngõ 168, phố Ngọc Hà, Phường Ngọc Hà, Quận Ba Đình, Hà Nội',\n",
              " '0163_tests.png': 'Số 5 ngõ 152 phố Hào Nam, Phường ô Chợ Dừa, Quận Đống đa, Hà Nội',\n",
              " '0164_tests.png': '261-263 Phạm Văn Chí, Phường 03, Quận 6, TP Hồ Chí Minh',\n",
              " '0165_tests.png': 'xã Hữu Vinh, Thị trấn Yên Minh, Huyện Yên Minh, Hà Giang',\n",
              " '0166_tests.png': 'Khối 8, Phường Tân An, TP.Buôn Ma Thuột, Đắc Lắc',\n",
              " '0167_tests.png': 'Số 249 Lê Hồng Phong, Phường 8, Thành Phố Vũng Tàu, Bà Rịa - Vũng Tàu',\n",
              " '0168_tests.png': '2/25 Lê Chí Dân, ấp 3, Thành Phố Thủ Dầu Một, Bình Dương',\n",
              " '0169_tests.png': '364 ấp Cổ Cò, Xã Ngọc Tố, Huyện Mỹ Xuyên, Sóc Trăng',\n",
              " '0170_tests.png': 'ấp 6, Huyện Cai Lậy, Tiền Giang',\n",
              " '0171_tests.png': 'Thôn Hữu Cước, Xã Liên Hồng, Huyện Đan Phượng, Hà Nội',\n",
              " '0172_tests.png': 'Số 4 Ngách 29/2 Đội Nhân, Phường Vĩnh Phúc, Quận Ba Đình, Hà Nội',\n",
              " '0173_tests.png': 'ấp 5, Xã Đức Hòa Đông, Huyện Đức Hoà, Long An',\n",
              " '0174_tests.png': '620 Trần Cao Vân, Quận Thanh Khê, Đà Nẵng',\n",
              " '0175_tests.png': 'Số 61/380 Tô Hiệu, Phường Hồ Nam, Quận Lê Chân, Hải Phòng',\n",
              " '0176_tests.png': '51 Sinh Trung, Phường Vạn Thạnh, Thành phố Nha Trang, Khánh Hòa',\n",
              " '0177_tests.png': '49/23 ông ích Khiêm, Phường Thanh Bình, Quận Hải Châu, Đà Nẵng',\n",
              " '0178_tests.png': '179 Đường 41 P.16, Phường 16, Quận 8, TP Hồ Chí Minh',\n",
              " '0179_tests.png': 'Số 812 Trần Nhân Tông, Phường Nam Sơn, Quận Kiến An, Hải Phòng',\n",
              " '0180_tests.png': 'Số 177/24, Đường 3/2, P.11, Phường 11, Quận 10, TP Hồ Chí Minh',\n",
              " '0181_tests.png': 'Số 145 Phố Vũ, Phường Đại Phúc, Thành Phố Bắc Ninh, Bắc Ninh',\n",
              " '0182_tests.png': 'Thôn Hữu Cước, Xã Liên Hồng, Huyện Đan Phượng, Hà Nội',\n",
              " '0183_tests.png': 'Thôn Tử Dương, Xã Lý Thường Kiệt, Huyện Yên Mỹ, Hưng Yên',\n",
              " '0184_tests.png': 'Thôn La Mai, Xã Ninh Giang, Huyện Hoa Lư, Ninh Bình',\n",
              " '0185_tests.png': '372 Đường số 8, Phường 11, Quận Gò Vấp, TP Hồ Chí Minh',\n",
              " '0186_tests.png': 'Số 324/57 Hoàng Văn Thụ, Phường 4, Quận Tân Bình, TP Hồ Chí Minh',\n",
              " '0187_tests.png': '38 Tiểu La, Phường Hoà Cường Bắc, Quận Hải Châu, Đà Nẵng',\n",
              " '0188_tests.png': '29/12B Đường Số 5, Phường Tăng Nhơn Phú B, Quận 9, TP Hồ Chí Minh',\n",
              " '0189_tests.png': 'BN4-LK4, KP 7, Phường Thống Nhất, Thành phố Biên Hoà, Đồng Nai',\n",
              " '0190_tests.png': 'ấp 4, thị trấn An Thới, Huyện Phú Quốc, Kiên Giang',\n",
              " '0191_tests.png': 'Điền Lương - Hợp Hòa, Thị trấn Hợp Hòa, Huyện Tam Dương, Vĩnh Phúc',\n",
              " '0192_tests.png': 'Số 99, phố Tân Phong, Phường Thụy Phương, Quận Bắc Từ Liêm, Hà Nội',\n",
              " '0193_tests.png': 'ấp Bình Tiền 1, Xã Đức Hòa Hạ, Huyện Đức Hoà, Long An',\n",
              " '0194_tests.png': 'Số 18/8 đường Kim Đồng, Phường 6, Thành phố Đà Lạt, Lâm Đồng',\n",
              " '0195_tests.png': 'Số 184, tổ 8, Phường Minh Khai, Thành phố Phủ Lý, Hà Nam',\n",
              " '0196_tests.png': 'Số 339, phố Huế, Phường Phố Huế, Quận Hai Bà Trưng, Hà Nội',\n",
              " '0197_tests.png': '485 Tô Hiến Thành P.14, Phường 14, Quận 10, TP Hồ Chí Minh',\n",
              " '0198_tests.png': 'xã Quảng Minh, Thị Xã Ba Đồn, Quảng Bình',\n",
              " '0199_tests.png': 'Tổ 2, khu vực 8, Phường Nhơn Phú, Thành Phố Quy Nhơn, Bình Định',\n",
              " '0200_tests.png': 'Số 79, Tổ 32, KP 3, Phường Trảng Dài, Thành phố Biên Hoà, Đồng Nai',\n",
              " '0201_tests.png': 'Thôn Vĩnh Hưng, Xã Vĩnh Tân, Huyện Tuy Phong, Bình Thuận',\n",
              " '0202_tests.png': '239A Hoàng Văn Thụ, Phường 08, Quận Phú Nhuận, TP Hồ Chí Minh',\n",
              " '0203_tests.png': '120B Mậu Thân nối dài, Phường An Hòa, Quận Ninh Kiều, Cần Thơ',\n",
              " '0204_tests.png': 'Quốc lộ 23B, Xã Mê Linh, Huyện Mê Linh, Hà Nội',\n",
              " '0205_tests.png': 'Số 27, ngõ 218 Lạc Long Quân, Phường Bưởi, Quận Tây Hồ, Hà Nội',\n",
              " '0206_tests.png': '10 Đường số 2, Cư xá Bình Thới, Phường 8, Quận 11, TP Hồ Chí Minh',\n",
              " '0207_tests.png': 'Số 5 dãy 2, tập thể xa la trại, Phường Phúc La, Quận Hà Đông, Hà Nội',\n",
              " '0208_tests.png': 'Mèo vạc - Huyện Mèo Vạc - Hà Giang, Huyện Mèo Vạc, Hà Giang',\n",
              " '0209_tests.png': '100 Phạm Văn Đồng, Phường Vỹ Dạ, Thành phố Huế, Thừa Thiên - Huế',\n",
              " '0210_tests.png': '190 Lạc Long Quân, Phường 3, Quận 11, TP Hồ Chí Minh',\n",
              " '0211_tests.png': 'Số 69 đường Huyền Quang, Phường Ninh Xá, Thành phố Bắc Ninh, Bắc Ninh',\n",
              " '0212_tests.png': '36/25 Khu vực II, Phường Ngã Bảy, Thị Xã Ngã Bảy, Hậu Giang',\n",
              " '0213_tests.png': 'Số 62, phố Dịch Vọng, Phường Dịch Vọng, Quận Cầu Giấy, Hà Nội',\n",
              " '0214_tests.png': 'Số 01 Lý Bôn, Phường 4, Thành phố Cà Mau, Cà Mau',\n",
              " '0215_tests.png': '142 Đường Số 9, Phường Tân Phú, Quận 7, TP Hồ Chí Minh',\n",
              " '0216_tests.png': 'Thôn Lưu Thượng1-xã Hiệp An, Huyện Kinh Môn, Hải Dương',\n",
              " '0217_tests.png': 'Xã Bồi Sơn, Huyện Đô Lương, Nghệ An',\n",
              " '0218_tests.png': 'Số 1, đường Thống Nhất, Thị trấn Kẻ Sặt, Huyện Bình Giang, Hải Dương',\n",
              " '0219_tests.png': '02 Lê Lai, Thị trấn Kông Chro, Huyện Kông Chro, Gia Lai',\n",
              " '0220_tests.png': 'Xóm Lò Vôi, Thôn Văn Lâm, Xã Ninh Hải, Huyện Hoa Lư, Ninh Bình',\n",
              " '0221_tests.png': '31/15/14 Ung Văn Khiêm, Phường 25, Quận Bình Thạnh, TP Hồ Chí Minh',\n",
              " '0222_tests.png': '84 Nguyễn Văn Linh, Quận Hải Châu, Đà Nẵng',\n",
              " '0223_tests.png': 'F2/25A10 ấp 6B, Xã Vĩnh Lộc A, Huyện Bình Chánh, TP Hồ Chí Minh',\n",
              " '0224_tests.png': 'Nhà số 06, tổ 26, Phường Thượng Thanh, Quận Long Biên, Hà Nội',\n",
              " '0225_tests.png': 'Số 186 Phú Định, Phường 16, Quận 8, TP Hồ Chí Minh',\n",
              " '0226_tests.png': 'J1A Bửu Long P.15, Phường 15, Quận 10, TP Hồ Chí Minh',\n",
              " '0227_tests.png': 'UBND xã Lưu Phương, Huyện Kim Sơn, Ninh Bình',\n",
              " '0228_tests.png': \"Buôn Hiao 2, Xã Ea Hiao, Huyện Ea H'leo, Đắc Lắc\",\n",
              " '0229_tests.png': '596 Nguyễn Đình Chiểu, Phường 03, Quận 3, TP Hồ Chí Minh',\n",
              " '0230_tests.png': 'Xuân Thành, Huyện Xuân Lộc, Đồng Nai',\n",
              " '0231_tests.png': 'Tổ 20, Thị Trấn Đông Anh, Thị trấn Đông Anh, Huyện Đông Anh, Hà Nội',\n",
              " '0232_tests.png': '45 An Phú, Phường An Phú, Quận 2, TP Hồ Chí Minh',\n",
              " '0233_tests.png': 'D654, tổ 14, KP4, Phường Long Bình, Thành phố Biên Hoà, Đồng Nai',\n",
              " '0234_tests.png': 'Xóm Phú Xuân, Xã Đô Thành, Huyện Yên Thành, Nghệ An',\n",
              " '0235_tests.png': 'Khu 113, Thị trấn Như Quỳnh, Huyện Văn Lâm, Hưng Yên',\n",
              " '0236_tests.png': 'Số 318 đường Bưởi, Phường Vĩnh Phúc, Quận Ba Đình, Hà Nội',\n",
              " '0237_tests.png': 'Số 43/20, ấp 2, Xã Thạnh Phú, Huyện Vĩnh Cửu, Đồng Nai',\n",
              " '0238_tests.png': 'ấp Cầu Dừa, Xã Mỹ Phước Tây, Thị Xã Cai Lậy, Tiền Giang',\n",
              " '0239_tests.png': 'Thôn Xuân Canh, Xã Xuân Canh, Huyện Đông Anh, Hà Nội',\n",
              " '0240_tests.png': 'Số 43/33 Lý Thường Kiệt, Phường 4, Thành phố Mỹ Tho, Tiền Giang',\n",
              " '0241_tests.png': 'Số 33 đường Vũ Quang, Phường Trần Phú, Thành phố Hà Tĩnh, Hà Tĩnh',\n",
              " '0242_tests.png': 'Số 571 đường Hồng Hà, Phường Phúc Tân, Quận Hoàn Kiếm, Hà Nội',\n",
              " '0243_tests.png': 'Thôn Cập Nhất, Xã Tiền Tiến, Huyện Thanh Hà, Hải Dương',\n",
              " '0244_tests.png': 'lầu 3, Số 44 Nguyễn Huệ, Phường Bến Nghé, Quận 1, TP Hồ Chí Minh',\n",
              " '0245_tests.png': 'Nhà CH 3 tổ 9 phường Mai Dịch, Quận Cầu Giấy, Hà Nội',\n",
              " '0246_tests.png': '48B/2, KP 5, Phường Tân Hòa, Thành phố Biên Hoà, Đồng Nai',\n",
              " '0247_tests.png': 'Tổ 15, Khu 5, Phường Quang Trung, Thành phố Uông Bí, Quảng Ninh',\n",
              " '0248_tests.png': 'Khu Thống Nhất 2, Phường Tân An, Thị xã Quảng Yên, Quảng Ninh',\n",
              " '0249_tests.png': 'Số 38, tổ 4, phố Tân Phú, Phường Tân Dân, Thành Phố Việt Trì, Phú Thọ',\n",
              " '0250_tests.png': 'Xã Thắng Mố, Xã Thắng Mố, Huyện Yên Minh, Hà Giang',\n",
              " '0251_tests.png': '61/2/3 Nguyễn Sơn, Phường Phú Thạnh, Quận Tân phú, TP Hồ Chí Minh',\n",
              " '0252_tests.png': '26D/25, Khu phố 5, Thị trấn Dầu Tiếng, Huyện Dầu Tiếng, Bình Dương',\n",
              " '0253_tests.png': 'Khu phố Phú Thứ, Thị Trấn Phú Thứ, Huyện Tây Hoà, Phú Yên',\n",
              " '0254_tests.png': 'Tổ 26, Phường Cam Giá, Thành Phố Thái Nguyên, Thái Nguyên',\n",
              " '0255_tests.png': 'R 403 tầng 4, V-Tower Số 649 Kim mã, Quận Ba Đình, Hà Nội',\n",
              " '0256_tests.png': 'Dỹ Tiến, Xã Thành An, Huyện Thạch Thành, Thanh Hoá',\n",
              " '0257_tests.png': 'Số 15 Trần Cao Vân, Phường 06, Quận 3, TP Hồ Chí Minh',\n",
              " '0258_tests.png': 'Vĩnh Quang, Huyện Vĩnh Linh, Quảng Trị',\n",
              " '0259_tests.png': '47 Trần Phước Thành, Phường Khuê Trung, Quận Cẩm Lệ, Đà Nẵng',\n",
              " '0260_tests.png': '8/58 Nguyễn Đình Khơi, Phường 4, Quận Tân Bình, TP Hồ Chí Minh',\n",
              " '0261_tests.png': 'số 7/95 đường Chùa Bộc, Quận Đống đa, Hà Nội',\n",
              " '0262_tests.png': '53/86/23 Trần Khánh Dư P.TĐ, Phường Tân Định, Quận 1, TP Hồ Chí Minh',\n",
              " '0263_tests.png': 'Thị trấn Lấp Vò, Huyện Lấp Vò, Đồng Tháp',\n",
              " '0264_tests.png': '21 Hoàng Diệu, Phường 1, Thành phố Sóc Trăng, Sóc Trăng',\n",
              " '0265_tests.png': 'Cẩm Thạch, Huyện Cẩm Thuỷ, Thanh Hoá',\n",
              " '0266_tests.png': 'Số 7 phố Chờ Thị trấn Chờ, Huyện Yên Phong, Bắc Ninh',\n",
              " '0267_tests.png': 'Xã Tân Công Sính,, Huyện Tam Nông, Đồng Tháp',\n",
              " '0268_tests.png': 'Số 78 Phạm Ngọc Thạch, Phường Lộc Phát, Thành phố Bảo Lộc, Lâm Đồng',\n",
              " '0269_tests.png': 'Bàn Thạch, Hòa Xuân Đông, Huyện Đông Hoà, Phú Yên',\n",
              " '0270_tests.png': '231 thôn Vĩnh Tiến, Xã Vĩnh Tân, Huyện Tuy Phong, Bình Thuận',\n",
              " '0271_tests.png': 'Thôn 4, Xã Hạnh Phúc, Huyện Thọ Xuân, Thanh Hoá',\n",
              " '0272_tests.png': 'Khu 2, Phường Trường Thịnh, Thị xã Phú Thọ, Phú Thọ',\n",
              " '0273_tests.png': '54, Thành phố Tam Kỳ, Quảng Nam',\n",
              " '0274_tests.png': '353 Hoàng Hữu Nam, Phường Tân Phú, Quận 9, TP Hồ Chí Minh',\n",
              " '0275_tests.png': 'Khu phố 4, Thị trấn Vĩnh Bình, Huyện Gò Công Tây, Tiền Giang',\n",
              " '0276_tests.png': 'Hoá Thượng, Huyện Đồng Hỷ, Thái Nguyên',\n",
              " '0277_tests.png': 'xóm 6, Xã Hưng Lộc, Thành phố Vinh, Nghệ An',\n",
              " '0278_tests.png': 'Số 125 Tôn Đức Thắng, Phường Hàng Bột, Quận Đống Đa, Hà Nội',\n",
              " '0279_tests.png': '21 Trần Quý Khoác, Quận 1, TP Hồ Chí Minh',\n",
              " '0280_tests.png': '334/25 Lê Quang Định, Phường 11, Quận Bình Thạnh, TP Hồ Chí Minh',\n",
              " '0281_tests.png': 'Xóm cây đa, Huyện Thuỷ Nguyên, Hải Phòng',\n",
              " '0282_tests.png': 'Tổ Luộc 1, Thị Trấn Vĩnh Lộc, Huyện Chiêm Hoá, Tuyên Quang',\n",
              " '0283_tests.png': '514B Huỳnh Tấn Phát, Phường Bình Thuận, Quận 7, TP Hồ Chí Minh',\n",
              " '0284_tests.png': 'Đội 1, thôn Sáp Mai, Xã Võng La, Huyện Đông Anh, TP Hà Nội',\n",
              " '0285_tests.png': 'Số 443/A, ấp Mỹ Thị B, Xã Mỹ An, Huyện Tháp Mười, Đồng Tháp',\n",
              " '0286_tests.png': 'Số 13 Phạm Huy Thông, Thị Trấn Ân Thi, Huyện Ân Thi, Hưng Yên',\n",
              " '0287_tests.png': 'Số 16D, khu phố Bình Hòa, Phường Lái Thiêu, TX Thuận An, Bình Dương',\n",
              " '0288_tests.png': 'Thôn 4, Xã Châu Quế Thượng, Huyện Văn Yên, Yên Bái',\n",
              " '0289_tests.png': 'Thị trấn Tiên Kỳ, Huyện Tiên Phước, Quảng Nam',\n",
              " '0290_tests.png': '45C Huỳnh Thúc Kháng, Phường Mũi Né, Thành Phố Phan Thiết, Bình Thuận',\n",
              " '0291_tests.png': 'Xã Nghĩa Sơn, Xã Nghĩa Sơn, Huyện Nghĩa Hưng, Nam Định',\n",
              " '0292_tests.png': 'ấp Tân Lợi, Xã Tân Phú Trung, Huyện Châu Thành, Đồng Tháp',\n",
              " '0293_tests.png': 'Xóm 12, Xã Kim Phú, Huyện Yên Sơn, Tuyên Quang',\n",
              " '0294_tests.png': 'Đường 868, Phường 3, Thị Xã Cai Lậy, Tiền Giang',\n",
              " '0295_tests.png': 'An Nhơn, Thị Xã An Nhơn, Bình Định',\n",
              " '0296_tests.png': '121Bis Bà Huyện Thanh Quan, Phường 09, Quận 3, TP Hồ Chí Minh',\n",
              " '0297_tests.png': '18 Trịnh Hoài Đức, Phường 13, Quận 5, TP Hồ Chí Minh',\n",
              " '0298_tests.png': '22 Duy Tân, Phường 8, Quận Tân Bình, TP Hồ Chí Minh',\n",
              " '0299_tests.png': 'Xóm Cun, Xã Thu Phong, Huyện Cao Phong, Hòa Bình',\n",
              " '0300_tests.png': '1233 Phạm Thế Hiển, Phường 5, Quận 8, TP Hồ Chí Minh',\n",
              " '0301_tests.png': 'Số 27, ngõ 142, tổ 10, Phường Việt Hưng, Quận Long Biên, Hà Nội',\n",
              " '0302_tests.png': 'Thôn Lâm Tiên, xã Nguyên Khê, Xã Nguyên Khê, Huyện Đông Anh, Hà Nội',\n",
              " '0303_tests.png': '369F/20 An Dương Vương, Phường 10, Quận 6, TP Hồ Chí Minh',\n",
              " '0304_tests.png': 'Số 25, ấp Chợ, Xã Suối Nho, Huyện Định Quán, Đồng Nai',\n",
              " '0305_tests.png': 'Tổ 15, ấp 4, Xã Suối Ngô, Huyện Tân Châu, Tây Ninh',\n",
              " '0306_tests.png': 'Thôn Lịch Sơn,, Xã Cẩm Lý, Huyện Lục Nam, Bắc Giang',\n",
              " '0307_tests.png': '41 #6 Nguyễn Thị Minh Khai, Quận 1, TP Hồ Chí Minh',\n",
              " '0308_tests.png': '53 Hà Thanh, Phường Vạn Thắng, Thành phố Nha Trang, Khánh Hòa',\n",
              " '0309_tests.png': 'Số 5, phố Đức Giang, Phường Đức Giang, Quận Long Biên, Hà Nội',\n",
              " '0310_tests.png': 'Thôn Nà Cát, Xã Đức Thông, Huyện Thạch An, Cao Bằng',\n",
              " '0311_tests.png': 'Thôn Trại, Xã Dị Sử, Huyện Mỹ Hào, Hưng Yên',\n",
              " '0312_tests.png': 'Huyện lỵ, Huyện Quỳnh Nhai, Sơn La',\n",
              " '0313_tests.png': '49 Đường 41, Phường Tân Quy, Quận 7, TP Hồ Chí Minh',\n",
              " '0314_tests.png': 'Số 4, ngõ 1 phố Nghĩa Dũng, Phường Phúc Xá, Quận Ba Đình, Hà Nội',\n",
              " '0315_tests.png': '4/48B Khu Phố Đông Chiêu, TX Dĩ An, Bình Dương',\n",
              " '0316_tests.png': '01 Lê Tấn Toán, Phường An Hải Bắc, Quận Sơn Trà, Đà Nẵng',\n",
              " '0317_tests.png': 'Số 94 Trần Hưng Đạo, Phường Hải Cảng, Thành Phố Quy Nhơn, Bình Định',\n",
              " '0318_tests.png': 'Cụm 7, xã Tân Lập,, Xã Tân Lập, Huyện Đan Phượng, Hà Nội',\n",
              " '0319_tests.png': '198/41 Đường số 3, Phường 9, Quận Gò Vấp, TP Hồ Chí Minh',\n",
              " '0320_tests.png': 'Số 35/5, Khu Phố Tân Lập, Phường Đông Hòa, Tx Dĩ An, Bình Dương',\n",
              " '0321_tests.png': '419 Nguyễn Huệ - TP Tuy Hoà - Phú Yên, TP Tuy Hoà, Phú Yên',\n",
              " '0322_tests.png': 'Số 222 ấp Thới Thạnh, Xã Thới Sơn, Thành phố Mỹ Tho, Tiền Giang',\n",
              " '0323_tests.png': '276/131/17 Thống Nhất, Phường 16, Quận Gò Vấp, TP Hồ Chí Minh',\n",
              " '0324_tests.png': 'Nhà 61, tổ 55, K3, Phường Khương Trung, Quận Thanh Xuân, Hà Nội',\n",
              " '0325_tests.png': '16/2 Trần Bình Trọng, Phường 01, Quận 5, TP Hồ Chí Minh',\n",
              " '0326_tests.png': 'UBND xã Hợp Thành, Huyện Yên Thành, Nghệ An',\n",
              " '0327_tests.png': '2094 Quốc lộ 1A, phường Tân Chánh Hiệp, Quận 12, TP Hồ Chí Minh',\n",
              " '0328_tests.png': '187/7 Điện Biên Phủ, Phường Đa Kao, Quận 1, TP Hồ Chí Minh',\n",
              " '0329_tests.png': 'Số 283 Đường 30/4, Phường 3, Thành phố Sóc Trăng, Sóc Trăng',\n",
              " '0330_tests.png': '207/24, Huyện Mỏ Cày Nam, Bến Tre',\n",
              " '0331_tests.png': '47 Hàng Bồ, Phường Hàng Bồ, Quận Hoàn Kiếm, Hà Nội',\n",
              " '0332_tests.png': 'Cụm 5, Thị trấn A Lưới, Huyện A Lưới, Thừa Thiên - Huế',\n",
              " '0333_tests.png': '426, Đường Tô Ngọc Vân, phường Thạnh Xuân, Quận 12, TP Hồ Chí Minh',\n",
              " '0334_tests.png': 'KV Thới Thạnh, Phường Thới An, Quận Ô Môn, Cần Thơ',\n",
              " '0335_tests.png': 'Số 262/16 Nguyễn Tiểu La, Phường 08, Quận 10, TP Hồ Chí Minh',\n",
              " '0336_tests.png': '67 Phan Đăng Lưu, Phường Hoà Cường Nam, Quận Hải Châu, Đà Nẵng',\n",
              " '0337_tests.png': '88A Kha Vạn Cân, Phường Hiệp Bình Chánh, Quận Thủ Đức, TP Hồ Chí Minh',\n",
              " '0338_tests.png': 'Thôn 3, Xã Thạch Long, Huyện Thạch Thành, Thanh Hoá',\n",
              " '0339_tests.png': 'Số 63-65, Cao Văn Lầu, Khóm 3, Phường 5, Thành Phố Bạc Liêu, Bạc Liêu',\n",
              " '0340_tests.png': 'Số nhà 27, đường Chu Văn An, Phường Lê Lợi, Thành phố Vinh, Nghệ An',\n",
              " '0341_tests.png': 'Thôn Đông Cứu, Xã Dũng Tiến, Huyện Thường Tín, Hà Nội',\n",
              " '0342_tests.png': 'Đường 179, Xã Cửu Cao, Huyện Văn Giang, Hưng Yên',\n",
              " '0343_tests.png': 'KCN Biên Hòa 1, Thành Phố Biên Hoà, Đồng Nai',\n",
              " '0344_tests.png': 'Xóm Trung Tâm, Xã Mường Lống, Huyện Kỳ Sơn, Nghệ An',\n",
              " '0345_tests.png': 'Thôn My Thượng, xã Thanh Mai,, Xã Thanh Mai, Huyện Thanh Oai, Hà Nội',\n",
              " '0346_tests.png': 'B127 Nguyễn Văn Quá, phường Đông Hưng Thuận, Quận 12, TP Hồ Chí Minh',\n",
              " '0347_tests.png': 'Số 27, tổ 1, khu 1, ấp 2, Xã An Hoà, Thành Phố Biên Hoà, Đồng Nai',\n",
              " '0348_tests.png': 'Xóm Giữa, Xã Thanh Liệt, Huyện Thanh Trì, Hà Nội',\n",
              " '0349_tests.png': '14B Trần Ngọc Diện, Phường Thảo Điền, Quận 2, TP Hồ Chí Minh',\n",
              " '0350_tests.png': 'Tổ 3, ấp 4, Tỉnh Lộ 8, Xã Hoà Phú, Huyện Củ Chi, TP Hồ Chí Minh',\n",
              " '0351_tests.png': 'Số 728 Bạch Đằng, Phường Bạch Đằng, Quận Hai Bà Trưng, Hà Nội',\n",
              " '0352_tests.png': 'Số 57, phố Đường Thành, Phường Cửa Đông, Quận Hoàn Kiếm, Hà Nội',\n",
              " '0353_tests.png': 'Số 43 Nguyễn Thượng Hiền, Phường Nguyễn Du, Quận Hai Bà Trưng, Hà Nội',\n",
              " '0354_tests.png': '397/5, Tây Lạc, An Chu, Xã Bắc Sơn, Huyện Trảng Bom, Đồng Nai',\n",
              " '0355_tests.png': '65/6Y ấp Mỹ Hòa 3, Xã Tân Xuân, Huyện Hóc Môn, TP Hồ Chí Minh',\n",
              " '0356_tests.png': 'Số 86 Lê Hồng Phong, Phường 4, Thành Phố Vũng Tàu, Bà Rịa - Vũng Tàu',\n",
              " '0357_tests.png': 'Số 282 Tây Sơn, Phường Trung Liệt, Quận Đống đa, Hà Nội',\n",
              " '0358_tests.png': 'Tân Đức, Xã Vạn Lương, Huyện Vạn Ninh, Khánh Hòa',\n",
              " '0359_tests.png': '68 Phạm Viết Chánh, Phường 19, Quận Bình Thạnh, TP Hồ Chí Minh',\n",
              " '0360_tests.png': '91 Nguyễn Văn Thủ, Phường Đa Kao, Quận 1, TP Hồ Chí Minh',\n",
              " '0361_tests.png': 'Số 252 Khu phố 4, Thị trấn Thứ Ba, Huyện An Biên, Kiên Giang',\n",
              " '0362_tests.png': 'Đội 8, thôn Văn Lăng, Xã Trực Tuấn, Huyện Trực Ninh, Nam Định',\n",
              " '0363_tests.png': '221/8 Hà Tôn Quyền, Phường 6, Quận 11, TP Hồ Chí Minh',\n",
              " '0364_tests.png': 'Số 21 Lê Thánh Tông, Phường Máy Chai, Quận Ngô Quyền, Hải Phòng',\n",
              " '0365_tests.png': 'Tiểu khu 5, thị trấn Chợ Rã, Huyện Ba Bể, Bắc Cạn',\n",
              " '0366_tests.png': '628A Nguyễn Duy, Phường 12, Quận 8, TP Hồ Chí Minh',\n",
              " '0367_tests.png': 'Số 32, ngõ 420 Khương Đình, Phường Hạ Đình, Quận Thanh Xuân, Hà Nội',\n",
              " '0368_tests.png': '23 Điện Biên Phủ, Phường Đa Kao, Quận 1, TP Hồ Chí Minh',\n",
              " '0369_tests.png': 'Số 6, ngõ 170 Thạch Bàn, Phường Thạch Bàn, Quận Long Biên, Hà Nội',\n",
              " '0370_tests.png': 'B19, đường 57, Khu dân cư 586, Phường Phú Thứ, Quận Cái Răng, Cần Thơ',\n",
              " '0371_tests.png': '20A Lê Văn Hưu, Phường Bến Nghé, Quận 1, TP Hồ Chí Minh',\n",
              " '0372_tests.png': 'Thôn Đông Hải, Huyện Phú Quý, Bình Thuận',\n",
              " '0373_tests.png': 'Đường Lê Quý Đôn, Phường An Lộc, Thị xã Bình Long, Bình Phước',\n",
              " '0374_tests.png': 'Km số 3, đường phan trọng tuệ, Xã Tam Hiệp, Huyện Thanh Trì, Hà Nội',\n",
              " '0375_tests.png': 'Tổ 12, khối 3, Thị trấn Diễn Châu, Huyện Diễn Châu, Nghệ An',\n",
              " '0376_tests.png': 'Xóm Sơn Phú, Xã Cao Sơn, Huyện Đà Bắc, Hòa Bình',\n",
              " '0377_tests.png': 'Thôn Thuận Phước, Xã Thuận Đức, Thành Phố Đồng Hới, Quảng Bình',\n",
              " '0378_tests.png': 'Cụm Công nghiệp Nam An Sơn, Xã Quế Thọ, Huyện Hiệp Đức, Quảng Nam',\n",
              " '0379_tests.png': '207/16/7a Nam Cao P.Tân Phú, Phường Tân Phú, Quận 9, TP Hồ Chí Minh',\n",
              " '0380_tests.png': 'ấp ông Trịnh, Xã Tân Phước, Huyện Tân Thành, Bà Rịa - Vũng Tàu',\n",
              " '0381_tests.png': '54A Phan Đình Phùng, Phường Tây Sơn, Thành phố Pleiku, Gia Lai',\n",
              " '0382_tests.png': '25, Tân Trào, Phường Tân An, Quận Ninh Kiều, Cần Thơ',\n",
              " '0383_tests.png': 'Xóm Đông Thành, Xã Vĩnh Thành, Huyện Yên Thành, Nghệ An',\n",
              " '0384_tests.png': 'Số 165/2, KP 7, Phường Tân Hòa, Thành Phố Biên Hoà, Đồng Nai',\n",
              " '0385_tests.png': 'Thôn Kênh Mai, Xã Văn Đức, Thị xã Chí Linh, Hải Dương',\n",
              " '0386_tests.png': 'Khối 6A, Thị trấn Anh Sơn, Huyện Anh Sơn, Nghệ An',\n",
              " '0387_tests.png': 'Khu công nghiệp NOMURRA, Huyện An Dương, Hải Phòng',\n",
              " '0388_tests.png': '13/5A Nguyễn Văn Quá, phường Đông Hưng Thuận, Quận 12, TP Hồ Chí Minh',\n",
              " '0389_tests.png': 'Số 240 Đường Tôn Đức Thắng, Phường Hàng Bột, Quận Đống Đa, Hà Nội',\n",
              " '0390_tests.png': '186/14 Bình Thới, Phường 14, Quận 11, TP Hồ Chí Minh',\n",
              " '0391_tests.png': '94 Nguyễn Cửu Đàm, Phường Tân Sơn Nhì, Quận Tân phú, TP Hồ Chí Minh',\n",
              " '0392_tests.png': 'Số 38 Hào Nam, Phường ô Chợ Dừa, Quận Đống đa, Hà Nội',\n",
              " '0393_tests.png': 'Thị Trấn Cao Lộc, Huyện Cao Lộc, Lạng Sơn',\n",
              " '0394_tests.png': '20 LK28 khu đô thị Văn Phú, Phường Phú La, Quận Hà Đông, Hà Nội',\n",
              " '0395_tests.png': '68 Bà Huyện Thanh Quan, Phường Mỹ An, Quận Ngũ Hành Sơn, Đà Nẵng',\n",
              " '0396_tests.png': 'QL 1A, KV 7, Phường Bùi Thị Xuân, Thành phố Quy Nhơn, Bình Định',\n",
              " '0397_tests.png': 'Đội 7, Xã Mường Báng, Huyện Tủa Chùa, Điện Biên',\n",
              " '0398_tests.png': '777 Ngô Quyền, Phường An Hải Bắc, Quận Sơn Trà, Đà Nẵng',\n",
              " '0399_tests.png': 'Tân Thiềng, Xã Tân An Hội, Huyện Mang Thít, Vĩnh Long',\n",
              " '0400_tests.png': '63H Cư Xá Phú Lâm D, Phường 10, Quận 6, TP Hồ Chí Minh',\n",
              " '0401_tests.png': 'Xóm Đông, thôn Khê Ngoại, Xã Văn Khê, Huyện Mê Linh, Hà Nội',\n",
              " '0402_tests.png': 'Thôn Dừa lẽ xã Hải lựu, Huyện Sông Lô, Vĩnh Phúc',\n",
              " '0403_tests.png': 'Lê hoá, Huyện Tuyên Hoá, Quảng Bình',\n",
              " '0404_tests.png': 'TK 13, Phường Bắc Nghĩa, Thành Phố Đồng Hới, Quảng Bình',\n",
              " '0405_tests.png': '28 Nguyễn Thị Diệu P.6, Phường 06, Quận 3, TP Hồ Chí Minh',\n",
              " '0406_tests.png': 'Quốc lộ 14, ấp 3, Xã Tân Thành, Thị xã Đồng Xoài, Bình Phước',\n",
              " '0407_tests.png': '79 Nguyễn Cư Trinh, Phường Thuận Hòa, Thành phố Huế, Thừa Thiên - Huế',\n",
              " '0408_tests.png': '15B/71 Lê Thánh Tôn, Phường Bến Nghé, Quận 1, TP Hồ Chí Minh',\n",
              " '0409_tests.png': 'Tầng 4, số 5A Võ Thị Sáu, Phường Máy Tơ, Quận Ngô Quyền, Hải Phòng',\n",
              " '0410_tests.png': 'Tổ 2, khu 1, Phường Vân Phú, Thành Phố Việt Trì, Phú Thọ',\n",
              " '0411_tests.png': '5/5 Đường 4, Khu phố 4, Phường Tam Phú, Quận Thủ Đức, TP Hồ Chí Minh',\n",
              " '0412_tests.png': 'Số 101 Tô Vĩnh Diện, Phường Khương Trung, Quận Thanh Xuân, Hà Nội',\n",
              " '0413_tests.png': '296 Lưu Hữu Phước P.15, Phường 15, Quận 8, TP Hồ Chí Minh',\n",
              " '0414_tests.png': '119 Mai Hắc Đế, Phường Bùi Thị Xuân, Quận Hai Bà Trưng, Hà Nội',\n",
              " '0415_tests.png': 'Khu CN Bá Thiện, Xã Bá Hiến, Huyện Bình Xuyên, Vĩnh Phúc',\n",
              " '0416_tests.png': 'Thôn Tân An, Xã Đại Lãnh, Huyện Đại Lộc, Quảng Nam',\n",
              " '0417_tests.png': '11 Ngô Văn Trị, Phường Phú Lợi, Thành Phố Thủ Dầu Một, Bình Dương',\n",
              " '0418_tests.png': 'Số 354 Đường Tô hiệu, Quận Lê Chân, Hải Phòng',\n",
              " '0419_tests.png': 'Xã Tân Thành, Huyện Tân Hiệp, Kiên Giang',\n",
              " '0420_tests.png': '15/1 Lê Thánh Tôn, Phường Bến Nghé, Quận 1, TP Hồ Chí Minh',\n",
              " '0421_tests.png': 'Số 11B Ngô Văn Sở, Phường Ngọc Trạo, Thành phố Thanh Hoá, Thanh Hoá',\n",
              " '0422_tests.png': 'Số 82 Phố An Trạch, Phường Quốc Tử Giám, Quận Đống đa, Hà Nội',\n",
              " '0423_tests.png': 'Thôn Tú Sơn 1, Xã Đức Lân, Huyện Mộ Đức, Quảng Ngãi',\n",
              " '0424_tests.png': 'Ngã tư chùa Vít, Xã Cẩm Phúc, Huyện Cẩm Giàng, Hải Dương',\n",
              " '0425_tests.png': 'Đường Trần Hưng Đạo, Tỉnh Ninh Bình, Ninh Bình',\n",
              " '0426_tests.png': '49B Nguyễn Đỗ Cung, Phường Tây Thạnh, Quận Tân phú, TP Hồ Chí Minh',\n",
              " '0427_tests.png': 'Nấm dẩn, Xã Nấm Dẩn, Huyện Xín Mần, Hà Giang',\n",
              " '0428_tests.png': '47A Lê Liễu, Phường Tân Quý, Quận Tân phú, TP Hồ Chí Minh',\n",
              " '0429_tests.png': 'ấp Mới 2, xã Mỹ Hạnh Nam, Huyện Đức Hoà, Long An',\n",
              " '0430_tests.png': 'Km 28, Quốc lộ 27A, Xã Quảng Sơn, Huyện Ninh Sơn, Ninh Thuận',\n",
              " '0431_tests.png': 'Số 18, ngách 12/21, phố Đào Tấn, Phường Cống Vị, Quận Ba Đình, Hà Nội',\n",
              " '0432_tests.png': 'Số 220B/2 khu phố 1B, Phường An Phú, Tx Thuận An, Bình Dương',\n",
              " '0433_tests.png': 'P903-10, tòa nhà Viglacera, Phường Mễ Trì, Quận Nam Từ Liêm, Hà Nội',\n",
              " '0434_tests.png': 'Sơn Liên, Xã Nghĩa Sơn, Huyện Nghĩa Đàn, Nghệ An',\n",
              " '0435_tests.png': 'Số 15 Đông Khê, Phường Đông Khê, Quận Ngô Quyền, Hải Phòng',\n",
              " '0436_tests.png': '324 Trần Hưng Đạo, Phường Bà Triệu, Thành Phố Nam Định, Nam Định',\n",
              " '0437_tests.png': 'Xã Long Định, Xã Long Định, Huyện Bình Đại, Bến Tre',\n",
              " '0438_tests.png': 'Số 2 đường Phùng Hưng, Quận Hà Đông, Hà Nội',\n",
              " '0439_tests.png': 'Thôn Tiền Thắng, Xã Bảo Khê, Thành Phố Hưng Yên, Hưng Yên',\n",
              " '0440_tests.png': '409/12 Nguyễn Trãi P.07, Phường 07, Quận 5, TP Hồ Chí Minh',\n",
              " '0441_tests.png': 'Bản Hua Mường, Xã Sốp Cộp, Huyện Sốp Cộp, Sơn La',\n",
              " '0442_tests.png': 'Long Trung, Xã Long Thành Trung, Huyện Hoà Thành, Tây Ninh',\n",
              " '0443_tests.png': '18D Nguyễn Lâm, Phường 06, Quận 10, TP Hồ Chí Minh',\n",
              " '0444_tests.png': 'Thôn 2, xã Đức Lân, Huyện Mộ Đức, Quảng Ngãi',\n",
              " '0445_tests.png': '423/22 Nguyễn Kiệm, Phường 09, Quận Phú Nhuận, TP Hồ Chí Minh',\n",
              " '0446_tests.png': '15B-19 Đường Ba Mươi Tháng Tư, Phường 1, Thành phố Mỹ Tho, Tiền Giang',\n",
              " '0447_tests.png': 'Thôn Xuân Lai, Xã Gia Tiến, Huyện Gia Viễn, Ninh Bình',\n",
              " '0448_tests.png': 'Số 37 Trần Cao Vân, P Ngọc Trạo, Thành phố Thanh Hoá, Thanh Hoá',\n",
              " '0449_tests.png': 'Thôn Vân La, Xã Hồng Vân, Huyện Thường Tín, Hà Nội',\n",
              " '0450_tests.png': 'Thôn La Tiến, Xã Nguyên Hòa, Huyện Phù Cừ, Hưng Yên',\n",
              " '0451_tests.png': 'Tổ dân phố 5 Tân Sơn, Thành phố Sông Công, Thái Nguyên',\n",
              " '0452_tests.png': '151A Phạm Hùng, Phường Hoà Xuân, Quận Cẩm Lệ, Đà Nẵng',\n",
              " '0453_tests.png': 'ấp Cái Dầy, Thị trấn Châu Hưng, Huyện Vĩnh Lợi, Bạc Liêu',\n",
              " '0454_tests.png': '4, Bế Văn Đàn, Phường An Hòa, Quận Ninh Kiều, Cần Thơ',\n",
              " '0455_tests.png': 'Thôn Chợ, Xã Bình Minh, Huyện Thanh Oai, Hà Nội',\n",
              " '0456_tests.png': 'Thôn 4, Đông Trai, Xã Diễn Kỷ, Huyện Diễn Châu, Nghệ An',\n",
              " '0457_tests.png': 'xã quảng thành, Xã Quảng Thành, Huyện Hải Hà, Quảng Ninh',\n",
              " '0458_tests.png': 'THôN AN THọ, Xã An Khánh, Huyện Hoài Đức, Hà Nội',\n",
              " '0459_tests.png': 'Số 55/3, Hùng Vương, Phường 9, Thành Phố Đà Lạt, Lâm Đồng',\n",
              " '0460_tests.png': '483- Trường Chinh, Phường An Khê, Quận Thanh Khê, Đà Nẵng',\n",
              " '0461_tests.png': 'ấp Thanh Hiệp, xã Thanh Phú, Huyện Bến Lức, Long An',\n",
              " '0462_tests.png': '127/8F2/10G, Mậu Thân, Phường An Hòa, Quận Ninh Kiều, Cần Thơ',\n",
              " '0463_tests.png': 'Tổ 4, Thị trấn Kon Dơng, Huyện Mang Yang, Gia Lai',\n",
              " '0464_tests.png': '8 Đường 12D, Phường Long Thạnh Mỹ, Quận 9, TP Hồ Chí Minh',\n",
              " '0465_tests.png': 'thôn Đá Mài 2, Xã Tân Xuân, Huyện Hàm Tân, Bình Thuận',\n",
              " '0466_tests.png': 'Phường Quang Trung, Thành phố Hải Dương, Hải Dương',\n",
              " '0467_tests.png': 'Số nhà 6, hẻm 124/22/53 âu Cơ, Phường Tứ Liên, Quận Tây Hồ, Hà Nội',\n",
              " '0468_tests.png': 'Thôn Đông Hồng, Xã Quỳnh Bảo, Huyện Quỳnh Phụ, Thái Bình',\n",
              " '0469_tests.png': 'Thôn Ninh Hải, Xã Minh Châu, Huyện Vân Đồn, Quảng Ninh',\n",
              " '0470_tests.png': 'K34/17 đường Đàm Văn Lễ, Phường Hoà An, Quận Cẩm Lệ, Đà Nẵng',\n",
              " '0471_tests.png': 'Xã Tân Hương, Xã Tân Hương, Huyện Đức Thọ, Hà Tĩnh',\n",
              " '0472_tests.png': 'Tổ 9, ấp Trà Hiệp, Xã Trà Vong, Huyện Tân Biên, Tây Ninh',\n",
              " '0473_tests.png': '199/46 Tân Hương, Phường Tân Quý, Quận Tân phú, TP Hồ Chí Minh',\n",
              " '0474_tests.png': 'Số 414 Đà Nẵng, Phường Đông Hải 1, Quận Hải An, Hải Phòng',\n",
              " '0475_tests.png': 'Số 39 ngõ 23 phố Đỗ Quang, Phường Trung Hoà, Quận Cầu Giấy, Hà Nội',\n",
              " '0476_tests.png': 'Thôn Phú An, Đại Thắng, Huyện Đại Lộc, Quảng Nam',\n",
              " '0477_tests.png': '439/59/15 Hồ Học Lãm, Phường An Lạc, Quận Bình Tân, TP Hồ Chí Minh',\n",
              " '0478_tests.png': 'Thôn Tùng Quang, Xã Hương Quang, Huyện Vũ Quang, Hà Tĩnh',\n",
              " '0479_tests.png': 'Số 38A/20 khu phố Bình Đường 1, Phường An Bình, Tx Dĩ An, Bình Dương',\n",
              " '0480_tests.png': '256/3 Phạm Văn Chí, Phường 04, Quận 6, TP Hồ Chí Minh',\n",
              " '0481_tests.png': 'Thị trấn Bắc yên, Huyện Bắc Yên, Sơn La',\n",
              " '0482_tests.png': 'LK11B-35, khu đô thị Mỗ Lao, Phường Mộ Lao, Quận Hà Đông, Hà Nội',\n",
              " '0483_tests.png': 'Số 1 đường Quang Trung, Thành phố Lạng Sơn, Lạng Sơn',\n",
              " '0484_tests.png': 'Thôn Tiến Vũ 8, Xã An Tường, Thành Phố Tuyên Quang, Tuyên Quang',\n",
              " '0485_tests.png': 'Số 384, tổ 1, Phường Trần Phú, Quận Hoàng Mai, Hà Nội',\n",
              " '0486_tests.png': 'Thôn Ngọc Loan, Xã Tân Quang, Huyện Văn Lâm, Hưng Yên',\n",
              " '0487_tests.png': '07 Điện Biên Phủ, Phường Phường Đúc, Thành phố Huế, Thừa Thiên - Huế',\n",
              " '0488_tests.png': 'Số 010, ấp 1, Xã Hội Nghĩa, Thị xã Tân Uyên, Bình Dương',\n",
              " '0489_tests.png': 'Tầng 16 Toà Nhà Saigon Tower 29 Lê Duẩn, Quận 1, TP Hồ Chí Minh',\n",
              " '0490_tests.png': 'xã Tân Triều, Xã Tân Triều, Huyện Thanh Trì, Hà Nội',\n",
              " '0491_tests.png': 'Xã Ngọc Lâu, Xã Ngọc Lâu, Huyện Lạc Sơn, Hòa Bình',\n",
              " '0492_tests.png': 'Số 36, ngõ 14, tổ 11, Phường La Khê, Quận Hà Đông, Hà Nội',\n",
              " '0493_tests.png': 'Số 499/6/118 Quang Trung, Phường 10, Quận Gò Vấp, TP Hồ Chí Minh',\n",
              " '0494_tests.png': 'Khối 1, Phường Thu Thuỷ, Thị Xã Cửa Lò, Nghệ An',\n",
              " '0495_tests.png': 'Số 5, phố Thanh Đàm, Phường Thanh Trì, Quận Hoàng Mai, Hà Nội',\n",
              " '0496_tests.png': 'ấp Sở Tại, Xã Thạnh Phú, Huyện Cái Nước, Cà Mau',\n",
              " '0497_tests.png': '235-237-239-241 Cộng Hòa, Phường 13, Quận Tân Bình, TP Hồ Chí Minh',\n",
              " '0498_tests.png': '114/9 Vườn Lài, phường An Phú Đông, Quận 12, TP Hồ Chí Minh',\n",
              " '0499_tests.png': 'Số nhà 30C, tổ dân phố số 1, Phường Văn Quán, Quận Hà Đông, Hà Nội',\n",
              " '0500_tests.png': '37/11/24 đường Phú Định, Phường 16, Quận 8, TP Hồ Chí Minh',\n",
              " '0501_tests.png': 'Số 205 đường Ngô Quyền, Phường Máy Chai, Quận Ngô Quyền, Hải Phòng',\n",
              " '0502_tests.png': 'Thôn Định Bình, Thị trấn Vĩnh Thạnh, Huyện Vĩnh Thạnh, Bình Định',\n",
              " '0503_tests.png': 'Đường Trần Nhật Duật -, Phường Kim Tân, Thành phố Lào Cai, Lào Cai',\n",
              " '0504_tests.png': 'Số nhà 63 tổ 19, phố Mai Dịch, Phường Mai Dịch, Quận Cầu Giấy, Hà Nội',\n",
              " '0505_tests.png': 'Thôn Tân Ninh, Xã Tân Thủy, Huyện Lệ Thuỷ, Quảng Bình',\n",
              " '0506_tests.png': 'Xóm Đình, thôn Tự Khoát, Xã Ngũ Hiệp, Huyện Thanh Trì, Hà Nội',\n",
              " '0507_tests.png': 'Phố Bình Minh, Huyện Lục Nam, Bắc Giang',\n",
              " '0508_tests.png': '298 Trường Sa, Phường 02, Quận Phú Nhuận, TP Hồ Chí Minh',\n",
              " '0509_tests.png': 'Số 48 Láng Hạ, Phường Láng Hạ, Quận Đống Đa, Hà Nội',\n",
              " '0510_tests.png': 'Thôn Trung Nghĩa, Xã Hoà Ninh, Huyện Hoà Vang, Đà Nẵng',\n",
              " '0511_tests.png': '553/60B Nguyễn Kiệm, Phường 09, Quận Phú Nhuận, TP Hồ Chí Minh',\n",
              " '0512_tests.png': '125/11 Nguyễn Cửu Vân, Phường 17, Quận Bình Thạnh, TP Hồ Chí Minh',\n",
              " '0513_tests.png': '81 Mai Thị Lựu, Phường Đa Kao, Quận 1, TP Hồ Chí Minh',\n",
              " '0514_tests.png': 'Khu tập thể Xí nghiệp 4, Xã Duyên Thái, Huyện Thường Tín, Hà Nội',\n",
              " '0515_tests.png': '153 Đặng Văn Ngữ, Phường 14, Quận Phú Nhuận, TP Hồ Chí Minh',\n",
              " '0516_tests.png': 'Thôn Đào Duy Từ, Xã Nguyên Bình, Huyện Tĩnh Gia, Thanh Hoá',\n",
              " '0517_tests.png': 'âp Hoà Hưng, Huyện Tân Thạnh, Long An',\n",
              " '0518_tests.png': 'Tổ 7, Phường Minh Khai, Thành Phố Phủ Lý, Hà Nam',\n",
              " '0519_tests.png': 'B12/8N/10C ấp 2, Xã Vĩnh Lộc B, Huyện Bình Chánh, TP Hồ Chí Minh',\n",
              " '0520_tests.png': '285/2 Nguyễn Văn Trỗi, Phường 10, Quận Phú Nhuận, TP Hồ Chí Minh',\n",
              " '0521_tests.png': 'Số 149A, ấp Long Hưng, Xã Long Chánh, Thị xã Gò Công, Tiền Giang',\n",
              " '0522_tests.png': 'Thôn La Bông, Xã Hoà Tiến, Huyện Hoà Vang, Đà Nẵng',\n",
              " '0523_tests.png': 'Số 20, khu tập thể Thuỷ Sản, Phường Mai Dịch, Quận Cầu Giấy, Hà Nội',\n",
              " '0524_tests.png': '92/45 Xô Viết Nghệ Tĩnh, Phường 21, Quận Bình Thạnh, TP Hồ Chí Minh',\n",
              " '0525_tests.png': 'Số 400/1A, khu phố Tân An, PhườngTân Đông Hiệp, Tx Dĩ An, Bình Dương',\n",
              " '0526_tests.png': 'Số 102 - Nguyễn ái Quốc, Phường Bắc Hồng, Thị xã Hồng Lĩnh, Hà Tĩnh',\n",
              " '0527_tests.png': 'Thôn 8, Xã Đắk Ha, Huyện Đắk Glong, Đắk Nông',\n",
              " '0528_tests.png': 'Khu 6 Tráng Việt, Xã Tráng Việt, Huyện Mê Linh, Hà Nội',\n",
              " '0529_tests.png': '78/1 Đường TA21, phường Thới An, Quận 12, TP Hồ Chí Minh',\n",
              " '0530_tests.png': '501 - 503 Trần Hưng Đạo, Phường 14, Quận 5, TP Hồ Chí Minh',\n",
              " '0531_tests.png': 'ấp 1, Huyện Cần Đước, Long An',\n",
              " '0532_tests.png': '14 Nguyễn Thái Học, P Tân An, Quận Ninh Kiều, Cần Thơ',\n",
              " '0533_tests.png': '75/1 Cây Keo, Phường Tam Phú, Quận Thủ Đức, TP Hồ Chí Minh',\n",
              " '0534_tests.png': 'Thôn Xuân Sơn, Xã Trung Giã, Huyện Sóc Sơn, Hà Nội',\n",
              " '0535_tests.png': 'ấp Cầu Xây Thị trấn Thủ Thừa, Huyện Thủ Thừa, Long An',\n",
              " '0536_tests.png': '62B Trần Bình Trọng, Phường 5, Quận Bình Thạnh, TP Hồ Chí Minh',\n",
              " '0537_tests.png': 'Thôn Sín Chải, Xã Tả Giàng Phình, Huyện Sa Pa, Lào Cai',\n",
              " '0538_tests.png': '439 An Dương Vương, Phường 03, Quận 5, TP Hồ Chí Minh',\n",
              " '0539_tests.png': '02 - 04, KP 3, An bình, Phường An Bình, Thành phố Biên Hoà, Đồng Nai',\n",
              " '0540_tests.png': 'Số 204/15 đường Hải Phòng, Phường Tân Chính, Quận Thanh Khê, Đà Nẵng',\n",
              " '0541_tests.png': 'Số 24/A, ấp An Viễng, Xã Bình An, Huyện Long Thành, Đồng Nai',\n",
              " '0542_tests.png': 'Đường Cao Thắng, Thôn 11, Xã Lộc Ninh, Thành phố Đồng Hới, Quảng Bình',\n",
              " '0543_tests.png': 'Thôn Đa Đinh, Xã An Bình, Huyện Nam Sách, Hải Dương',\n",
              " '0544_tests.png': 'Thôn AGrồng - Xã ATiêng, Xã A Tiêng, Huyện Tây Giang, Quảng Nam',\n",
              " '0545_tests.png': '305/66 Lê Văn Sỹ, Phường 1, Quận Tân Bình, TP Hồ Chí Minh',\n",
              " '0546_tests.png': 'Thôn Giang Bắc, Xã Phước Hiệp, Huyện Tuy Phước, Bình Định',\n",
              " '0547_tests.png': 'Thôn Vạn Phúc, Xã Vạn Kim, Huyện Mỹ Đức, Hà Nội',\n",
              " '0548_tests.png': 'Đồng Sau - xã Đồng Sơn, Xã Đồng Sơn, Thành phố Bắc Giang, Bắc Giang'}"
            ]
          },
          "metadata": {},
          "execution_count": 8
        }
      ]
    },
    {
      "cell_type": "code",
      "metadata": {
        "colab": {
          "base_uri": "https://localhost:8080/"
        },
        "id": "9zCvN0599gHZ",
        "outputId": "b74abd31-f499-448c-9c8a-cb9182824b31"
      },
      "source": [
        "test_pred"
      ],
      "execution_count": null,
      "outputs": [
        {
          "output_type": "execute_result",
          "data": {
            "text/plain": [
              "{'0000_tests.png': 'Số 10, đường Lý Văn Lâm, Phường 1, Thành Phố Cà Mau, Cà Mau',\n",
              " '0001_tests.png': '271 Huỳnh Ngọc Huệ, Phường Hoà Khê, Quận Thanh Khê, Đà Nẵng',\n",
              " '0002_tests.png': 'Số 35/20B, KP 9, Phường Hố Nai, Thành phố Biên Hoà, Đồng Nai',\n",
              " '0003_tests.png': 'Số 18/2, tổ 8, ấp Tân Hòa, Xã Tân Tiến, Huyện Bù Đốp, Bình Phước',\n",
              " '0004_tests.png': 'Số 43, tổ 2D, Khu 1, Phường Gia Cái, Thành phố Việt Trì, Phú Thọ',\n",
              " '0005_tests.png': 'Thôn Cầu Đam, Xã Trinh Xuân, Huyện Sóc Sơn, Hà Nội',\n",
              " '0006_tests.png': '35 Ni Sư Huỳnh Lán, Phường 10, Quận Tân Bình, TP Hồ Chí Minh',\n",
              " '0007_tests.png': 'TT Trồ 11 Cao Vân, Phường Ngọc Than, Thành phố Đanh Hoá, Thanh Hoá',\n",
              " '0008_tests.png': 'Số 99 Phố Yên Phúc, Phường Phúc Lai, Quận Hà Đông, Hà Nội',\n",
              " '0009_tests.png': 'Số 12, Ngõ 11, Phố Trái Hà, Phường Trung Liệt, Quận Đống Đa, Hà Nội',\n",
              " '0010_tests.png': 'Số 9 lô 5/6A Bạch Đằng, Phường Hạ Lý, Quận Hồng Bàng, Hải Phòng',\n",
              " '0011_tests.png': '6/2 Lầu Tân Khai, Phường 4, Quận 11, TP Hồ Chí Minh',\n",
              " '0012_tests.png': 'A5 B2 Đường 30/4, Phường Khánh, Quận Ninh Kiều, Cần Thơ',\n",
              " '0013_tests.png': '61/14A đường số 19, Phường 8, Quận Gò Vấp, TP Hồ Chí Minh',\n",
              " '0014_tests.png': '49 Tự Phước, Thành phố Đà Lạt, Lâm Đồng',\n",
              " '0015_tests.png': 'ấp 2, Xã Tân Thạnh, Văn Tân Thạnh, Huyện Cái Bè, Tiền Giang',\n",
              " '0016_tests.png': '205 Lê Lư, Thành Phố Phan Thiết, Bình Thuận',\n",
              " '0017_tests.png': 'B8 đường 6T2, Khu phố 1, Phường Phước Long B, Quận 9, TP Hồ Chí Minh',\n",
              " '0018_tests.png': 'Số 1A Dũy 83 Lâm tập thể Sân Sang, Xã Phú Minh, Huyện Lác Sơn, Hà Nội',\n",
              " '0019_tests.png': 'Số 121/3A Khánh 3, Phường 9, Thành Phố Vĩnh Long, Vĩnh Long',\n",
              " '0020_tests.png': 'Thôn Long A1B, Phường Long Hú, Thị xã Tân Châu, An Giang',\n",
              " '0021_tests.png': 'SN 040 - Tổ 6, Phường Tân Giang, Thành Phố Cao Bằng, Cao Bằng',\n",
              " '0022_tests.png': 'KCN Lương Sơn, Km 36, Xã Hòa Sơn, Huyện Lương Sơn, Hòa Bình',\n",
              " '0023_tests.png': '198/229A Đoàn Văn Bơ, phường 10, Quận 4, TP Hồ Chí Minh',\n",
              " '0024_tests.png': 'Số 26D, ấp Khánh Nhơn, Xã Tân Khánh Đông, Thành Phố Sa Đéc, Đồng Tháp',\n",
              " '0025_tests.png': 'Thôn Phú Sơn, Xã Hàm Mỹ, Huyện Hàm Thuận Nam, Bình Thuận',\n",
              " '0026_tests.png': 'Số 5072 ngõ Nam Phái 1, Phường Đằng Giang, Quận Ngô Quyền, Hải Phòng',\n",
              " '0027_tests.png': 'Số 152, Tổ 1, ấp 1, Xã Mỹ Hiệp, Huyện Cao Lãnh, Đồng Tháp',\n",
              " '0028_tests.png': 'ấp 5, Xã Đốc Bình Kiền, Huyện Tháp Mưới, Đồng Tháp',\n",
              " '0029_tests.png': 'Tổ 198, Phường Vuy An, Quận Ngũ Tành Sơn, Đà Nẵng',\n",
              " '0030_tests.png': 'Thôn Cầu Trọng, xã Mỹ Thái, Huyện Lạng Giang, Bắc Giang',\n",
              " '0031_tests.png': 'Số 25 ngách 23, ngõ Thịnh Hào 2, Phường Hàng Bột, Quận Đống đa, Hà Nội',\n",
              " '0032_tests.png': 'Tổ 4, Khu 8, Phường Cẩm Trành, Thành phố Cẩm Phả, Quảng Ninh',\n",
              " '0033_tests.png': 'xã Hà Tây, Xã Hà Tây, Huyện Chu Pắk, Gia Lai',\n",
              " '0034_tests.png': 'Xóm 11, Xã Quỳnh Hưng, Huyện Quỳnh Lưu, Nghệ An',\n",
              " '0035_tests.png': 'Khối 250, Phường Quang Triền, Thị Xã Thái Hòa, Nghệ An',\n",
              " '0036_tests.png': 'Xóm Cụm công nghiệp Nhật Tân, xã Nhật Tân, Huyện Kim Bảng, Hà Nam',\n",
              " '0037_tests.png': '128 Hoàn Phú Tứ, Phường Hoà Khánh Bắc, Quận Liên Chiểu, Đà Nẵng',\n",
              " '0038_tests.png': 'Đường Đông Oai, Phường Hoà Cường Bắc, Quận Hới Châu, Đà Nẵng',\n",
              " '0039_tests.png': 'Số 10E, đường Thái Thịnh, Phường Trung Liệt, Quận Bình Hà Nội',\n",
              " '0040_tests.png': '113/3, tổ 40, KP 8, Phường Tân Phong, Thành Phố Biên Hoà, Đồng Nai',\n",
              " '0041_tests.png': 'UBND xã Bình Thạnh, Xã Bình Thành, Huyện Phụng Hiệp, Hải Giang',\n",
              " '0042_tests.png': '12A, Võ Văn Kiệc, Phường Long Hoà, Quận Bình Thuỷ, Cần Thơ',\n",
              " '0043_tests.png': '14 Thanh Tịnh, Phường Vỹ Da, Thành Phố Huế, Thừa Triên - Huế',\n",
              " '0044_tests.png': 'Số 63/4 Kiến Thiệt, Quận Hồng Bàng, Hải Phòng',\n",
              " '0045_tests.png': 'Khu 5, Thị trấn Khu 5, Thị trấn - Huế',\n",
              " '0046_tests.png': 'Lô 2A, khu CN Tâ Núc, Phường Trà Nóc, Quận Bình Thuỷ, Cần Thơ',\n",
              " '0047_tests.png': 'Số 9, đường Phạm Văn Ký, Phường 2, Thành phố Cà Mau, Cà Mau',\n",
              " '0048_tests.png': 'Tân Long Tràng, Xã Lâm Tiết, Thành Phố Phủ Lý, Hà Nam',\n",
              " '0049_tests.png': 'Xã Long Quán, Huyện Yên Sơn, Tuyên Giang',\n",
              " '0050_tests.png': '250 Lê Văn Khương, phường Thái An, Quận 12, TP Hồ Chí Minh',\n",
              " '0051_tests.png': 'Thôn Dương Lâm, Xã Trà Dương, Huyện Bắc Trà Ng, Quảng Nam',\n",
              " '0052_tests.png': '146/37 Huỳnh Mãn Đạt, Phường 03, Quận 5, TP Hồ Chí Minh',\n",
              " '0053_tests.png': 'Thiệu Viên, Huyện Thiệu Hoá, Thanh Hoá',\n",
              " '0054_tests.png': 'Km 32 Quốc lộ 10, Huyện An Lão, Hải Phòng',\n",
              " '0055_tests.png': 'Số 34 Nguyễn Văn Cừ, Phường An Lạc, Thị xã Buôn Hồ, Đắc Lắc',\n",
              " '0056_tests.png': 'Khu 4, Xã Vân Phú, Thành Phố Việt Trì, Phú Thọ',\n",
              " '0057_tests.png': '373C/4, KV6, Phường An Khánh, Quận Ninh Kiều, Cần Thơ',\n",
              " '0058_tests.png': '839 Ngô Quyền, Phường An Hải Đông, Quận Sơn Trà, Đà Nẵng',\n",
              " '0059_tests.png': 'Khu liên Cô quan, Phường Ngô Quyền, Thành Phố Bắc Giang, Bắc Giang',\n",
              " '0060_tests.png': 'Số nhà 120, Khu 5, Phường Nam Hoà, Thị xã Quang Yên, Quảng Ninh',\n",
              " '0061_tests.png': '12I phố Phương Liệt, Phường Phường Thượng La, Quận Thanh Xuân, Hà Nội',\n",
              " '0062_tests.png': '145/19A Trần Hưng Đạo Chầu 3), Phường Cầu Kho, Quận 1, TP Hồ Chí Minh',\n",
              " '0063_tests.png': '135/36 Trần Hưng Đạo, phường Cầu ông Lãnh, Quận 1, TP Hồ Chí Minh',\n",
              " '0064_tests.png': 'ấp Trã Đô, Xã Thông Lạc, Huyện Hồng Ngự, Đồng Tháp',\n",
              " '0065_tests.png': 'Số 549 2, tổ 11, KP 4, Phường Trảng Dài, Thành phố Biên Hoà, Đồng Nai',\n",
              " '0066_tests.png': 'Thôn Thượng, Xã Thanh Liệt, Huyện Thanh Trì, Hà Nội',\n",
              " '0067_tests.png': 'Đồng Vàng, KCN Đình Trám, Xã Hoàng Ninh, Huyện Việt Yên Bắc Giang',\n",
              " '0068_tests.png': '407 Thủ khóm Huân, Phường Phù Thủy, Thành phố Phan Thiết, Bình Thuận',\n",
              " '0069_tests.png': '45C đường Hồ Bá Phản, phường Phước Long A, Quận 9, TP Hồ Chí Minh',\n",
              " '0070_tests.png': 'Số 8 Pháo Đài Láng, Quận Đống đa, Hà Nội',\n",
              " '0071_tests.png': '21/21 Nguyễn Văn Dung, Phường 6, Quận Gò Vấp, TP Hồ Chí Minh',\n",
              " '0072_tests.png': 'Số 262a, phố Thanh Hưng, Thị trấn Đối Ngô, Huyện Lục Nam, Bắc Giang',\n",
              " '0073_tests.png': '107 Cổ 0 Lạc Cong Quân, Phường 2, Thành phố Vũng Tàu, Vĩnh Tàu',\n",
              " '0074_tests.png': 'Đội 3/2, Xã Diên Sơn, Huyện Diên Khánh, Khánh Hòa',\n",
              " '0075_tests.png': 'Số 05 Me Kiến, Phường Thanh Khê Trây, Quận Thanh Khê, Đà Nẵng',\n",
              " '0076_tests.png': '63/3 đường số 1, phường Long Trường, Quận 9, TP Hồ Chí Minh',\n",
              " '0077_tests.png': 'ấp Đội 18, xã Thanh Nưa, Huyện Điện Biên, Điện Biên',\n",
              " '0078_tests.png': '638/14/7 Hồng Bùng, Phường 06, Quận 6, TP Hồ Chí Minh',\n",
              " '0079_tests.png': 'Xóm Trị Tú, Xã Tân Thạnh, Huyện Yên Thành, Nghệ An',\n",
              " '0080_tests.png': 'TD, ngách 378/39 Thuỵ Khuê, Phường Bưởi, Quận Tây Hồ, Hà Nội',\n",
              " '0081_tests.png': 'Số 6hóm 5926/4 Trà Đinh, Phường Mai Dịch, Quận Cầu Giấy, Hà Nội',\n",
              " '0082_tests.png': '183/146/14 Bến Vân Đần, Quận 4, TP Hồ Chí Minh',\n",
              " '0083_tests.png': '307 Phùng Yương, Phường Triên Phú, Thành Phố Quảng Ngãi, Quảng Ngãi',\n",
              " '0084_tests.png': 'Thôn Cộng Hòa 2, Xã Tịnh ấn Tây, Thành Phố Quảng Ngãi, Quảng Ngãi',\n",
              " '0085_tests.png': '78 Trường Văn Bang, Phường 7, Thành Phố Vũng Tàu, Bà Rịa - Vũng Tàu',\n",
              " '0086_tests.png': 'Lô D4 khu Công nghiệp Trà Aa, Xã Trà Đa, Thành phố Phiêu, Gia Lai',\n",
              " '0087_tests.png': 'ấp 2, Thị trấn Lộc Ninh, Huyện Lộc Ninh, Bình Phước',\n",
              " '0088_tests.png': 'Vân an, Huyện Chi Lãng, Lạng Sơn',\n",
              " '0089_tests.png': 'Số 77 Nguyễn Trung Trực, Phường Bến Thành, Quận 1, TP Hồ Chí Minh',\n",
              " '0090_tests.png': '15A Sông Đà, Phường 2, Quận Tân Bình, TP Hồ Chí Minh',\n",
              " '0091_tests.png': '49/19 Khu Phố 4, Phường Phước Long B, Quận 9, TP Hồ Chí Minh',\n",
              " '0092_tests.png': 'Số 48B/3, khu phố 2, Phường An Phú, TX Thuận An, Bình Dương',\n",
              " '0093_tests.png': 'Số 1708, tổ 17, phường Nam Sơn, Thị Xã Tam Điệp, Ninh Bình',\n",
              " '0094_tests.png': 'Số 7 Đông Hùng Xương, Phường Xuân Bình, Thị xã Long Khánh, Đồng Nai',\n",
              " '0095_tests.png': 'Số 10 Trần khu 2, Thị trấn Chợ Rồ, Huyện Ea Đê, Bắc Ninh',\n",
              " '0096_tests.png': '21 Cộng Hòa, Phường 4, Quận Tân Bình, TP Hồ Chí Minh',\n",
              " '0097_tests.png': 'Xóm Thanh Bình, Xã Tân Thịnh, Huyện Lạng, Giang, Bắc Giang',\n",
              " '0098_tests.png': '26 Phố Chu Văn An, Thành Phố Lão Cai, Lào Cai',\n",
              " '0099_tests.png': 'Số 68/34 đường Phố Cơ Điều, Phường 3, Thành phố Vĩnh Long, Vĩnh Lạng',\n",
              " '0100_tests.png': 'Số 107 đường Lê Văn Lương, Phường Nhân Chính, Quận Thanh Xuân, Hà Nội',\n",
              " '0101_tests.png': '25 Chu Thiên, Phường Hiệp Tân, Quận Tân phú, TP Hồ Chí Minh',\n",
              " '0102_tests.png': 'Lô A2-10 - đường Võ Chí Công, Phường Hoà Xuân, Quận Cẩm Lệ, Đà Nẵng',\n",
              " '0103_tests.png': 'Thôn 5, Xã Hạ Rồng, Huyện Thạnh Thất, Hà Nội',\n",
              " '0104_tests.png': '59/169F Bàu Cát, Phường 12, Quận Tân Bình, TP Hồ Chí Minh',\n",
              " '0105_tests.png': 'ấp 4, Thị trấn Gònh Hào, Huyện Đông Hải, Bạc Liêu',\n",
              " '0106_tests.png': 'ấp Long Phước, Xã Mỹ Phước Tây, Thị Xã Cư Lậy, Tiền Giang',\n",
              " '0107_tests.png': '365/14 Quang Trung, Phường 14, Quận Gò Vấp, TP Hồ Chí Minh',\n",
              " '0108_tests.png': 'Số 127H Thuỵ Khuê, Phường Chuyên Quận Cây Hồ, Hà Nội',\n",
              " '0109_tests.png': '17 lô Lê Lai, Phường Bến Thành, Quận 1, TP Hồ Chí Minh',\n",
              " '0110_tests.png': 'Thôn An Lão Xuôi, Xã Vĩnh Thịnh, Huyện Vĩnh Tường, Vĩnh Phúc',\n",
              " '0111_tests.png': 'ấp Vinh Yên, Xã Long Đức, Thành Phố Trà Vinh, Trà Vinh',\n",
              " '0112_tests.png': 'Thôn Thanh Lũng, Xã Tiên Phong, Huyện Ba Rì, Hà Nội',\n",
              " '0113_tests.png': 'Số 166C, phố Đô Cấn, Phường Đô Cấn, Quận Ba Tình, Hà Nội',\n",
              " '0114_tests.png': 'Khu phố 3, Thị trấn Châu Thành, Huyện Châu Thành, Tây Tinh',\n",
              " '0115_tests.png': 'Số 4, 77, ngõ 93, Phố Đ/7, Phư ơng Quỳnh Mai, Quận Thiềng, Hà Nội',\n",
              " '0116_tests.png': '37/8 Tỉnh Đình Trọng, Phường 5, Quận 11, TP Hồ Chí Minh',\n",
              " '0117_tests.png': '252/4A Phạm Văn Chiêu, Phường 9, Quận Gò Vấp, TP Hồ Chí Minh',\n",
              " '0118_tests.png': 'Số 330 đường Ngọc Lâm, Phường Ngọc Lâm, Quận Long Biên, Phà Nội',\n",
              " '0119_tests.png': 'Bản Nà Làng, Xã Quang Thành, Huyện Nguyên Bình, Cao Bằng',\n",
              " '0120_tests.png': 'Số 225, đường 3/2, Phường Hưng Lợi, Quận Ninh Kiều, Cần Thơ',\n",
              " '0121_tests.png': '165 Nguyễn Oanh, Phường 17, Quận Gò Vấp, TP Hồ Chí Minh',\n",
              " '0122_tests.png': '16 đường 588 khu phố 1, Phường Phước Long A, Quận 9, TP Hồ Chí Minh',\n",
              " '0123_tests.png': 'Xã Tung Lai, Xã Tung Lai, Huyện Mỹ Đức, Hà Nội',\n",
              " '0124_tests.png': '50 Tôn Đức Thắng, Phường An Sơn, Thành Phố Tam Kỳ, Quảng Nam',\n",
              " '0125_tests.png': 'Số 8/96 Hai Bà Trưng, Phường An Biên, Quận Lê Chân, Hải Phòng',\n",
              " '0126_tests.png': '172/28 Đông Văn Ngôi, Phường 14, Quận Phú Nhuận, TP Hồ Chí Minh',\n",
              " '0127_tests.png': 'Nhà số 69 ngõ 10 Mạc Thái Tổ, Phường Yên Hoà, Quận Cầu Giấy, Hà Nội',\n",
              " '0128_tests.png': 'Tổ 2 xá Ngọc Dường - T1 Hà Giang - Hà Giang, TP Hà Giang, Hà Giang',\n",
              " '0129_tests.png': 'ấp Trang Liệt, Phường Trang Hạ, Thị Xã Từ Sơn, Bắc Ninh',\n",
              " '0130_tests.png': '73 Nguyễn Quang Bích, Phường 13, Quận Tân Bình, TP Hồ Chí Minh',\n",
              " '0131_tests.png': '4644444/6 Trọng Tân, Phường Tây Thạnh, Quận Tây Phú, TP Hồ Chí Minh',\n",
              " '0132_tests.png': 'Tư Giang, Tân Dân, Thị xã Chí Liêm, Hải Dương',\n",
              " '0133_tests.png': 'Số 99E Công Hòa, Phường 4, Quận Viên Bình, TP Hồ Chí Minh',\n",
              " '0134_tests.png': '121A Lê Xơ, Phường Phú Thọ Hoà, Quận Tân phú, TP Hồ Chí Minh',\n",
              " '0135_tests.png': '29 Lan Sơn, Phường 2, Quận Tân Bình, TP Hồ Chí Minh',\n",
              " '0136_tests.png': 'tổ 1 phường Đông Mai, Quận Hà Đông, Hà Nội',\n",
              " '0137_tests.png': 'Số 77A đường 38, phường Tân Quy, Quận 7, TP Hồ Chí Minh',\n",
              " '0138_tests.png': 'Quốc lộ 30, ấp Bình Hòa, Xã Bình Thạnh, Thị Xã Hồng Ngự, Đồng Nai',\n",
              " '0139_tests.png': '14/2 Nguyễn Đình Chiểu, Phường Đa Kao, Quận 1, TP Hồ Chí Minh',\n",
              " '0140_tests.png': '176/2 Đường 59, Phường 14, Quận Gò Vấp, Tp Hồ Chí Minh',\n",
              " '0141_tests.png': 'Km 2, thôn Kon Rờ Bàng, Xã Vinh Quang, Thành phố Kin Tam, Kon Tum',\n",
              " '0142_tests.png': '141/3 Trương Chinh, Phường 11, Quận Tân Bình, TP Hồ Chí Minh',\n",
              " '0143_tests.png': 'Xóm Đường, Xã Đại Yên, Huyện Chương Mỹ, Hà Nội',\n",
              " '0144_tests.png': 'Đường Lý Thường Riệt, KP 4, Huyện Mộc Hoá, Long An',\n",
              " '0145_tests.png': 'Thôn Kỉ Đọng, Huyện Đắc Mi2, Đắc Nâng',\n",
              " '0146_tests.png': 'Số 681, Tổ 23, ấp Mỹ Hòa, Xã Nhơn Mỹ, Huyện Chợ Với, An Giang',\n",
              " '0147_tests.png': '399 Nguyễn Văn Cừ, Phường Hoà Hiệp Bắc, Quận Liên Chiểu, Đà Nẵng',\n",
              " '0148_tests.png': '235/12 Đường Trục, Phường 18, Quận Bình Thạnh, TP Hồ Chí Minh',\n",
              " '0149_tests.png': '29/8 Đường 53, Phường Thảo Điền, Quận 2, TP Hồ Chí Minh',\n",
              " '0150_tests.png': '207/64 Phạm Văn Hai, Phường 5, Quận Tân Bình, TP Hồ Chí Minh',\n",
              " '0151_tests.png': 'Số 9/11, Khu phố Tân Hòa, Phường Đông Boà, TX Lý An, Bình Dương',\n",
              " '0152_tests.png': 'Đội 3, thôn Minh Tân, Xã Minh Trí, Huyện Sơn, Hà Nội',\n",
              " '0153_tests.png': 'Thôn Quỳnh 06, Xã Vĩnh Quỳnh, Huyện Thanh Trì, Hà Nội',\n",
              " '0154_tests.png': 'ấp Xóm Vơ, Xã Phú Cần, Huyện Tinh Cần, Trà Vinh',\n",
              " '0155_tests.png': '59 Phan Đăng Lưu, Phường Phú Hoà, Thành phố Huế, Thừa Thiên - Huế',\n",
              " '0156_tests.png': 'Kp2 Phú Hòa, Thành phố Phan Thiết, Bình Thuận',\n",
              " '0157_tests.png': '51-5 Lê Duẩn, Phường Dân Nghé, Quận 1, TP Hồ Chí Minh',\n",
              " '0158_tests.png': 'Km 89 Quốc lộ 5, Xã Nam Sơn, Huyện An Dương, Hải Phòng',\n",
              " '0159_tests.png': '19, Lê Hồng phong, Thành phố Đà Lạt, Lâm Đồng',\n",
              " '0160_tests.png': 'Đường Ngô Quyền, Phường Quang Trung, Thành phố Phủ Lý, Hà Nam',\n",
              " '0161_tests.png': 'Số 8 Ngách 37H/7 âu Cơ, Phường Nhật Tân, Quận Tây Hồ, Hà Nội',\n",
              " '0162_tests.png': 'Số 40, ngõ 168, Phố Ngọc Hà, Phường Ngọc Hà, Quận Ba Đình, Hà Nội',\n",
              " '0163_tests.png': 'Số 5 ngõ 152 phố Hào Nam, Phường ô Chợ Dừa, Quận Đống đa, Hà Nội',\n",
              " '0164_tests.png': '261-263 Phạm Văn Chí, Phường 03, Quận 6, TP Hồ Chí Minh',\n",
              " '0165_tests.png': 'xã Hữu Vinh, Thị trấn Yên Ninh, Huyện Yên Minh, Hà Giang',\n",
              " '0166_tests.png': '64 khối 8, Phường Tân An, TP.Buôn Ma Thuột, Đắc Lắc',\n",
              " '0167_tests.png': 'Số 249 Lê Hồng Phong, Phường 8, Thành Phố Vũng Tàu, Bà Rịa - Vũng Tàu',\n",
              " '0168_tests.png': '11/1 T Lê Chí Dân, ấp 3, Thành Phố Thủ Dần 1A, Bình Dương',\n",
              " '0169_tests.png': '364 ấp Cổ Cà, Xã Ngọc Tổ, Huyện Mỹ Xuyên, Sóc Trăng',\n",
              " '0170_tests.png': 'ấp 6, Huyện Cai Lậy, Tiền Giang',\n",
              " '0171_tests.png': 'Thôn Hữu Cước, Xã Liên Hồng, Huyện Đan Phượng, Hà Nội',\n",
              " '0172_tests.png': 'Số 4 Ngách 29 /2 Đội Nhân, Phường Vĩnh Phúc, Quận Ba Đình, Hà Nội',\n",
              " '0173_tests.png': 'ấp 5, Xã Đức Hòa Đông, Huyện Đức Hoà, Long An',\n",
              " '0174_tests.png': '620 Trần Cao Vân, Quận Thanh Khê, Đà Nẵng',\n",
              " '0175_tests.png': 'Số 62/380 Tê Hậu, Phường Hà Nam, Quận Lê Chân, Hải Phòng',\n",
              " '0176_tests.png': '251 Sinh Trung, Phường Vạn Thạnh, Thành phố Nha Trang, Khánh Hòa',\n",
              " '0177_tests.png': '49/23 ông ích Khiêm, Phường Thanh Bình, Quận Hải Châu, Đà Nẵng',\n",
              " '0178_tests.png': '175 Đường 41 P.16, Phường 16, Quận 8, TP Hồ Chí Minh',\n",
              " '0179_tests.png': 'Số 812 Trần Nhân Tôn, Phường Nam Sơn, Quận Kiến An, Hải Phòng',\n",
              " '0180_tests.png': 'Số 57/24 Đường 3/2, P 11, Phường 11, Quận 10, TP Hồ Chí Minh',\n",
              " '0181_tests.png': 'Số 145 Phố Văn, Phường Đại Phúc, Thành Phố Bắc Ninh, Bắc Ninh',\n",
              " '0182_tests.png': 'Thôn Hữu Cước, Xã Liên Hồng, Huyện Đân Phượng, Hà Nội',\n",
              " '0183_tests.png': 'Thôn Tử Dương, Xã Lý Thường Kiệt, Huyện Yên Mỹ, Hưng Yên',\n",
              " '0184_tests.png': 'Thôn La Mai, Xã Ninh Giang, Huyện Hoa Lư, Ninh Bình',\n",
              " '0185_tests.png': '19 T1 Đường số 8, Phường 11, Quận Gò Vấp, TP Hồ Chí Minh',\n",
              " '0186_tests.png': 'Số 324/57 Hoàng Văn Thụ, Phường 4, Quận Tân Bình, TP Hồ Chí Minh',\n",
              " '0187_tests.png': '538 Tiến La, Phường Hoà Cường Bắc, Quận Hải Châu, Đà Nẵng',\n",
              " '0188_tests.png': '29/12B Đường số 5, Phường Tăng Nhơn Phú B, Quận 9, TP Hồ Chí Minh',\n",
              " '0189_tests.png': 'SN 200/4-2KA, KC7, Phường Tiếng Nhất, Thành phố Biên Hoà, Đồng Nai',\n",
              " '0190_tests.png': 'ấp 4, Thị trấn An Thới, Huyện Phú Quốc, Kiên Giang',\n",
              " '0191_tests.png': 'Đặn Lương 5 Hợp Hòa, Trị trấn Hợp Hòa, Huyện Tam Dương, Yên Phúc',\n",
              " '0192_tests.png': 'Số 99, Phố Tân Phong, Phường Thuỵ Phương, Quận Bắc Từ Liêm, Hà Nội',\n",
              " '0193_tests.png': 'ấp Bình Tiền 1, xã Đức Hòa Hạ, Huyện Đức Hoà, Long An',\n",
              " '0194_tests.png': 'Số 19/8 đường Kim Đông, Phường 1, Thành phố Đà Lạt, Lâm Đồng',\n",
              " '0195_tests.png': 'Số 184, tổ 8, Phường Minh Khai, Thành phố Phủ Lý, Hà Nam',\n",
              " '0196_tests.png': 'Số 739, phố Hành, Phường Phố Huế, Quận Bà Trưng, Hà Nội',\n",
              " '0197_tests.png': '485 Tô Hiến Thành P.14, Phường 14, Quận 10, TP Hồ Chí Minh',\n",
              " '0198_tests.png': 'xã Quảng Minh, Thị Xã Ba Đồn, Quảng Bình',\n",
              " '0199_tests.png': 'Tổ 2, Khu vực 8, Phường Nhơn Phú, Thành phố Quy Nam, Bình Định',\n",
              " '0200_tests.png': 'Số 79, tổ 32, KP3, Phường Trảng Dài, Thành phố Biên Hoà, Đồng Nai',\n",
              " '0201_tests.png': 'Thôn Vĩnh Hưng, Xã Vĩnh Tân, Huyện Tuy Phong, Bình Thuận',\n",
              " '0202_tests.png': '239A Hoàng Văn Trụ, Phường 08, Quận Phú Nhuận, TP Hồ Chí Minh',\n",
              " '0203_tests.png': '1203 Náu Thà rúc đạc, Phường Anh Hoà, Quận Ninh Kiều, Cần Thơ',\n",
              " '0204_tests.png': 'Quốc lộ 23B, Xã Mê Linh, Huyện Mê Linh, Hà Nội',\n",
              " '0205_tests.png': 'Số 27, ngõ 218 Lạc Long Quân, Phường Bưởi, Quận Tây Hồ, Hà Nội',\n",
              " '0206_tests.png': '10 Đường số 2, Cư xá Bình Thới, Phường 8, Quận 11, TP Hồ Chí Minh',\n",
              " '0207_tests.png': 'Số 5 dãy 2, tập thể xala trai, Phường Phúc La, Quận Hà Đông, Hà Nội',\n",
              " '0208_tests.png': 'Vinh Mèo Vạc, Huyện Mèo Vạc - Hà Giang, Huyện Mêo Vạc, Hà Giang',\n",
              " '0209_tests.png': '100 Phạm Văn Đồng, Phường Vỹ D9, Thành Phố Huế, Thừa Thiên - Huế',\n",
              " '0210_tests.png': '190 Lạc Long Quân, Phường 3, Quận 11, TP Hồ Chí Minh',\n",
              " '0211_tests.png': 'Số 69 đường Huyện Quang, Phường Ninh Xá, Thành phố Bắc Ninh, Bắc Ninh',\n",
              " '0212_tests.png': 'DT 76, Khu Vực II, Phường Ngã Máy, Chà Xã Bảy, Đồng Giang',\n",
              " '0213_tests.png': 'Số 62, phố Dịch Vọng, Phường Dịch Vọng, Quận Cầu Giấy, Hà Nội',\n",
              " '0214_tests.png': 'Số 01 Lý Bôn, Phường 4, Thành phố Cà Mau, Bà Mau',\n",
              " '0215_tests.png': '142 Đường số 9, Phường Tân Phú, Quận 7, TP Hồ Chí Minh',\n",
              " '0216_tests.png': 'Thôn Lưu Thượng 1 - Xã Thiện An, Huyện Kinh Môn, Hải Dương',\n",
              " '0217_tests.png': 'Xã Bồn Sơn, Huyện Đô Lưuỷ, Nghệ An',\n",
              " '0218_tests.png': 'Số 1, đường Thống Nhất, Thị trấn Kê Sát, Huyện Bình Giang, Hải Dương',\n",
              " '0219_tests.png': '02 Lê Lai, Thị trấn Kông Chro, Huyện Kông Chro, Gia Lai',\n",
              " '0220_tests.png': 'Xóm Lộ Vôi, Thôn Văn Lâm, Xã Ninh Hải, Huyện Hoa Lú, Ninh Bình',\n",
              " '0221_tests.png': '21/15/14 Ung Văn Khiêm, Phường 25, Quận Bình Thạnh, TP Hồ Chí Minh',\n",
              " '0222_tests.png': '84 Nguyễn Văn Linh, Quận Hải Châu, Đà Nẵng',\n",
              " '0223_tests.png': 'F2/25A1D ấp 6B, Xã Vĩnh Lộc A, Huyện Bình Chánh, TP Hồ Chí Minh',\n",
              " '0224_tests.png': 'Nhà số 06, tổ 26, Phường Thượng Thanh, Quận Long Biên, Hà Nội',\n",
              " '0225_tests.png': 'Số 186 Phú Định, Phường 16, Quận 8, TP Hồ Chí Minh',\n",
              " '0226_tests.png': '91A Bửu Long P.13, Phường 15, Quận 10, TP Hồ Chí Minh',\n",
              " '0227_tests.png': 'UBND Xã Lưu Phương, Huyện Kim Sơn, Ninh Bình',\n",
              " '0228_tests.png': \"TBuôn Hoao 2, Xã Ea Hào, Huyện Ea H'leo, Đắc Lắc\",\n",
              " '0229_tests.png': '596 Nguyễn Đình Chiểu, Phường 03, Quận 3, TP Hồ Chí Minh',\n",
              " '0230_tests.png': 'Xuân Thành, Huyện Xuân Lộc, Đồng Nai',\n",
              " '0231_tests.png': 'Tổ 20, Thị Trấn Đông Anh, Thị trấn Đông Anh, Huyện Đông Anh, Hà Nội',\n",
              " '0232_tests.png': '45 An phú, Phường An Phú, Quận 2, TP Hồ Chí Minh',\n",
              " '0233_tests.png': 'Số 2654, Tổ 14, KP1, Phường Long Bình, Thành phố Biên Hoà, Đồng Nai',\n",
              " '0234_tests.png': 'Xóm Phú Xuân, Xã Đô Thạnh, Huyện Yên Thành, Nghệ An',\n",
              " '0235_tests.png': 'Khu I/3, Thị trấn Như Quỳnh, Huyện Văn Lâm, Hưng Yên',\n",
              " '0236_tests.png': 'Số 318 đường Bưởi, Phường Vĩnh Phúc, Quận Ba Đình, Hà Nội',\n",
              " '0237_tests.png': 'Số 43/20, ấp 2, Xã Thạnh Phú, Huyện Vĩnh Cửu, Đồng Nai',\n",
              " '0238_tests.png': 'ấp Cầu Dừa, Xã Mỹ Phước Tây, Thị Xã Cao Lây, Tiền Giang',\n",
              " '0239_tests.png': 'Thôn Xuân Canh, Xã Xuân Canh, Huyện Đông Anh, Hà Nội',\n",
              " '0240_tests.png': 'Số 43/33 Lý Thường Kiệt, Phường 4, Thành phố Mỹ Tho, Tiền Giang',\n",
              " '0241_tests.png': 'Số 33 đường Vũ Quang, Phường Trần Phú, Thành phố Hà Tĩnh, Hà Tĩnh',\n",
              " '0242_tests.png': 'Số 571 đường Hồng Hà, Phường Phúc Tân, Quận Hoàn Kiếm, Hà Nội',\n",
              " '0243_tests.png': 'Thôn Cập Nhất, Xã Tiến Tiến, Huyện Thanh Hà, Hải Dương',\n",
              " '0244_tests.png': 'Lầu 3, Số 44 Nguyễn Phúc, Phường Bến Nghé, Quận 1, TP Hồ Chí Minh',\n",
              " '0245_tests.png': 'Nhà C13 tổ 9 Phường Mai Dịch, Quận Cầu Giấy, Hà Nội',\n",
              " '0246_tests.png': '48B/2, KP 5, Phường Tân Hòa, Thành Phố Biên Hoà, Đồng Nai',\n",
              " '0247_tests.png': 'Tổ 15, Khu 5, Phường Quang Trung, Thành phố Uông Bí, Quảng Ninh',\n",
              " '0248_tests.png': 'Khu Thống Nhất 2, Phường Tân An, Thị xã Quảng Yên, Quảng Ninh',\n",
              " '0249_tests.png': 'Số 38, tổ 4, phố Tân Phú, Phường Tân Dân, Thành Phố Việt Trì, Phú Thọ',\n",
              " '0250_tests.png': 'Xã Thắng Mỗ, Xã Thắng Mỗ, Huyện Yên Minh, Hà Giang',\n",
              " '0251_tests.png': '61/2/3 Nguyễn Sơn, Phường Phú Thạnh, Quận Tân phú, TP Hồ Chí Minh',\n",
              " '0252_tests.png': 'K6D/25, Khu phố 5, Thị trấn Dầu Tiếng, Huyện Dầu Tổng, Bình Dương',\n",
              " '0253_tests.png': 'Khu phố Phúc Thái, Thị Trấn Phú Thứa, Huyện Tây Hoà, Phú Yên',\n",
              " '0254_tests.png': 'Tổ 26, Phường Cam Giá, Thành Phố Thái Nguyên, Thái Nguyên',\n",
              " '0255_tests.png': 'R403 tầng 4, V-Toung Số 649 Kim mã, Quận Ba Đình, Hà Nội',\n",
              " '0256_tests.png': 'Độ Tiến, Xã Thành An, Huyện Thạch Thành, Thanh Hoá',\n",
              " '0257_tests.png': 'Số 15 Trần Cao Vân, Phường 06, Quận 3, TP Hồ Chí Minh',\n",
              " '0258_tests.png': 'Vĩnh Quang, Huyện Vĩnh Linh, Quảng Trị',\n",
              " '0259_tests.png': '47 Trần Phước Thành, Phường Khu Trung, Quận Cẩm Lệ, Đà Nẵng',\n",
              " '0260_tests.png': '2/58 Nguyễn Đình Khai, Phường 4, Quận Tân Bình, TP Hồ Chí Minh',\n",
              " '0261_tests.png': 'Số 7/95, đường Chùa Bộc, Quận Hồng đa, Hà Nội',\n",
              " '0262_tests.png': '53/866/43 Trần Khánh Di, P.TD, Phường Tân Định, Quận 1, TP Hồ Chí Minh',\n",
              " '0263_tests.png': 'Thị trấn Lấp Võ, Huyện Lấp Võ, Đồng Tháp',\n",
              " '0264_tests.png': '29 Hoàng Diệu, Phường 1, Thành phố Sóc Trăng, Sóc Trăng',\n",
              " '0265_tests.png': 'Cẩm Thạch, Huyện Cẩm Thủy, Thanh Hoá',\n",
              " '0266_tests.png': 'Số 7 Phố Chỗ Thị trấn Chợ, Huyện Yên Phong, Bắc Ninh',\n",
              " '0267_tests.png': 'Xã Tân Công Sính, Huyện Tam Nông, Đồng Tháp',\n",
              " '0268_tests.png': 'Số 78 Phạm Ngôm Thạnh, Phường Lộc Phát, Thành Phố Bảo Lộc, Lâm Đồng',\n",
              " '0269_tests.png': 'ấp Bàn Thạnh, Hòa Xuân Đông, Huyện Đông Hoà, Phú Yên',\n",
              " '0270_tests.png': '231 thôn Vĩnh Tiến, Xã Vĩnh Tân, Huyện Tuy Phong, Bình Thuận',\n",
              " '0271_tests.png': 'Thôn 4, xã Hạnh Phúc, Huyện Thọ Xuân, Thanh Hoá',\n",
              " '0272_tests.png': 'Khu 2, Phường Trường Thịnh, Thị xã Phú Thọ, Phú Thọ',\n",
              " '0273_tests.png': 'Số 54, Thành phố Tam Kỳ, Quảng Nam',\n",
              " '0274_tests.png': '953 Hoàng Hữu Nam, Phường Tân Phú, Quận 9, TP Hồ Chí Minh',\n",
              " '0275_tests.png': 'Khu phố 4, Thị trấn Vĩnh Bình, Huyện Gò Cònh Tân, Tiền Giang',\n",
              " '0276_tests.png': 'Tổ 10, Phường Hoà Thuận Nghiệp Huy Qui Hồng Hỷ, Quảng Nguyên',\n",
              " '0277_tests.png': 'xóm C6, Xã Hưng Lộc, Thành phố Vinh, Nghệ An',\n",
              " '0278_tests.png': 'Số 125 Tôn Đức Tháng, Phường Hàng Bột, Quận Đống Đa, Hà Nội',\n",
              " '0279_tests.png': '21 Trần Quý Khoác, Quận 1, TP Hồ Chí Minh',\n",
              " '0280_tests.png': '334/25 Lê Quang Định, Phường 11, Quận Bình Thạnh, TP Hồ Chí Minh',\n",
              " '0281_tests.png': 'Xóm cây đa, Huyện Thủy Nguyên, Hải Phòng',\n",
              " '0282_tests.png': 'Thôn Thố 9 trấn, Huyện Châu Giao, Quyền Giang',\n",
              " '0283_tests.png': '514B Huỳnh Tấn Phát, Phường Bình Thuận, Quận 7, TP Hồ Chí Minh',\n",
              " '0284_tests.png': '20 Đội 3, thôn Sáp Mai, Xã Võng La, Huyện Đông Anh, TP Hà Nội',\n",
              " '0285_tests.png': 'Số 443/A, ấp Mỹ Thị B, Xã Mỹ An, Huyện Tháp Mước, Đồng Tháp',\n",
              " '0286_tests.png': 'Số 17C Thạm Huy ứhọng, Thị trấn Thị Huyện Tri, Hồng Yên',\n",
              " '0287_tests.png': 'Số 16D, khu phố Bình Hòa, Phường Lái Thiêu, TX Thuận An, Bình Dương',\n",
              " '0288_tests.png': 'Thôn 4, xã Châu Quê Thượng, Huyện Văn Yên, Yên Bái',\n",
              " '0289_tests.png': 'Thị trấn Tiên Kỳ, Huyện Tiên Phước, Quảng Nam',\n",
              " '0290_tests.png': '450 Phuỳnh Tháo Kháng, Phường Mũm Nế, Thành Phố Phan Thiết, Bình Thuận',\n",
              " '0291_tests.png': 'Xã Nghĩa Sơn, xã Nghĩa Sơn, Huyện Nghĩa Hưng, Nam Định',\n",
              " '0292_tests.png': 'ấp Tân Lợi, Xã Tân Phú Trung, Huyện Châu Thành, Đồng Tháp',\n",
              " '0293_tests.png': 'Xóm 12, Xã Kim Phú, Huyện Yên Sơn, Tuyên Quang',\n",
              " '0294_tests.png': 'Đường 868, Phường 3, Thị xã Cai Lậy, Tiền Giang',\n",
              " '0295_tests.png': 'An Lạc, An Nhơn, Thị Xã Anh Nhơn, Bình Định',\n",
              " '0296_tests.png': '121Bis Bà Huyện Thanh Quan, Phường 09, Quận 3, TP Hồ Chí Minh',\n",
              " '0297_tests.png': '18 Linh Hoài Đức, Phường 13, Quận 5, TP Hồ Chí Minh',\n",
              " '0298_tests.png': '3/22 Đũ Tâm, Phường 8, Quận Tân Bình, TP Hồ Chí Minh',\n",
              " '0299_tests.png': 'Xóm Cun, Xã Thu Phong, Huyện Cao Phong, Hòa Bình',\n",
              " '0300_tests.png': '1233 Phạm Thế Hiến, Phường 5, Quận 8, TP Hồ Chí Minh',\n",
              " '0301_tests.png': 'Số 27, ngõ 162, tổ 10, Phường Kiệt Hưng, Quận Long Biên, Hà Nội',\n",
              " '0302_tests.png': 'Thôn Lâm Tiên, Xã Nguyên Khê, Xã Nguyên Khê, Huyện Đông Anh, Hà Nội',\n",
              " '0303_tests.png': '369F/20 An Dương Cương, Phường 10, Quận 6, TP Hồ Chí Minh',\n",
              " '0304_tests.png': 'Số 25, ấp Chợ, Xã Suối Nhao, Huyện Định Quân, Đồng Nai',\n",
              " '0305_tests.png': 'Số 15, ấp 1, Xã Sưới Ngô, Huyện Tân Châu, Tây Ninh',\n",
              " '0306_tests.png': 'Thôn Lịch Sơn, Xã Lâm Lý, Huyện Lục Nam, Bắc Giang',\n",
              " '0307_tests.png': '4176 Nguyễn Thị Minh Khai, Quận 1, TP Hồ Chí Minh',\n",
              " '0308_tests.png': '53 Hà Thanh, Phường Vạn Thắng, Thành phố Nha Trang, Khánh Hòa',\n",
              " '0309_tests.png': 'Số 5, phố Đức Giang, Phường Đức Giang, Quận Long Biên, Hà Nội',\n",
              " '0310_tests.png': 'Thôn Nà Cát, Xã Đức Thượng, Huyện Thạch An, Cao Bằng',\n",
              " '0311_tests.png': 'Thôn Trái, Xã Di Sử, Huyện Mỹ Hào, Hưng Yên',\n",
              " '0312_tests.png': 'Huyện Lý, Huyện Quỳnh Nhai, Sơn La',\n",
              " '0313_tests.png': '49 Đường 46, Phường Tân Quy, Quận 7, TP Hồ Chí Minh',\n",
              " '0314_tests.png': 'Số 4 ngõ 1 Nghĩa Dung, Phường Phúc Xá, Quận Ba Đình, Hà Nội',\n",
              " '0315_tests.png': '04/48B Khu Phố Đông Chiêu, TX Dĩ An, Bình Dương',\n",
              " '0316_tests.png': '01 Lê Tân Toản, Phường An Hải Bắc, Quận Sơn Trà, Đà Nẵng',\n",
              " '0317_tests.png': 'Số 94 Trần Hưng Đạo, Phường Hải Cưng, Thành Phố Quy Nhơn, Bình Định',\n",
              " '0318_tests.png': 'Cụm 7, Xã Tân Lập, Xã Tân Kỵ, Huyện Đan Phong, Hà Nội',\n",
              " '0319_tests.png': '198/41 đường số 3, Phường 9, Quận Gò Vấp, TP Hồ Chí Minh',\n",
              " '0320_tests.png': 'Số 35/3 Khu Phố Tân Lập, Phường Đông Hoà, Tx Dĩ An, Bình Dương',\n",
              " '0321_tests.png': '419 Nguyễn Huệ, TP Tuy Hoà - Phú Yên, TP Tuy Hoà, Phú Yên',\n",
              " '0322_tests.png': 'Số 22 ấp Trới Thạnh, Xã Thái Sơn, Thành phố Mỹ Tho, Tiền Giang',\n",
              " '0323_tests.png': '276/131/54 Trống Nhất, Phường 11, Quận Bò Vấp, TP Hồ Chí Minh',\n",
              " '0324_tests.png': 'Số nhà 61, tổ 55, K3, Phường Khương Trung, Quận Thanh Xuân, Hà Nội',\n",
              " '0325_tests.png': '16/2 Trần Bình Oang, Phường 0, Quận 5, TP Hồ Chí Minh',\n",
              " '0326_tests.png': 'UBND xã Hợp Thành, Huyện Yên Thành, Nghệ An',\n",
              " '0327_tests.png': '2096 Quốc lộ 1A, Phường Tân Chánh Hiệp, Quận 12, TP Hồ Chí Minh',\n",
              " '0328_tests.png': '187/7 Điện Biên Phủ, Phường An Kao, Quận 1, TP Hồ Chí Minh',\n",
              " '0329_tests.png': 'Số 283 Đường 30/4, Phường 3, Thành Phố Sóc Trăng, Sóc Trăng',\n",
              " '0330_tests.png': '207/26, Huyện Mỏ Cày Nam, Bến Tre',\n",
              " '0331_tests.png': '147 Hàng Bồ, Phường Hàng Bồ, Quận Hoàn Kiếm, Hà Nội',\n",
              " '0332_tests.png': 'Tổ Cụm 5, Thị trấn A Lưới, Huyện A Lưới, Thừa Thiên - Huế',\n",
              " '0333_tests.png': '426, Đường Tô Ngọc Vân, Phường Thạnh Xuân, Quận 12, TP Hồ Chí Minh',\n",
              " '0334_tests.png': '20 KV Thới Thạnh, Phường Thối An, Quận Ô Môn, Cần Thơ',\n",
              " '0335_tests.png': 'Số 262/16 Nguyễn Tiểu La, phường 08, Quận 10, TP Hồ Chí Minh',\n",
              " '0336_tests.png': '67 Phan Đăng Lưu, Phường Hoà Cường Nam, Quận Hải Châu, Đà Nẵng',\n",
              " '0337_tests.png': '88A Kho Vạn Cân, Phường Hiệp Bình Chánh, Quận Thủ Đức, TP Hồ Chí Minh',\n",
              " '0338_tests.png': 'Thôn 3, Xã Thạch Long, Huyện Thạch Thành, Thanh Hoá',\n",
              " '0339_tests.png': 'Số 63-65, Cao Văn Lầu, Khóm 3, Phường 5, Thành Phố Đạc Liêu, Bạc Liêu',\n",
              " '0340_tests.png': 'Số nhà 27, đường Chu Văn An, Phường Lê Lợi, Thành Phố Vinh Nghệ An',\n",
              " '0341_tests.png': 'Thôn Đồng Cúu, Xã Dung Tiến, Huyện Thượng Tiến, Hà Nội',\n",
              " '0342_tests.png': 'Đường 171, Xã Cửu Cao, Huyện Văn Giang, Hưng Yên',\n",
              " '0343_tests.png': 'KCN Biên Hòa 1, Thành phố Biên Hoà, Đồng Nai',\n",
              " '0344_tests.png': 'Xóm Trung Tâm, Xã Mường Lống, Huyện Kỳ Sơn, Nghệ An',\n",
              " '0345_tests.png': 'Thôn Ng Thượng, Xã Thanh Mai, Xã Thanh Mai, Huyện Thanh Oai, Hà Nội',\n",
              " '0346_tests.png': '3127 Nguyễn Văn Quá, Phường Đông Hưng Thuận, Quận 12, TP Hồ Chí Minh',\n",
              " '0347_tests.png': 'Số 2K tổ 1, Khu 1, ấp 2, Xã An Hòa, Thành phố Biên Hoà, Đồng Nai',\n",
              " '0348_tests.png': 'Xóm Giứa, Xã Thanh Liệt, Huyện Thanh Trì, Hà Nội',\n",
              " '0349_tests.png': '14B, Trần Ngọc Diện, Phường Thảo Điền, Quận 2, TP Hồ Chí Minh',\n",
              " '0350_tests.png': 'Tổ 3, ấp 4, Tỉnh Lộ 8, Xã Hòa Phú, Huyện Củ Chi, TP Hồ Chí Minh',\n",
              " '0351_tests.png': 'Số 728 Bạch Đằng, Phường Bạch Đằng, Quận Hai Bà Trưng, Hà Nội',\n",
              " '0352_tests.png': 'Số 57, phố Đường Thành, Phường Cửa Đông, Quận Hoàn Kiếm, Hà Nội',\n",
              " '0353_tests.png': 'Số 43 Nguyên Trượng Hồn, Phường Nguyên Du, Quận Hai Bà Trưng, Hà Nội',\n",
              " '0354_tests.png': 'Số 397/5, Tây Lạc, An Chu, Xã Bắc Sơn, Huyện Trảng Bom, Đồng Nai',\n",
              " '0355_tests.png': '65/6Y ân Mập Hòa 3, Xã Tân Xuân, Huyện Hóc Uhân, TP Hồ Chí Minh',\n",
              " '0356_tests.png': 'Số 86 Lê Hồng Phong, Phường 4, Thành Phố Vũng Sàu, Bà Rịa - Vũng Tàu',\n",
              " '0357_tests.png': 'Số 282 Tây Sơn, phường Trung Liệt, Quận Đống Đa, Hà Nội',\n",
              " '0358_tests.png': 'ấp Tân Đức, Xã Vạn Lương, Huyện Vạn Ninh, Khánh Hòa',\n",
              " '0359_tests.png': '68 Phạm Việt Chánh, Phường 19, Quận Bình Thạnh, TP Hồ Chí Minh',\n",
              " '0360_tests.png': '91 Nguyễn Văn Thú, Phường Đakao, Quận 1, TP Hồ Chí Minh',\n",
              " '0361_tests.png': 'Số 252 khu phố 4, Thị trấn Thủ Ba, Huyện An Biên, Kiên Giang',\n",
              " '0362_tests.png': 'Đội 8, thôn Văn Lãng, Xã Trực Tuấn, Huyện Trực Ninh, Nam Định',\n",
              " '0363_tests.png': '621/8 Hà Tiên Quyên, Phường 6, Quận 11, TP Hồ Chí Minh',\n",
              " '0364_tests.png': 'Số 21 Lê Thánh Tông, Phường Máy Chai, Quận Ngô Quyền, Hải Phòng',\n",
              " '0365_tests.png': 'Triểu khu 5, thị Trấn Chợ Rã, Huyện Ba Bế, Bắc Cạn',\n",
              " '0366_tests.png': '628A Nguyễn Duy, Phường 12, Quận 8, TP Hồ Chí Minh',\n",
              " '0367_tests.png': 'Số 32, ngõ 420 Khương Đình, Phường Hạ Đình, Quận Thanh Xuân, Hà Nội',\n",
              " '0368_tests.png': '23 Điện Biên Phủ, Phường Đa Kao, Quận 1, TP Hồ Chí Minh',\n",
              " '0369_tests.png': 'Số 6, ngõ 170 Thạch Bàn, Phường Thạch Bàn, Quận Long Biên, Hà Nội',\n",
              " '0370_tests.png': 'Số 1B19, đường 57, Khu dân Cú, 586, Phường Phú Huệ, Quận Cái Bàng Cầnh',\n",
              " '0371_tests.png': '20A Lê Văn Hưu, Phường Bến Nghé, Quận 1, TP Hồ Chí Minh',\n",
              " '0372_tests.png': 'Thôn Đông Hải, Huyện Phú Quý, Bình Thuận',\n",
              " '0373_tests.png': 'Đường Lê Quý Đôn, Phường An Lộc, Thị xã Bình Long, Bình Phước',\n",
              " '0374_tests.png': 'Km số 3, đường Phan Trọng Tuế, Xã Tam Hiệp, Huyện Thanh Trì, Hà Nội',\n",
              " '0375_tests.png': 'Tổ 12, Khối 3, Thị trấn Bến Châu, Huyện Diễn Châu, Nghệ An',\n",
              " '0376_tests.png': 'Xóm Sơn Phủ, Xã Cao Sơn, Huyện Đà Bắt, Hồn Bình',\n",
              " '0377_tests.png': 'Thôn Thuận Phước, Xã Thuận Đức, Thành phố Đồng Hới, Quảng Bình',\n",
              " '0378_tests.png': 'Cụm Công nghiệp Nam An Sơn, Xã Quế Thọ, Huyện Hiệp Đức, Quảng Nam',\n",
              " '0379_tests.png': '207/16/7a Nam Cau P.Tân Phú, Phường Tân Phú, Quận 9, TP Hồ Chí Minh',\n",
              " '0380_tests.png': 'ấp ông Trịnh, Xã Tân Phước, Huyện Tân Thành, Bà Rịa - Vũng Tàu',\n",
              " '0381_tests.png': '54A Phan Đình Phùng, Phường Tây Sơn, Thành phố Pleiku, Gia Lai',\n",
              " '0382_tests.png': '25, Tân Trào, Phường Tân An, Quận Ninh Kiều, Cần Thơ',\n",
              " '0383_tests.png': 'Xóm Đông Thành, Xã Vĩnh Thành, Huyện Yên Thành, Nghệ An',\n",
              " '0384_tests.png': 'Số 165/2, KP 7, Phường Tân Hòa, Thành phố Biên Hoà, Đồng Nai',\n",
              " '0385_tests.png': 'Thôn Yênh Mai, Xã Văn Đức, Thị xã Chí Linh, Hải Dương',\n",
              " '0386_tests.png': 'Khối 6A, Thị trấn Anh Sơn, Huyện Anh Sơn, Nghệ Pan',\n",
              " '0387_tests.png': 'Khu công nghiệp N0 M0 KRA, Huyện An Dương, Hải Phòng',\n",
              " '0388_tests.png': '97/53A Nguyễn Văn quá, phường ông Hưng Thuận, Quận 1, Phú Thọ',\n",
              " '0389_tests.png': 'Số 200 Đường Tôn Đức Thắng, Phường Hàng Bột, Quận Đống Đa, Hà Nội',\n",
              " '0390_tests.png': '186/14 Bình Trái, Phường 14, Quận 1, TP Hồ Chí Minh',\n",
              " '0391_tests.png': '94 Nguyễn Cửu Đàm, Phường Tân Sơn Nhì, Quận Tân phú, TP Hồ Chí Minh',\n",
              " '0392_tests.png': 'Số 18 Hào Nam, Phường ô Chợ Dài, Quận Đống Đa, Hà Nội',\n",
              " '0393_tests.png': 'Thị Trấn Cao Lộc, Huyện Cao Lộc, Lạng Sơn',\n",
              " '0394_tests.png': '20 LK28 khu đô thị Văn Phú, Phường Phú La, Quận Hà Đông, Hà Nội',\n",
              " '0395_tests.png': '68 Ba Huyện Thanh Quan, Phường Mỹ An, Quận Ngũ Hành Sơn, Đà Nẵng',\n",
              " '0396_tests.png': 'QL1A, KV 7, Phường Bùi Thị Xuân, Thành Phố Quy Nhơn, Bình Dương',\n",
              " '0397_tests.png': 'ấp Đội 7, xã Mường Bàng, Huyện Tủa Chùa, Điện Biên',\n",
              " '0398_tests.png': '777 Ngô Quyền, Phường An Hải Bắc, Quận Sơn Trà, Đà Nẵng',\n",
              " '0399_tests.png': 'Thôn Thiềng, Xã Tân Xin Hội, Huyện Mang Thát, Vĩnh Long',\n",
              " '0400_tests.png': '63H Cư Xá Phú Lâm D, Phường 16, Quận 6, TP Hồ Chí Minh',\n",
              " '0401_tests.png': 'Xóm Đông, thôn phố Ngoài, Xã Văn Phê, Huyện Mê Linh, Hà Nội',\n",
              " '0402_tests.png': 'Thôn Dừa Lê xã Hải Lưu, Huyện Sông Lô, Vĩnh Phúc',\n",
              " '0403_tests.png': 'Lê hoá, Huyện Tuyên Hoá, Quảng Bình',\n",
              " '0404_tests.png': 'TRi 13, Phường Bảo Nghĩa, Thành Phố Đồng Hới, Quảng Bình',\n",
              " '0405_tests.png': '28 Nguyễn Thị Điệu P.6, Phường 06, Quận 3, TP Hồ Chí Minh',\n",
              " '0406_tests.png': 'Quốc lộ 14, ấp 3, Xã Tân Thành, Thị Xã Đồng Xoài, Bình Phước',\n",
              " '0407_tests.png': '79 Nguyễn Cư Trinh, Phường Thuận Hoà, Thành phố Huế, Thừa Thiên - Huế',\n",
              " '0408_tests.png': '11 Lê Thánh Tân Phường, Bến Nghé, Quận 1, TP Hồ Chí Minh',\n",
              " '0409_tests.png': 'Tầng 4, số 5A Võ Thị Sáu, Phường Máy Tơ, Quận Ngô Quyền, Thái Phòng',\n",
              " '0410_tests.png': 'Tổ 2, Khu 3, Phường Xân Phú, Thành Phố Liệt Trì, Phú Thọ',\n",
              " '0411_tests.png': '45/5 Đường 4, Khu phố 4, Phường Tam Phú, Quận Thủ Đức, TP Hồ Chí Minh',\n",
              " '0412_tests.png': '59/105B Số Vĩnh Diệu, Phường Khoan Trung, Quận Thanh Xuân, Hà Nội',\n",
              " '0413_tests.png': '296 Lưu Hữu Phước P.15, Phường 15, Quận 8, TP Hồ Chí Minh',\n",
              " '0414_tests.png': '114 Mai Hàm Đế, Phường Bùi Thị Xâm, Quận Hai Bà Mưng, Hà Nội',\n",
              " '0415_tests.png': 'Khu CN Bá Thiện, Xã Bá Hiên, Huyện Bình Xuyên, Vĩnh Phúc',\n",
              " '0416_tests.png': 'Thôn Tân An, xã Đại Lãnh, Huyện Đại Lộc, Quảng Nam',\n",
              " '0417_tests.png': '11 Ngô Văn Trị, phường Phú Lợi, Thành phố Thủ Đầu Mộ, Bình Dương',\n",
              " '0418_tests.png': 'Số 354 Đường Tê Hiệu, Quận Lê Chân, Hải Phòng',\n",
              " '0419_tests.png': 'Xã Tân Thành, Huyện Tân Hiệp, Kiên Giang',\n",
              " '0420_tests.png': '15/1 Lê Thánh Tôn, Phường Bến Nghé, Quận 1, TP Hồ Chí Minh',\n",
              " '0421_tests.png': 'Số 11B Ngô Văn Sở, Phường Ngọc Trạo, Thành phố Thanh Hoá, Thanh Hoá',\n",
              " '0422_tests.png': 'Số 82 Phố An Trạch, Phường Quốc Tư Giám, Quận Đống đa, Hà Nội',\n",
              " '0423_tests.png': 'Thôn Tủ Sơn 1, Xã Đức Lân, Huyện Mộ Đức, Quảng Ngãi',\n",
              " '0424_tests.png': 'Ngõ tư chùa Việt, Xã Cẩm Phúc, Huyện Cẩm Giàng, Hải Dương',\n",
              " '0425_tests.png': 'Phường Trần Hưng Đạo, Tính Ninh Bình, Ninh Bình',\n",
              " '0426_tests.png': '49B Nguyễn Đồ Qung, Phường Tây Thạnh, Quận Tân phú, TP Hồ Chí Minh',\n",
              " '0427_tests.png': 'Thôn Nấm dãn, xã Nậm Dần, Huyện Xón Mần, Hà Giang',\n",
              " '0428_tests.png': '17A Lê Liễu, Phường Tân Quý, Quận Tân phú, TP Hồ Chí Minh',\n",
              " '0429_tests.png': 'ấp Mớc 2, Mỹ Hành Nam, Huyện Đức Hoà, Long An',\n",
              " '0430_tests.png': 'Km 28, Quốc lộ 27A, Xã Quang Sơn, Huyện Ninh Sơn, Ninh Thuận',\n",
              " '0431_tests.png': 'Số 18, ngõ 40h 12/21, phố Đào Tân, Phường Cống Vị, Quận Ba Đình, Hà Nội',\n",
              " '0432_tests.png': 'Số 226B/2 khu phố 1B, Phường An Phú, Tx Thuận An, Bình Dương',\n",
              " '0433_tests.png': '1903-10 đà nhà Vi Phạm A, Phường Mế Trì, Quận Nam Từ Liêm, Hà Nội',\n",
              " '0434_tests.png': 'Sơn Liên, Xã Nghĩa Sơn, Huyện Nghĩa Đàn, Nghệ An',\n",
              " '0435_tests.png': 'SN I, ấp Đông Khê mở Te, Quyền, Hải Phòng',\n",
              " '0436_tests.png': '324 Trần Hưng Đạo, Phường Bà Triệu, Thành Phố Nam Anh, Nam Định',\n",
              " '0437_tests.png': 'Xã Long Định, Xã Long Định, Huyện Bình Đại, Bến Tre',\n",
              " '0438_tests.png': 'Số 2 đường Phùng Hưng, Quận Hà Đông, Hà Nội',\n",
              " '0439_tests.png': 'Thôn Tiền Thắng, Xã Bảo Khê, Thành Phố Hưng Yên, Hưng Yên',\n",
              " '0440_tests.png': '409/12 Nguyễn Trãn P.07, Phường 07, Quận 5, TP Hồ Chí Minh',\n",
              " '0441_tests.png': 'B26 Bản Hoa Mường, Xã Sốp Cộp, Huyện Sốp Cộp, Tân La',\n",
              " '0442_tests.png': 'Xóm Trung, xã 10ng Thành Trung, Huyện Hoà Chung, Tây Ninh',\n",
              " '0443_tests.png': '18D Nguyễn Hàm, Thường 06, Quận 10, TP Hồ Chí Minh',\n",
              " '0444_tests.png': 'Thôn 2, xã Đức Lâu, Huyện Mộ Đức, Quảng Ngãi',\n",
              " '0445_tests.png': '423/22 Nguyễn Kiêm, Phường 09, Quận Phú Nhuận, TP Hồ Chí Minh',\n",
              " '0446_tests.png': '15B - 19 đường Ba Mưởi Thưng Tư, Phường 1, Thành phố Mỹ Thoại Tiền, Giang',\n",
              " '0447_tests.png': 'Thôn Xuân La4, Xã Gia Tiếng, Huyện Gia Kiến, Ninh Bình',\n",
              " '0448_tests.png': 'Số 37 Trần Cao Vân, P. Ngọc Trạo, Thành Phố Thanh Hoá, Thanh Hoá',\n",
              " '0449_tests.png': 'Thôn Vân La, Xã Hồng Yân, Huyện Thường Tín, Hà Nội',\n",
              " '0450_tests.png': 'Thôn La Tiến, Xã Nguyên Hôn, Huyện Phú Cứ, Hưng Yên',\n",
              " '0451_tests.png': 'Tổ dân Phố 5, Tây Sơn, Thành Phố Sông Công, Thái Nguyên',\n",
              " '0452_tests.png': '151A Phạm Hùng, Phường Hoà Xuân, Quận Cẩm Lệ, Đà Nẵng',\n",
              " '0453_tests.png': 'ấp Cái Dây, thị trấn Châu Hưng, Huyện Vĩnh Lợi, Bạc Liêu',\n",
              " '0454_tests.png': '26/11 A, Bê Văn Đàn, Phường An Hoà, Quận Ninh Kiều, Cần Thơ',\n",
              " '0455_tests.png': 'Thôn Chợ, Xã Bình Minh, Huyện Thanh Oai, Hà Nội',\n",
              " '0456_tests.png': 'Thôn 4, Đông Tri, Xã Diễn Ký, Huyện Dừa Châu, Nghệ An',\n",
              " '0457_tests.png': 'Xã quang thành, Xã Quảng Thành, Huyện Hà Hà, Quỳ Ninh',\n",
              " '0458_tests.png': 'Thôn An Thọ, Xã An Chánh, Huyện Hoài Đức, Hà Nội',\n",
              " '0459_tests.png': 'Số 05, phùng Hưng, Phường 9, Thành Phố Đà Lạt, Lâm Đồng',\n",
              " '0460_tests.png': '483 - Trường Chinh, Phường An Khê, Quận Thanh Khê, Đà Nẵng',\n",
              " '0461_tests.png': 'ấp Thạnh Hiệp, Xã Thạnh Phưu, Huyện Bến Lức, Long An',\n",
              " '0462_tests.png': '127/8 F2/106, MBa Thân, Phường An Hòa, Quận Ninh Kiều, Cần Thơ',\n",
              " '0463_tests.png': 'Thôn tổ 4, Thị trấn Kim Công, Huyện Mang Yang, Gia Lai',\n",
              " '0464_tests.png': '8 Đường 12D, phường Long Trạnh Này, Quận 9, TP Hồ Chí Minh',\n",
              " '0465_tests.png': 'thôn Đá Mai 2, Xã Tân Xuân, Huyện Hàm Tân, Bình Thuận',\n",
              " '0466_tests.png': 'Số 100 Phường Quang Trung, Thành Phố Hải Dương, Hải Dương',\n",
              " '0467_tests.png': '56 Hản Đà, F9, Quận 5, TP Hồ Chí Minh',\n",
              " '0468_tests.png': 'Thôn Đông Hồng, Xã Quỳnh Bảo, Huyện Quỳnh Phụ, Thái Bình',\n",
              " '0469_tests.png': 'Thôn Ninh Hải, Xã Minh Châu, Huyện Vân Đồn, Quảng Ninh',\n",
              " '0470_tests.png': 'K34/17 đường Đàm Văn Lế, Phường Hoà An, Quận Cẩm Lệ, Đà Nẵng',\n",
              " '0471_tests.png': 'Xã Tân Hương, Xã Tân Hương, Huyện Đức Thọ, Hà Tĩnh',\n",
              " '0472_tests.png': 'Tổ 9, ấp Trà Hiệp, Xã Trà Vang, Huyện Tân Điên, Tây Ninh',\n",
              " '0473_tests.png': '199/45 Cân Hương, Phường Cân Quý, TP Hồ Chí Minh',\n",
              " '0474_tests.png': 'Số 414 Đà Năng, phường Đông Hải 1, Quận Hải An, Hải Phòng',\n",
              " '0475_tests.png': 'Số 39 ngõ 23 phố Hà Quan, Huỳnh Trung Hà, Quận Cầu Giấy, Hà Nội',\n",
              " '0476_tests.png': 'Thôn Phú An, Đại Thắng, Huyện Đại Lộc, Quảng Nam',\n",
              " '0477_tests.png': '439/74/35 Hộc Lâm, Phường An Lạc, Quận Bình Tân, TP Hồ Chí Minh',\n",
              " '0478_tests.png': 'Thôn Tưng Quang, Xã Hương Quang, Huyện Vũ Quang, Hà Tĩnh',\n",
              " '0479_tests.png': 'Số 38A/20 Khu phố Bình Đường 1, Phường An Bình, Tx Dĩ An, Bình Phước',\n",
              " '0480_tests.png': '256/3 Phạm Văn Chí, Phường 04, Quận 6, TP Hồ Chí Minh',\n",
              " '0481_tests.png': 'Thị trấn Bắc Yên, Huyện Bắc Yên, Sơn La',\n",
              " '0482_tests.png': 'LK1B-35, khu đô thị Mỗ Lao, Phường Mộ Lao, Quận Hà Đông, Hà Nội',\n",
              " '0483_tests.png': 'Số 67 1, đường Quảng Quảng, Quảng Trung, Thành Phố Trạng Sơn, Lạng Sơn',\n",
              " '0484_tests.png': 'Thôn Tiến Và 8, Xã An Tràng, Thành Phố Quyên Quang, Tuyên Quang',\n",
              " '0485_tests.png': 'Số 381, tổ 1, Phường Trần Phú, Quận Hoàng Mai, Hà Nội',\n",
              " '0486_tests.png': 'Thôn Ngọc Loan, Xã Tân Quang, Huyện Văn Lâm, Hưng Yên',\n",
              " '0487_tests.png': '503 Điện Biên Phủ, Phường Phường Đức, Thành phố Huế, Thừa Thiên - Huế',\n",
              " '0488_tests.png': 'Số 010, ấp 1, Xã Hội Nghĩa, Thị Xã Tân Uyên, Bình Dương',\n",
              " '0489_tests.png': 'Tầng 16 Tòa Nhà Sai Touer 29 Lê Duẩn, Quận 1, TP Hồ Chí Minh',\n",
              " '0490_tests.png': 'xã Tân Triều, Xã Tân Triều, Huyện Thinh Trì, Hà Nội',\n",
              " '0491_tests.png': 'Xã Ngọc Lâu, Xã Ngọc Lâu, Huyện Lạc Sơn, Hòa Bình',\n",
              " '0492_tests.png': 'Số 36, ngõ 14, tổ 11, Phường La Khê, Quận Hải Đông, Hà Nội',\n",
              " '0493_tests.png': 'Số 499/6/118 Quang Trưng, Phường 10, Quận Gò Vấp, TP Hồ Chí Minh',\n",
              " '0494_tests.png': 'Khối 1, Phường Thụ Thủy, Thị xã Cửu Lô, Nghệ An',\n",
              " '0495_tests.png': 'Số 5, phố Thanh Đàn, Phường Thanh Trì, Quận Hoàng Mai, Hà Nội',\n",
              " '0496_tests.png': 'ấp Sở Tại, Xã Thạnh phú, Huyện Cái Nước, Cà Mau',\n",
              " '0497_tests.png': '235-237-239-241 Cộng Hòa, Phường 13, Quận Tân Bình, TP Hồ Chí Minh',\n",
              " '0498_tests.png': '114/9 Vươn Lài, phường An Phú Đông, Quận 12, TP Hồ Chí Minh',\n",
              " '0499_tests.png': 'Số nhà 300, tổ dân phố số 1, Phường Văn Quản, Quận Hà Đông, Hà Nội',\n",
              " '0500_tests.png': '37/11/24 đường Phú Định, Phường 16, Quận 8, TP Hồ Chí Minh',\n",
              " '0501_tests.png': 'Số 205 đường Ngô Quyền, Phường Náy Chai, Quận Ngô Quyền, Hải Phòng',\n",
              " '0502_tests.png': 'Thôn 13 Định Bình, Thị trấn Vĩnh Thạnh, Huyện Vĩnh Thạnh, Bình Định',\n",
              " '0503_tests.png': 'Số 10 Đường Trần Nhật Duật, Phường Kim Tân, Thành phố Lào Cai, Lào Cai',\n",
              " '0504_tests.png': 'Số nhà 63 tổ 19, phố Mai Dịch, Phường Hai Dịch, Quận Cầu Giấy, Hà Nội',\n",
              " '0505_tests.png': 'Thôn Tân Ninh, Xã Tân Thủy, Huyện Lệ Thuỷ, Quảng Bình',\n",
              " '0506_tests.png': 'Xóm Đình, Phôn Tự Khoát, Xã Ngũ Hiệp, Huyện Thanh Trì, Hà Nội',\n",
              " '0507_tests.png': 'Phố Bình Minh, Huyện Lục Nam, Bắc Giang',\n",
              " '0508_tests.png': '248 Trường Xa, Phường 02, Quận Phú Nhuận, TP Hồ Chí Minh',\n",
              " '0509_tests.png': 'Số 48 Láng Hạ, Phường Láng Hạ, Quận Đống Đa, Hà Nội',\n",
              " '0510_tests.png': 'Thôn Trung Nghĩa, Xã Hòa Ninh, Huyện Hoà Vang, Đà Nẵng',\n",
              " '0511_tests.png': '553/60B Nguyễn Kiệm, Phường 09, Quận Phú Nhuận, TP Hồ Chí Minh',\n",
              " '0512_tests.png': '125/11 Nguyễn Cưu Vân, Phường 17, Quận Bình Thạnh, TP Hồ Chí Minh',\n",
              " '0513_tests.png': '88 Mai Thị Lưu, Phường Đa Kao, Quận 1, TP Hồ Chí Minh',\n",
              " '0514_tests.png': 'Khu tập thể Xí nghiệp 4, Xã Quyền Thái, Huyện Thuận Trì, Đà Nẵng',\n",
              " '0515_tests.png': '153 Động Văn Ngỹi, Phường 14, Quận Phú Nhuận, TP Hồ Chí Minh',\n",
              " '0516_tests.png': 'Thôn Đảo Duy Từ, Xã Nguyên Bình, Huyện Tĩnh Gia, Thanh Hoá',\n",
              " '0517_tests.png': 'ấp Hòa Hưng, Huyện Tân Thạch, Long An',\n",
              " '0518_tests.png': 'Tổ 7, Phường Minh Khai, Thành Phố Phủ Lý, Hà Nam',\n",
              " '0519_tests.png': 'B12/8N/10C ấp 2, Xã Vĩnh Lộc B, Huyện Bình Chánh, TP Hồ Chí Minh',\n",
              " '0520_tests.png': '285/2 Nguyễn Văn Trỗi, Phường 10, Quận Phú Nhuận, TP Hồ Chí Minh',\n",
              " '0521_tests.png': 'Số 149A, ấp Long Hưng, Xã Long Phánh, Thị Xã Gò Công, Tiền Giang',\n",
              " '0522_tests.png': 'Thôn La Báng, Xã Hòa Tiến, Huyện Hoà 7X Vang, Đà Nẵng',\n",
              " '0523_tests.png': 'Số 20, Khu tập thể Thủy Sơn, Phường Mai Dịch, Quận Cầu Giấy, Hà Nội',\n",
              " '0524_tests.png': '92/45 Xã Viết Nghê Tĩnh, Quận Bình Thạnh, TP Hồ Chí Minh',\n",
              " '0525_tests.png': 'Số 400/1A, Phu phố Tân An, Phường Tân Đông Hiệp, Tx Dĩ An, Bình Dương',\n",
              " '0526_tests.png': 'Số 102 - Nguyễn Ai Quốc, Phường Bắc Hồng, Thị xã Hồng Linh, Hà Trị',\n",
              " '0527_tests.png': 'Thôn 8, Xã Đắk Hạ, Huyện Đốk Glong, Đắc Nông',\n",
              " '0528_tests.png': 'Khu 6 Trang Việt, Xã Tràng Việt, Huyện Mê Linh, Hà Nội',\n",
              " '0529_tests.png': '78/1 Đường TA21, Phường Thới An, Quận 12, TP Hồ Chí Minh',\n",
              " '0530_tests.png': '503 Trần Hưng Đạo, Phường 16, Quận 5, TP Hồ Chí Minh',\n",
              " '0531_tests.png': 'ấp 1, Huyện Cầu Đước Long An',\n",
              " '0532_tests.png': '111 Lô 7 Nguyễn Thái Hoa, PTân An, Quận Ninh Trì, Cần Thơ',\n",
              " '0533_tests.png': '75/1 Cây Keo, Phường Tam Phú, Quận Thủ Đức, TP Hồ Chí Minh',\n",
              " '0534_tests.png': 'Thôn Xuân Sơn, Xã Trung Giã, Huyện Sóc Sơn, Hà Nội',\n",
              " '0535_tests.png': 'ấp Cầu Xây Thị trấn Thủ Thừa, Huyện Thủ Thừa, Long An',\n",
              " '0536_tests.png': '62B Trần Bình Trọng, Phường 5, Quận Bình Thạnh, TP Hồ Chí Minh',\n",
              " '0537_tests.png': 'Thôn Sơn Chai, Xã Tá Giàng Phình, Huyện Sa Pa, Lào Cai',\n",
              " '0538_tests.png': '439 An Dương Vương, Phường 03, Quận 5, TP Hồ Chí Minh',\n",
              " '0539_tests.png': '04, KP 3, An 06, Phường An Bình, Thành phố Biên Hoà, Đồng Nai',\n",
              " '0540_tests.png': 'Số 204/15 đường Hải Phòng, Phường Tân Chinh, Quận Thanh Khê, Đà Nẵng',\n",
              " '0541_tests.png': 'Số 24/A, ấp An Viềng, Xã Bình An, Huyện Long Thành, Đồng Nai',\n",
              " '0542_tests.png': 'Đường Cao Thắng, Thôn 11, xã Lộc Ninh, Thành Phố Đồng Hới, Quảng Bình',\n",
              " '0543_tests.png': 'Thôn Ba Đình, Xã An Bình, Huyện Nam Sách, Hải Phòng',\n",
              " '0544_tests.png': 'Thôn AGường - Xã ATiêng, Xã A Tiêng, Huyện Tây Giang, Quảng Nam',\n",
              " '0545_tests.png': '705/66 Sê Văn Sỹ, Phường 1, Quận Tân Bình, TP Hồ Chí Minh',\n",
              " '0546_tests.png': 'Thôn Giang Bắc, Xã Phước Hiệp, Huyện Tuy Phước, Bình Định',\n",
              " '0547_tests.png': 'Thôn Vạn Phúc Xã Vạn Kam, Huyện Mỹ Đức, Hà Nội',\n",
              " '0548_tests.png': 'Đồng Sau - xã Đồng Sơn, Xã Đồng Sơn, Thành Phố Bắc Giang, Bắc Giang'}"
            ]
          },
          "metadata": {},
          "execution_count": 5
        }
      ]
    },
    {
      "cell_type": "code",
      "metadata": {
        "colab": {
          "base_uri": "https://localhost:8080/"
        },
        "id": "8328VlgU-7F9",
        "outputId": "07002fea-bde9-4741-cc79-f49bb73a7895"
      },
      "source": [
        "!pip install jiwer"
      ],
      "execution_count": null,
      "outputs": [
        {
          "output_type": "stream",
          "name": "stdout",
          "text": [
            "Collecting jiwer\n",
            "  Downloading jiwer-2.3.0-py3-none-any.whl (15 kB)\n",
            "Collecting python-Levenshtein==0.12.2\n",
            "  Downloading python-Levenshtein-0.12.2.tar.gz (50 kB)\n",
            "\u001b[?25l\r\u001b[K     |██████▌                         | 10 kB 27.3 MB/s eta 0:00:01\r\u001b[K     |█████████████                   | 20 kB 30.5 MB/s eta 0:00:01\r\u001b[K     |███████████████████▌            | 30 kB 36.6 MB/s eta 0:00:01\r\u001b[K     |██████████████████████████      | 40 kB 41.8 MB/s eta 0:00:01\r\u001b[K     |████████████████████████████████| 50 kB 7.0 MB/s \n",
            "\u001b[?25hRequirement already satisfied: setuptools in /usr/local/lib/python3.7/dist-packages (from python-Levenshtein==0.12.2->jiwer) (57.4.0)\n",
            "Building wheels for collected packages: python-Levenshtein\n",
            "  Building wheel for python-Levenshtein (setup.py) ... \u001b[?25l\u001b[?25hdone\n",
            "  Created wheel for python-Levenshtein: filename=python_Levenshtein-0.12.2-cp37-cp37m-linux_x86_64.whl size=149864 sha256=473ba702b3219247dcf39dec9e35589aabc174ea7471b33039d6454dd138c42a\n",
            "  Stored in directory: /root/.cache/pip/wheels/05/5f/ca/7c4367734892581bb5ff896f15027a932c551080b2abd3e00d\n",
            "Successfully built python-Levenshtein\n",
            "Installing collected packages: python-Levenshtein, jiwer\n",
            "Successfully installed jiwer-2.3.0 python-Levenshtein-0.12.2\n"
          ]
        }
      ]
    },
    {
      "cell_type": "code",
      "metadata": {
        "id": "vOSZCs8J-uFR"
      },
      "source": [
        "import jiwer\n",
        "import pandas as pd\n",
        "import numpy as np\n"
      ],
      "execution_count": null,
      "outputs": []
    },
    {
      "cell_type": "code",
      "metadata": {
        "id": "Id2WR0cgmzZ7"
      },
      "source": [
        "def create_df(test_label, test_pred):\n",
        "  df = {i: [] for i in ['file_name', 'true_label', 'predict', 'cer', 'wer']}\n",
        "  for i in test_label:\n",
        "    df['file_name'].append(i)\n",
        "    df['true_label'].append(test_label[i])\n",
        "    df['predict'].append(test_pred[i])\n",
        "    df['cer'].append(jiwer.cer(test_label[i], test_pred[i]))\n",
        "    df['wer'].append(jiwer.wer(test_label[i], test_pred[i]))\n",
        "  df_test = pd.DataFrame.from_dict(df)\n",
        "  return df_test"
      ],
      "execution_count": null,
      "outputs": []
    },
    {
      "cell_type": "code",
      "metadata": {
        "id": "b5_QNCxn_AAh"
      },
      "source": [
        "CERs, WERs = [], []\n",
        "for i in test_label:\n",
        "  CERs.append(jiwer.cer(test_label[i], test_pred[i]))\n",
        "  WERs.append(jiwer.wer(test_label[i], test_pred[i]))\n",
        "CER = sum(CERs) / len(test_label)\n",
        "WER = sum(WERs) / len(test_label)"
      ],
      "execution_count": null,
      "outputs": []
    },
    {
      "cell_type": "code",
      "metadata": {
        "id": "Qnci5YJzBSRT"
      },
      "source": [
        "df = {i: [] for i in ['file_name', 'true_label', 'predict', 'cer', 'wer']}"
      ],
      "execution_count": null,
      "outputs": []
    },
    {
      "cell_type": "code",
      "metadata": {
        "id": "jykYvWC7KN-y"
      },
      "source": [
        "for i in test_label:\n",
        "  df['file_name'].append(i)\n",
        "  df['true_label'].append(test_label[i])\n",
        "  df['predict'].append(test_pred[i])\n",
        "  df['cer'].append(jiwer.cer(test_label[i], test_pred[i]))\n",
        "  df['wer'].append(jiwer.wer(test_label[i], test_pred[i]))"
      ],
      "execution_count": null,
      "outputs": []
    },
    {
      "cell_type": "code",
      "metadata": {
        "id": "8avokg6iLYab"
      },
      "source": [
        "df_test = pd.DataFrame.from_dict(df)"
      ],
      "execution_count": null,
      "outputs": []
    },
    {
      "cell_type": "code",
      "metadata": {
        "colab": {
          "base_uri": "https://localhost:8080/"
        },
        "id": "ZW2gMt1G_apJ",
        "outputId": "d4d56949-64a9-49f4-d437-2f44cb9f99a7"
      },
      "source": [
        "WER, CER"
      ],
      "execution_count": null,
      "outputs": [
        {
          "output_type": "execute_result",
          "data": {
            "text/plain": [
              "(0.1418864982952097, 0.051800433566024526)"
            ]
          },
          "metadata": {},
          "execution_count": 31
        }
      ]
    },
    {
      "cell_type": "code",
      "metadata": {
        "colab": {
          "base_uri": "https://localhost:8080/",
          "height": 424
        },
        "id": "IprhvX0ZEF0l",
        "outputId": "4cd5cb86-0a5b-44a8-dc4a-cfcecde9306b"
      },
      "source": [
        "df_test"
      ],
      "execution_count": null,
      "outputs": [
        {
          "output_type": "execute_result",
          "data": {
            "text/html": [
              "<div>\n",
              "<style scoped>\n",
              "    .dataframe tbody tr th:only-of-type {\n",
              "        vertical-align: middle;\n",
              "    }\n",
              "\n",
              "    .dataframe tbody tr th {\n",
              "        vertical-align: top;\n",
              "    }\n",
              "\n",
              "    .dataframe thead th {\n",
              "        text-align: right;\n",
              "    }\n",
              "</style>\n",
              "<table border=\"1\" class=\"dataframe\">\n",
              "  <thead>\n",
              "    <tr style=\"text-align: right;\">\n",
              "      <th></th>\n",
              "      <th>file_name</th>\n",
              "      <th>true_label</th>\n",
              "      <th>predict</th>\n",
              "      <th>cer</th>\n",
              "      <th>wer</th>\n",
              "    </tr>\n",
              "  </thead>\n",
              "  <tbody>\n",
              "    <tr>\n",
              "      <th>0</th>\n",
              "      <td>0000_tests.png</td>\n",
              "      <td>Số 10, đường Lý Văn Lâm, Phường 1, Thành Phố C...</td>\n",
              "      <td>Số 10, đường Lý Văn Lâm, Phường 1, Thành Phố C...</td>\n",
              "      <td>0.000000</td>\n",
              "      <td>0.000000</td>\n",
              "    </tr>\n",
              "    <tr>\n",
              "      <th>1</th>\n",
              "      <td>0001_tests.png</td>\n",
              "      <td>271 Huỳnh Ngọc Huệ, Phường Hoà Khê, Quận Thanh...</td>\n",
              "      <td>271 Huỳnh Ngọc Huệ, Phường Hoà Khê, Quận Thanh...</td>\n",
              "      <td>0.000000</td>\n",
              "      <td>0.000000</td>\n",
              "    </tr>\n",
              "    <tr>\n",
              "      <th>2</th>\n",
              "      <td>0002_tests.png</td>\n",
              "      <td>Số 35/70B, KP 9, Phường Hố Nai, Thành Phố Biên...</td>\n",
              "      <td>Số 35/20B, KP 9, Phường Hố Nai, Thành phố Biên...</td>\n",
              "      <td>0.033333</td>\n",
              "      <td>0.153846</td>\n",
              "    </tr>\n",
              "    <tr>\n",
              "      <th>3</th>\n",
              "      <td>0003_tests.png</td>\n",
              "      <td>Số 187, tổ 8, ấp Tân Hòa, Xã Tân Tiến, Huyện B...</td>\n",
              "      <td>Số 18/2, tổ 8, ấp Tân Hòa, Xã Tân Tiến, Huyện ...</td>\n",
              "      <td>0.031746</td>\n",
              "      <td>0.066667</td>\n",
              "    </tr>\n",
              "    <tr>\n",
              "      <th>4</th>\n",
              "      <td>0004_tests.png</td>\n",
              "      <td>Số 47, tổ 2D, khu 1, Phường Gia Cẩm, Thành phố...</td>\n",
              "      <td>Số 43, tổ 2D, Khu 1, Phường Gia Cái, Thành phố...</td>\n",
              "      <td>0.062500</td>\n",
              "      <td>0.200000</td>\n",
              "    </tr>\n",
              "    <tr>\n",
              "      <th>...</th>\n",
              "      <td>...</td>\n",
              "      <td>...</td>\n",
              "      <td>...</td>\n",
              "      <td>...</td>\n",
              "      <td>...</td>\n",
              "    </tr>\n",
              "    <tr>\n",
              "      <th>544</th>\n",
              "      <td>0544_tests.png</td>\n",
              "      <td>Thôn AGrồng - Xã ATiêng, Xã A Tiêng, Huyện Tây...</td>\n",
              "      <td>Thôn AGường - Xã ATiêng, Xã A Tiêng, Huyện Tây...</td>\n",
              "      <td>0.031746</td>\n",
              "      <td>0.076923</td>\n",
              "    </tr>\n",
              "    <tr>\n",
              "      <th>545</th>\n",
              "      <td>0545_tests.png</td>\n",
              "      <td>305/66 Lê Văn Sỹ, Phường 1, Quận Tân Bình, TP ...</td>\n",
              "      <td>705/66 Sê Văn Sỹ, Phường 1, Quận Tân Bình, TP ...</td>\n",
              "      <td>0.035088</td>\n",
              "      <td>0.153846</td>\n",
              "    </tr>\n",
              "    <tr>\n",
              "      <th>546</th>\n",
              "      <td>0546_tests.png</td>\n",
              "      <td>Thôn Giang Bắc, Xã Phước Hiệp, Huyện Tuy Phước...</td>\n",
              "      <td>Thôn Giang Bắc, Xã Phước Hiệp, Huyện Tuy Phước...</td>\n",
              "      <td>0.000000</td>\n",
              "      <td>0.000000</td>\n",
              "    </tr>\n",
              "    <tr>\n",
              "      <th>547</th>\n",
              "      <td>0547_tests.png</td>\n",
              "      <td>Thôn Vạn Phúc, Xã Vạn Kim, Huyện Mỹ Đức, Hà Nội</td>\n",
              "      <td>Thôn Vạn Phúc Xã Vạn Kam, Huyện Mỹ Đức, Hà Nội</td>\n",
              "      <td>0.042553</td>\n",
              "      <td>0.181818</td>\n",
              "    </tr>\n",
              "    <tr>\n",
              "      <th>548</th>\n",
              "      <td>0548_tests.png</td>\n",
              "      <td>Đồng Sau - xã Đồng Sơn, Xã Đồng Sơn, Thành phố...</td>\n",
              "      <td>Đồng Sau - xã Đồng Sơn, Xã Đồng Sơn, Thành Phố...</td>\n",
              "      <td>0.014925</td>\n",
              "      <td>0.066667</td>\n",
              "    </tr>\n",
              "  </tbody>\n",
              "</table>\n",
              "<p>549 rows × 5 columns</p>\n",
              "</div>"
            ],
            "text/plain": [
              "          file_name  ...       wer\n",
              "0    0000_tests.png  ...  0.000000\n",
              "1    0001_tests.png  ...  0.000000\n",
              "2    0002_tests.png  ...  0.153846\n",
              "3    0003_tests.png  ...  0.066667\n",
              "4    0004_tests.png  ...  0.200000\n",
              "..              ...  ...       ...\n",
              "544  0544_tests.png  ...  0.076923\n",
              "545  0545_tests.png  ...  0.153846\n",
              "546  0546_tests.png  ...  0.000000\n",
              "547  0547_tests.png  ...  0.181818\n",
              "548  0548_tests.png  ...  0.066667\n",
              "\n",
              "[549 rows x 5 columns]"
            ]
          },
          "metadata": {},
          "execution_count": 55
        }
      ]
    },
    {
      "cell_type": "code",
      "metadata": {
        "colab": {
          "base_uri": "https://localhost:8080/"
        },
        "id": "qU1sJPDDL5jR",
        "outputId": "50c50d64-cb5a-4aa7-bc6b-80fdef26f209"
      },
      "source": [
        "df_test['cer'].mean()\n"
      ],
      "execution_count": null,
      "outputs": [
        {
          "output_type": "execute_result",
          "data": {
            "text/plain": [
              "0.051800433566024526"
            ]
          },
          "metadata": {},
          "execution_count": 57
        }
      ]
    },
    {
      "cell_type": "code",
      "metadata": {
        "colab": {
          "base_uri": "https://localhost:8080/"
        },
        "id": "e0TZYJcwLxu0",
        "outputId": "a32df600-b863-4f9b-9232-0a06f38720a9"
      },
      "source": [
        "df_test['wer'].mean()"
      ],
      "execution_count": null,
      "outputs": [
        {
          "output_type": "execute_result",
          "data": {
            "text/plain": [
              "0.1418864982952097"
            ]
          },
          "metadata": {},
          "execution_count": 56
        }
      ]
    },
    {
      "cell_type": "code",
      "metadata": {
        "id": "ETjsjNTsmmZ0"
      },
      "source": [
        "valid_label = read_json('valid_label.json')\n",
        "valid_pred = read_json('valid_predict.json')"
      ],
      "execution_count": null,
      "outputs": []
    },
    {
      "cell_type": "code",
      "metadata": {
        "colab": {
          "base_uri": "https://localhost:8080/",
          "height": 424
        },
        "id": "sfhKnwfLmwfT",
        "outputId": "9e1c0f43-2bc1-4840-d147-a10a3b794682"
      },
      "source": [
        "valid_df = create_df(valid_label, valid_pred)\n",
        "valid_df"
      ],
      "execution_count": null,
      "outputs": [
        {
          "output_type": "execute_result",
          "data": {
            "text/html": [
              "<div>\n",
              "<style scoped>\n",
              "    .dataframe tbody tr th:only-of-type {\n",
              "        vertical-align: middle;\n",
              "    }\n",
              "\n",
              "    .dataframe tbody tr th {\n",
              "        vertical-align: top;\n",
              "    }\n",
              "\n",
              "    .dataframe thead th {\n",
              "        text-align: right;\n",
              "    }\n",
              "</style>\n",
              "<table border=\"1\" class=\"dataframe\">\n",
              "  <thead>\n",
              "    <tr style=\"text-align: right;\">\n",
              "      <th></th>\n",
              "      <th>file_name</th>\n",
              "      <th>true_label</th>\n",
              "      <th>predict</th>\n",
              "      <th>cer</th>\n",
              "      <th>wer</th>\n",
              "    </tr>\n",
              "  </thead>\n",
              "  <tbody>\n",
              "    <tr>\n",
              "      <th>0</th>\n",
              "      <td>0000_samples.png</td>\n",
              "      <td>Số 253 đường Trần Phú, Thị trấn Nam Sách, Huyệ...</td>\n",
              "      <td>Số 253 đường Trần Phú, Thị trấn Nam Sách, Huyệ...</td>\n",
              "      <td>0.000000</td>\n",
              "      <td>0.000000</td>\n",
              "    </tr>\n",
              "    <tr>\n",
              "      <th>1</th>\n",
              "      <td>0005_samples.png</td>\n",
              "      <td>27A Hoàng Việt, Phường 4, Quận Tân Bình, TP Hồ...</td>\n",
              "      <td>27A Hoàng Việt, Phường 4, Quận Tân Bình, TP Hồ...</td>\n",
              "      <td>0.000000</td>\n",
              "      <td>0.000000</td>\n",
              "    </tr>\n",
              "    <tr>\n",
              "      <th>2</th>\n",
              "      <td>0010_samples.png</td>\n",
              "      <td>Quốc lộ 29 - Khu phố 1, Thị trấn Hai Riêng, Hu...</td>\n",
              "      <td>Quốc lộ 29 - Khu phố 1, Thị trấn Hai Riêng, Hu...</td>\n",
              "      <td>0.000000</td>\n",
              "      <td>0.000000</td>\n",
              "    </tr>\n",
              "    <tr>\n",
              "      <th>3</th>\n",
              "      <td>0015_samples.png</td>\n",
              "      <td>Phố 2, Huyện Bá Thước, Thanh Hoá</td>\n",
              "      <td>Phố 2, Huyện Bá Thước, Thanh Hoá</td>\n",
              "      <td>0.000000</td>\n",
              "      <td>0.000000</td>\n",
              "    </tr>\n",
              "    <tr>\n",
              "      <th>4</th>\n",
              "      <td>0020_samples.png</td>\n",
              "      <td>117A Bình Thới, Phường 11, Quận 11, TP Hồ Chí ...</td>\n",
              "      <td>117A Bình Thới, Phường 11, Quận 11, TP Hồ Chí ...</td>\n",
              "      <td>0.000000</td>\n",
              "      <td>0.000000</td>\n",
              "    </tr>\n",
              "    <tr>\n",
              "      <th>...</th>\n",
              "      <td>...</td>\n",
              "      <td>...</td>\n",
              "      <td>...</td>\n",
              "      <td>...</td>\n",
              "      <td>...</td>\n",
              "    </tr>\n",
              "    <tr>\n",
              "      <th>360</th>\n",
              "      <td>1800_samples.png</td>\n",
              "      <td>Văn Tràng 1, Huyện An Lão, Hải Phòng</td>\n",
              "      <td>Khu phố Văn Trồng 1, Huyện An CLa, Hải Phòng</td>\n",
              "      <td>0.333333</td>\n",
              "      <td>0.500000</td>\n",
              "    </tr>\n",
              "    <tr>\n",
              "      <th>361</th>\n",
              "      <td>1805_samples.png</td>\n",
              "      <td>497/24/7 Phan Văn Trị, Phường 5, Quận Gò Vấp, ...</td>\n",
              "      <td>19/24/7 Phan Văn Trị, Phường 5, Quận Gò Vấp, T...</td>\n",
              "      <td>0.033333</td>\n",
              "      <td>0.076923</td>\n",
              "    </tr>\n",
              "    <tr>\n",
              "      <th>362</th>\n",
              "      <td>1810_samples.png</td>\n",
              "      <td>Khối 10-Thị trấn Thạch Hà, Huyện Thạch Hà, Hà ...</td>\n",
              "      <td>Khối 10 - Thị trấn Thạch Hà, Huyện Thạch Hà, H...</td>\n",
              "      <td>0.040000</td>\n",
              "      <td>0.300000</td>\n",
              "    </tr>\n",
              "    <tr>\n",
              "      <th>363</th>\n",
              "      <td>1815_samples.png</td>\n",
              "      <td>106/35 Cống Lở, Phường 15, Quận Tân Bình, TP H...</td>\n",
              "      <td>10C/35 Cống Lơ, Phường 15, Quận Tân Bình, TP H...</td>\n",
              "      <td>0.035714</td>\n",
              "      <td>0.166667</td>\n",
              "    </tr>\n",
              "    <tr>\n",
              "      <th>364</th>\n",
              "      <td>1820_samples.png</td>\n",
              "      <td>Số 120/2 Y Ngông, Phường Tân Tiến, TP.Buôn Ma ...</td>\n",
              "      <td>Số 120/2 Y Ngông, Phường Tân Tiến, TP.Buôn Ma ...</td>\n",
              "      <td>0.000000</td>\n",
              "      <td>0.000000</td>\n",
              "    </tr>\n",
              "  </tbody>\n",
              "</table>\n",
              "<p>365 rows × 5 columns</p>\n",
              "</div>"
            ],
            "text/plain": [
              "            file_name  ...       wer\n",
              "0    0000_samples.png  ...  0.000000\n",
              "1    0005_samples.png  ...  0.000000\n",
              "2    0010_samples.png  ...  0.000000\n",
              "3    0015_samples.png  ...  0.000000\n",
              "4    0020_samples.png  ...  0.000000\n",
              "..                ...  ...       ...\n",
              "360  1800_samples.png  ...  0.500000\n",
              "361  1805_samples.png  ...  0.076923\n",
              "362  1810_samples.png  ...  0.300000\n",
              "363  1815_samples.png  ...  0.166667\n",
              "364  1820_samples.png  ...  0.000000\n",
              "\n",
              "[365 rows x 5 columns]"
            ]
          },
          "metadata": {},
          "execution_count": 62
        }
      ]
    },
    {
      "cell_type": "code",
      "metadata": {
        "colab": {
          "base_uri": "https://localhost:8080/"
        },
        "id": "fagCsSYznJjY",
        "outputId": "e5b5aca0-9888-4fb6-f5ae-c934383000a7"
      },
      "source": [
        "print(valid_df.cer.mean())\n",
        "valid_df.wer.mean()"
      ],
      "execution_count": null,
      "outputs": [
        {
          "output_type": "stream",
          "name": "stdout",
          "text": [
            "0.027351566235554275\n"
          ]
        },
        {
          "output_type": "execute_result",
          "data": {
            "text/plain": [
              "0.08836345385297838"
            ]
          },
          "metadata": {},
          "execution_count": 64
        }
      ]
    },
    {
      "cell_type": "code",
      "metadata": {
        "colab": {
          "base_uri": "https://localhost:8080/",
          "height": 755
        },
        "id": "gG0jyeQo2cNX",
        "outputId": "2e937ddd-3927-4db5-fdea-54d935b4c745"
      },
      "source": [
        "train_label = read_json('train_label.json')\n",
        "train_pred = read_json('train_predict.json')\n",
        "\n",
        "train_df = create_df(train_label, train_pred)\n",
        "train_df"
      ],
      "execution_count": null,
      "outputs": [
        {
          "output_type": "stream",
          "name": "stderr",
          "text": [
            "ERROR:root:Internal Python error in the inspect module.\n",
            "Below is the traceback from this internal error.\n",
            "\n"
          ]
        },
        {
          "output_type": "stream",
          "name": "stdout",
          "text": [
            "Traceback (most recent call last):\n",
            "  File \"/usr/local/lib/python3.7/dist-packages/IPython/core/interactiveshell.py\", line 2882, in run_code\n",
            "    exec(code_obj, self.user_global_ns, self.user_ns)\n",
            "  File \"<ipython-input-10-ec1b48ff1d17>\", line 4, in <module>\n",
            "    train_df = create_df(train_label, train_pred)\n",
            "NameError: name 'create_df' is not defined\n",
            "\n",
            "During handling of the above exception, another exception occurred:\n",
            "\n",
            "Traceback (most recent call last):\n",
            "  File \"/usr/local/lib/python3.7/dist-packages/IPython/core/interactiveshell.py\", line 1823, in showtraceback\n",
            "    stb = value._render_traceback_()\n",
            "AttributeError: 'NameError' object has no attribute '_render_traceback_'\n",
            "\n",
            "During handling of the above exception, another exception occurred:\n",
            "\n",
            "Traceback (most recent call last):\n",
            "  File \"/usr/local/lib/python3.7/dist-packages/IPython/core/ultratb.py\", line 1132, in get_records\n",
            "    return _fixed_getinnerframes(etb, number_of_lines_of_context, tb_offset)\n",
            "  File \"/usr/local/lib/python3.7/dist-packages/IPython/core/ultratb.py\", line 313, in wrapped\n",
            "    return f(*args, **kwargs)\n",
            "  File \"/usr/local/lib/python3.7/dist-packages/IPython/core/ultratb.py\", line 358, in _fixed_getinnerframes\n",
            "    records = fix_frame_records_filenames(inspect.getinnerframes(etb, context))\n",
            "  File \"/usr/lib/python3.7/inspect.py\", line 1502, in getinnerframes\n",
            "    frameinfo = (tb.tb_frame,) + getframeinfo(tb, context)\n",
            "  File \"/usr/lib/python3.7/inspect.py\", line 1460, in getframeinfo\n",
            "    filename = getsourcefile(frame) or getfile(frame)\n",
            "  File \"/usr/lib/python3.7/inspect.py\", line 696, in getsourcefile\n",
            "    if getattr(getmodule(object, filename), '__loader__', None) is not None:\n",
            "  File \"/usr/lib/python3.7/inspect.py\", line 725, in getmodule\n",
            "    file = getabsfile(object, _filename)\n",
            "  File \"/usr/lib/python3.7/inspect.py\", line 709, in getabsfile\n",
            "    return os.path.normcase(os.path.abspath(_filename))\n",
            "  File \"/usr/lib/python3.7/posixpath.py\", line 383, in abspath\n",
            "    cwd = os.getcwd()\n",
            "FileNotFoundError: [Errno 2] No such file or directory\n"
          ]
        },
        {
          "output_type": "error",
          "ename": "NameError",
          "evalue": "ignored",
          "traceback": [
            "\u001b[0;31m---------------------------------------------------------------------------\u001b[0m"
          ]
        }
      ]
    },
    {
      "cell_type": "code",
      "metadata": {
        "colab": {
          "base_uri": "https://localhost:8080/"
        },
        "id": "Av_tI9p62mLH",
        "outputId": "ab823afc-1753-43be-8fc0-2564f5e51015"
      },
      "source": [
        "print(train_df.cer.mean())\n",
        "train_df.wer.mean()"
      ],
      "execution_count": null,
      "outputs": [
        {
          "output_type": "stream",
          "name": "stdout",
          "text": [
            "0.0002637056117489236\n"
          ]
        },
        {
          "output_type": "execute_result",
          "data": {
            "text/plain": [
              "0.00037496796756056013"
            ]
          },
          "metadata": {},
          "execution_count": 68
        }
      ]
    }
  ]
}